{
  "cells": [
    {
      "cell_type": "markdown",
      "metadata": {},
      "source": [
        "\n# Optimized weights by level for decoding\n\nIn this example, we load in some example data, and find optimal level weights for decoding.\n"
      ]
    },
    {
      "cell_type": "code",
      "execution_count": null,
      "metadata": {
        "collapsed": false
      },
      "outputs": [],
      "source": [
        "# Code source: Lucy Owen\n# License: MIT\n\n# load timecorr and other packages\nimport timecorr as tc\nimport hypertools as hyp\nimport numpy as np\n\n# load example data\ndata = hyp.load('weights').get_data()\n\n# define your weights parameters\nwidth = 10\nlaplace = {'name': 'Laplace', 'weights': tc.laplace_weights, 'params': {'scale': width}}\n\n# set your number of levels\n# if integer, returns decoding accuracy, error, and rank for specified level\nlevel = 2\n\n\n# run timecorr with specified functions for calculating correlations, as well as combining and reducing\nresults = tc.weighted_timepoint_decoder(np.array(data), level=level, combine=tc.corrmean_combine,\n                               cfun=tc.isfc, rfun='eigenvector_centrality', weights_fun=laplace['weights'],\n                               weights_params=laplace['params'])\n\n\n# returns optimal weighting for mu for all levels up to 2 as well as decoding results for each fold\nprint(results)"
      ]
    }
  ],
  "metadata": {
    "kernelspec": {
      "display_name": "Python 3",
      "language": "python",
      "name": "python3"
    },
    "language_info": {
      "codemirror_mode": {
        "name": "ipython",
        "version": 3
      },
      "file_extension": ".py",
      "mimetype": "text/x-python",
      "name": "python",
      "nbconvert_exporter": "python",
      "pygments_lexer": "ipython3",
      "version": "3.12.4"
    }
  },
  "nbformat": 4,
  "nbformat_minor": 0
}