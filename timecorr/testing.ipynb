{
 "cells": [
  {
   "cell_type": "code",
   "execution_count": 1,
   "metadata": {
    "collapsed": false,
    "deletable": true,
    "editable": true
   },
   "outputs": [
    {
     "name": "stderr",
     "output_type": "stream",
     "text": [
      "/Library/Frameworks/Python.framework/Versions/2.7/lib/python2.7/site-packages/requests/packages/urllib3/util/ssl_.py:334: SNIMissingWarning: An HTTPS request has been made, but the SNI (Subject Name Indication) extension to TLS is not available on this platform. This may cause the server to present an incorrect TLS certificate, which can cause validation failures. You can upgrade to a newer version of Python to solve this. For more information, see https://urllib3.readthedocs.io/en/latest/advanced-usage.html#ssl-warnings\n",
      "  SNIMissingWarning\n",
      "/Library/Frameworks/Python.framework/Versions/2.7/lib/python2.7/site-packages/requests/packages/urllib3/util/ssl_.py:132: InsecurePlatformWarning: A true SSLContext object is not available. This prevents urllib3 from configuring SSL appropriately and may cause certain SSL connections to fail. You can upgrade to a newer version of Python to solve this. For more information, see https://urllib3.readthedocs.io/en/latest/advanced-usage.html#ssl-warnings\n",
      "  InsecurePlatformWarning\n",
      "/Library/Frameworks/Python.framework/Versions/2.7/lib/python2.7/site-packages/requests/packages/urllib3/util/ssl_.py:132: InsecurePlatformWarning: A true SSLContext object is not available. This prevents urllib3 from configuring SSL appropriately and may cause certain SSL connections to fail. You can upgrade to a newer version of Python to solve this. For more information, see https://urllib3.readthedocs.io/en/latest/advanced-usage.html#ssl-warnings\n",
      "  InsecurePlatformWarning\n"
     ]
    },
    {
     "name": "stdout",
     "output_type": "stream",
     "text": [
      "(300, 4950)\n",
      "CPU times: user 2min 26s, sys: 5min 13s, total: 7min 40s\n",
      "Wall time: 11min 43s\n"
     ]
    }
   ],
   "source": [
    "%%time\n",
    "import hypertools as hyp\n",
    "from timecorr import timecorr\n",
    "\n",
    "w = hyp.tools.load('weights')\n",
    "result = timecorr(w,100,3,\"across\")\n",
    "print result.shape"
   ]
  },
  {
   "cell_type": "code",
   "execution_count": 4,
   "metadata": {
    "collapsed": false,
    "deletable": true,
    "editable": true
   },
   "outputs": [
    {
     "name": "stderr",
     "output_type": "stream",
     "text": [
      "/Library/Frameworks/Python.framework/Versions/2.7/lib/python2.7/site-packages/requests/packages/urllib3/util/ssl_.py:132: InsecurePlatformWarning: A true SSLContext object is not available. This prevents urllib3 from configuring SSL appropriately and may cause certain SSL connections to fail. You can upgrade to a newer version of Python to solve this. For more information, see https://urllib3.readthedocs.io/en/latest/advanced-usage.html#ssl-warnings\n",
      "  InsecurePlatformWarning\n",
      "/Library/Frameworks/Python.framework/Versions/2.7/lib/python2.7/site-packages/requests/packages/urllib3/util/ssl_.py:132: InsecurePlatformWarning: A true SSLContext object is not available. This prevents urllib3 from configuring SSL appropriately and may cause certain SSL connections to fail. You can upgrade to a newer version of Python to solve this. For more information, see https://urllib3.readthedocs.io/en/latest/advanced-usage.html#ssl-warnings\n",
      "  InsecurePlatformWarning\n"
     ]
    },
    {
     "name": "stdout",
     "output_type": "stream",
     "text": [
      "(36, 300, 4950)\n",
      "CPU times: user 5min 26s, sys: 2min 5s, total: 7min 32s\n",
      "Wall time: 7min 36s\n"
     ]
    }
   ],
   "source": [
    "%%time\n",
    "import hypertools as hyp\n",
    "from timecorr import timecorr\n",
    "\n",
    "w = hyp.tools.load('weights')\n",
    "result = timecorr(w,100,3,\"within\")\n",
    "print result.shape"
   ]
  },
  {
   "cell_type": "code",
   "execution_count": 1,
   "metadata": {
    "collapsed": false,
    "deletable": true,
    "editable": true,
    "scrolled": true
   },
   "outputs": [
    {
     "name": "stderr",
     "output_type": "stream",
     "text": [
      "/Library/Frameworks/Python.framework/Versions/2.7/lib/python2.7/site-packages/requests/packages/urllib3/util/ssl_.py:334: SNIMissingWarning: An HTTPS request has been made, but the SNI (Subject Name Indication) extension to TLS is not available on this platform. This may cause the server to present an incorrect TLS certificate, which can cause validation failures. You can upgrade to a newer version of Python to solve this. For more information, see https://urllib3.readthedocs.io/en/latest/advanced-usage.html#ssl-warnings\n",
      "  SNIMissingWarning\n",
      "/Library/Frameworks/Python.framework/Versions/2.7/lib/python2.7/site-packages/requests/packages/urllib3/util/ssl_.py:132: InsecurePlatformWarning: A true SSLContext object is not available. This prevents urllib3 from configuring SSL appropriately and may cause certain SSL connections to fail. You can upgrade to a newer version of Python to solve this. For more information, see https://urllib3.readthedocs.io/en/latest/advanced-usage.html#ssl-warnings\n",
      "  InsecurePlatformWarning\n",
      "/Library/Frameworks/Python.framework/Versions/2.7/lib/python2.7/site-packages/requests/packages/urllib3/util/ssl_.py:132: InsecurePlatformWarning: A true SSLContext object is not available. This prevents urllib3 from configuring SSL appropriately and may cause certain SSL connections to fail. You can upgrade to a newer version of Python to solve this. For more information, see https://urllib3.readthedocs.io/en/latest/advanced-usage.html#ssl-warnings\n",
      "  InsecurePlatformWarning\n"
     ]
    },
    {
     "name": "stdout",
     "output_type": "stream",
     "text": [
      "(36, 100, 300)\n",
      "(300, 4950)\n",
      "CPU times: user 2min 28s, sys: 5min 25s, total: 7min 54s\n",
      "Wall time: 12min 34s\n"
     ]
    }
   ],
   "source": [
    "%%time\n",
    "import hypertools as hyp\n",
    "from timecorr import timecorr\n",
    "\n",
    "w = hyp.tools.load('weights')\n",
    "result = timecorr(w,100,3,\"across\")\n",
    "print result.shape"
   ]
  },
  {
   "cell_type": "code",
   "execution_count": 6,
   "metadata": {
    "collapsed": false,
    "deletable": true,
    "editable": true
   },
   "outputs": [
    {
     "name": "stderr",
     "output_type": "stream",
     "text": [
      "/Library/Frameworks/Python.framework/Versions/2.7/lib/python2.7/site-packages/requests/packages/urllib3/util/ssl_.py:132: InsecurePlatformWarning: A true SSLContext object is not available. This prevents urllib3 from configuring SSL appropriately and may cause certain SSL connections to fail. You can upgrade to a newer version of Python to solve this. For more information, see https://urllib3.readthedocs.io/en/latest/advanced-usage.html#ssl-warnings\n",
      "  InsecurePlatformWarning\n",
      "/Library/Frameworks/Python.framework/Versions/2.7/lib/python2.7/site-packages/requests/packages/urllib3/util/ssl_.py:132: InsecurePlatformWarning: A true SSLContext object is not available. This prevents urllib3 from configuring SSL appropriately and may cause certain SSL connections to fail. You can upgrade to a newer version of Python to solve this. For more information, see https://urllib3.readthedocs.io/en/latest/advanced-usage.html#ssl-warnings\n",
      "  InsecurePlatformWarning\n"
     ]
    },
    {
     "name": "stdout",
     "output_type": "stream",
     "text": [
      "[[ 0.21833333  0.22833333  0.205       0.165       0.20833333  0.18166667\n",
      "   0.215       0.22833333  0.20666667  0.22666667  0.18166667  0.23833333\n",
      "   0.225       0.24166667  0.16        0.19333333  0.24333333  0.19333333\n",
      "   0.22166667  0.23333333  0.225       0.21166667  0.205       0.23        0.22\n",
      "   0.21333333  0.195       0.17666667  0.205       0.17333333  0.15166667\n",
      "   0.20666667  0.20166667  0.19333333  0.19833333  0.24333333  0.23833333\n",
      "   0.18166667  0.20666667  0.16        0.20166667  0.23        0.21833333\n",
      "   0.20666667  0.23666667  0.17        0.17        0.21333333  0.19666667\n",
      "   0.23666667  0.235       0.18833333  0.25333333  0.245       0.21333333\n",
      "   0.21833333  0.24166667  0.225       0.22166667  0.20833333  0.22333333\n",
      "   0.195       0.22333333  0.23166667  0.17666667  0.19166667  0.23666667\n",
      "   0.19333333  0.23        0.22333333  0.23        0.19666667  0.20166667\n",
      "   0.18166667  0.22        0.26        0.23833333  0.215       0.22666667\n",
      "   0.165       0.21166667  0.19333333  0.215       0.21833333  0.20333333\n",
      "   0.20666667  0.24166667  0.22        0.23333333  0.21333333  0.19166667\n",
      "   0.21333333  0.20833333  0.245       0.18333333  0.19833333  0.185\n",
      "   0.22833333  0.23833333  0.18666667]]\n",
      "0.210766666667\n"
     ]
    }
   ],
   "source": [
    "import numpy as np\n",
    "from random import shuffle\n",
    "import hypertools as hyp\n",
    "\n",
    "repetitions = 100\n",
    "accuracy_list = np.zeros([1,repetitions])\n",
    "\n",
    "#load in data\n",
    "# filename = \"../data/weights.mat\"\n",
    "activations = hyp.tools.load('weights')\n",
    "# #generate activations from subject weights\n",
    "activations = np.array(activations)\n",
    "subj_num, time_len, activations_len = activations.shape\n",
    "subj_indices = np.arange(subj_num)\n",
    "\n",
    "\n",
    "\n",
    "for tests in range(repetitions):\n",
    "    shuffle(subj_indices)\n",
    "    correlation = np.corrcoef(np.mean(activations[subj_indices[:(subj_num/2)],:,:],0),\\\n",
    "                              np.mean(activations[subj_indices[(subj_num/2):],:,:],0))\n",
    "    correlation1 = correlation[:time_len,time_len:]\n",
    "    correlation2 = correlation[time_len:,:time_len]\n",
    "    accuracy = 0.0\n",
    "    for timepoint in range(time_len):\n",
    "        if np.argmax(correlation1[timepoint])==timepoint:\n",
    "            accuracy+=1\n",
    "        if np.argmax(correlation2[timepoint])==timepoint:\n",
    "            accuracy+=1\n",
    "    accuracy_list[0,tests]=accuracy/(time_len*2)\n",
    "\n",
    "print accuracy_list\n",
    "print(np.mean(accuracy_list))\n"
   ]
  },
  {
   "cell_type": "code",
   "execution_count": 8,
   "metadata": {
    "collapsed": false,
    "deletable": true,
    "editable": true
   },
   "outputs": [
    {
     "name": "stderr",
     "output_type": "stream",
     "text": [
      "/Library/Frameworks/Python.framework/Versions/2.7/lib/python2.7/site-packages/requests/packages/urllib3/util/ssl_.py:132: InsecurePlatformWarning: A true SSLContext object is not available. This prevents urllib3 from configuring SSL appropriately and may cause certain SSL connections to fail. You can upgrade to a newer version of Python to solve this. For more information, see https://urllib3.readthedocs.io/en/latest/advanced-usage.html#ssl-warnings\n",
      "  InsecurePlatformWarning\n",
      "/Library/Frameworks/Python.framework/Versions/2.7/lib/python2.7/site-packages/requests/packages/urllib3/util/ssl_.py:132: InsecurePlatformWarning: A true SSLContext object is not available. This prevents urllib3 from configuring SSL appropriately and may cause certain SSL connections to fail. You can upgrade to a newer version of Python to solve this. For more information, see https://urllib3.readthedocs.io/en/latest/advanced-usage.html#ssl-warnings\n",
      "  InsecurePlatformWarning\n"
     ]
    },
    {
     "name": "stdout",
     "output_type": "stream",
     "text": [
      "(36, 300, 100)\n",
      "[[ 1.  1.  1.  1.  1.  1.  1.  1.  1.  1.  1.  1.  1.  1.  1.  1.  1.  1.\n",
      "   1.  1.  1.  1.  1.  1.  1.  1.  1.  1.  1.  1.  1.  1.  1.  1.  1.  1.\n",
      "   1.  1.  1.  1.  1.  1.  1.  1.  1.  1.  1.  1.  1.  1.  1.  1.  1.  1.\n",
      "   1.  1.  1.  1.  1.  1.  1.  1.  1.  1.  1.  1.  1.  1.  1.  1.  1.  1.\n",
      "   1.  1.  1.  1.  1.  1.  1.  1.  1.  1.  1.  1.  1.  1.  1.  1.  1.  1.\n",
      "   1.  1.  1.  1.  1.  1.  1.  1.  1.  1.]]\n",
      "1.0\n"
     ]
    }
   ],
   "source": [
    "import numpy as np\n",
    "from random import shuffle\n",
    "import hypertools as hyp\n",
    "\n",
    "repetitions = 100\n",
    "accuracy_list = np.zeros([1,repetitions])\n",
    "\n",
    "#load in data\n",
    "# filename = \"../data/weights.mat\"\n",
    "activations = hyp.tools.load('weights')\n",
    "# #generate activations from subject weights\n",
    "activations = np.array(activations)\n",
    "subj_num, time_len, activations_len = activations.shape\n",
    "print(subj_num, time_len, activations_len)\n",
    "subj_indices = np.arange(subj_num)\n",
    "\n",
    "\n",
    "\n",
    "for tests in range(repetitions):\n",
    "    shuffle(subj_indices)\n",
    "    correlation = np.corrcoef(np.mean(activations[subj_indices[:(subj_num/2)],:,:],0),\\\n",
    "                              np.mean(activations[subj_indices[:(subj_num/2)],:,:],0))\n",
    "    correlation1 = correlation[:time_len,time_len:]\n",
    "    correlation2 = correlation[time_len:,:time_len]\n",
    "    accuracy = 0.0\n",
    "    for timepoint in range(time_len):\n",
    "        if np.argmax(correlation1[timepoint])==timepoint:\n",
    "            accuracy+=1\n",
    "        if np.argmax(correlation2[timepoint])==timepoint:\n",
    "            accuracy+=1\n",
    "    accuracy_list[0,tests]=accuracy/(time_len*2)\n",
    "\n",
    "print accuracy_list\n",
    "print(np.mean(accuracy_list))\n"
   ]
  },
  {
   "cell_type": "code",
   "execution_count": 4,
   "metadata": {
    "collapsed": false,
    "deletable": true,
    "editable": true
   },
   "outputs": [],
   "source": [
    "%%cython\n",
    "import numpy as np\n",
    "cimport numpy as np\n",
    "from random import shuffle\n",
    "import hypertools as hyp\n",
    "from timecorr import timecorr\n",
    "\n",
    "def decoding_analysis():\n",
    "    cdef int time_len, activations_len, subj_num, timepoint, subject, tests\n",
    "    cdef double accuracy\n",
    "    cdef np.ndarray[double,ndim=2] covariance1, covariance2, correlation, correlation1, correlation2\n",
    "    cdef np.ndarray[double,ndim=4] coefficients\n",
    "\n",
    "\n",
    "    repetitions = 10\n",
    "    accuracy_list = np.zeros([1,repetitions])\n",
    "\n",
    "    #load in data\n",
    "    # filename = \"../data/weights.mat\"\n",
    "    activations = hyp.tools.load('weights')\n",
    "\n",
    "    # #generate activations from subject weights\n",
    "    activations = np.swapaxes(np.array(activations),1,2)\n",
    "    subj_num, activations_len, time_len = activations.shape\n",
    "    subj_indices = np.arange(subj_num)\n",
    "\n",
    "\n",
    "\n",
    "    for tests in range(repetitions):\n",
    "        shuffle(subj_indices)\n",
    "        corr1 = timecorr(activations[subj_indices[:(subj_num/2)],:,:],1000,3,\"across\").T\n",
    "        corr2 = timecorr(activations[subj_indices[(subj_num/2):],:,:],1000,3,\"across\").T\n",
    "        correlation = np.corrcoef(corr1,corr2)\n",
    "        correlation1 = correlation[:time_len,time_len:]\n",
    "        correlation2 = correlation[time_len:,:time_len]\n",
    "        accuracy = 0.0\n",
    "        for timepoint in range(time_len):\n",
    "            if np.argmax(correlation1[timepoint])==timepoint:\n",
    "                accuracy+=1\n",
    "            if np.argmax(correlation2[timepoint])==timepoint:\n",
    "                accuracy+=1\n",
    "        accuracy_list[0,tests]=accuracy/(time_len*2)\n",
    "        print(tests, correlation.shape[0],correlation.shape[1],accuracy_list[0,tests])\n",
    "\n",
    "    print accuracy_list\n",
    "    print(np.mean(accuracy_list))\n"
   ]
  },
  {
   "cell_type": "code",
   "execution_count": 1,
   "metadata": {
    "collapsed": true,
    "deletable": true,
    "editable": true
   },
   "outputs": [],
   "source": [
    "load_ext cython"
   ]
  },
  {
   "cell_type": "code",
   "execution_count": null,
   "metadata": {
    "collapsed": false,
    "deletable": true,
    "editable": true
   },
   "outputs": [
    {
     "name": "stderr",
     "output_type": "stream",
     "text": [
      "/Library/Frameworks/Python.framework/Versions/2.7/lib/python2.7/site-packages/requests/packages/urllib3/util/ssl_.py:132: InsecurePlatformWarning: A true SSLContext object is not available. This prevents urllib3 from configuring SSL appropriately and may cause certain SSL connections to fail. You can upgrade to a newer version of Python to solve this. For more information, see https://urllib3.readthedocs.io/en/latest/advanced-usage.html#ssl-warnings\n",
      "  InsecurePlatformWarning\n",
      "/Library/Frameworks/Python.framework/Versions/2.7/lib/python2.7/site-packages/requests/packages/urllib3/util/ssl_.py:132: InsecurePlatformWarning: A true SSLContext object is not available. This prevents urllib3 from configuring SSL appropriately and may cause certain SSL connections to fail. You can upgrade to a newer version of Python to solve this. For more information, see https://urllib3.readthedocs.io/en/latest/advanced-usage.html#ssl-warnings\n",
      "  InsecurePlatformWarning\n"
     ]
    }
   ],
   "source": [
    "decoding_analysis()"
   ]
  },
  {
   "cell_type": "code",
   "execution_count": 1,
   "metadata": {
    "collapsed": true,
    "deletable": true,
    "editable": true
   },
   "outputs": [],
   "source": [
    "import numpy as np\n",
    "import scipy.spatial.distance as sd\n",
    "\n",
    "a = np.random.normal(0,10,[5,10000000])\n",
    "b = np.random.normal(0,10,[5,10000000])"
   ]
  },
  {
   "cell_type": "code",
   "execution_count": 4,
   "metadata": {
    "collapsed": false,
    "deletable": true,
    "editable": true
   },
   "outputs": [
    {
     "name": "stdout",
     "output_type": "stream",
     "text": [
      "[[  1.00000000e+00   1.28895929e-04  -5.24754225e-05   5.67034788e-05\n",
      "   -5.73862148e-04]\n",
      " [  1.28895929e-04   1.00000000e+00   2.53411723e-05  -5.18216942e-04\n",
      "    3.81049625e-04]\n",
      " [ -5.24754225e-05   2.53411723e-05   1.00000000e+00  -1.01664679e-04\n",
      "   -2.17103081e-04]\n",
      " [  5.67034788e-05  -5.18216942e-04  -1.01664679e-04   1.00000000e+00\n",
      "    4.92770396e-04]\n",
      " [ -5.73862148e-04   3.81049625e-04  -2.17103081e-04   4.92770396e-04\n",
      "    1.00000000e+00]]\n",
      "CPU times: user 334 ms, sys: 189 ms, total: 523 ms\n",
      "Wall time: 764 ms\n"
     ]
    }
   ],
   "source": [
    "%%time\n",
    "print(np.corrcoef(a))"
   ]
  },
  {
   "cell_type": "code",
   "execution_count": 5,
   "metadata": {
    "collapsed": false,
    "deletable": true,
    "editable": true
   },
   "outputs": [
    {
     "name": "stdout",
     "output_type": "stream",
     "text": [
      "CPU times: user 673 ms, sys: 392 ms, total: 1.07 s\n",
      "Wall time: 1.44 s\n"
     ]
    },
    {
     "data": {
      "text/plain": [
       "array([[  1.00000000e+00,   1.28895929e-04,  -5.24754225e-05,\n",
       "          5.67034788e-05,  -5.73862148e-04],\n",
       "       [  1.28895929e-04,   1.00000000e+00,   2.53411723e-05,\n",
       "         -5.18216942e-04,   3.81049625e-04],\n",
       "       [ -5.24754225e-05,   2.53411723e-05,   1.00000000e+00,\n",
       "         -1.01664679e-04,  -2.17103081e-04],\n",
       "       [  5.67034788e-05,  -5.18216942e-04,  -1.01664679e-04,\n",
       "          1.00000000e+00,   4.92770396e-04],\n",
       "       [ -5.73862148e-04,   3.81049625e-04,  -2.17103081e-04,\n",
       "          4.92770396e-04,   1.00000000e+00]])"
      ]
     },
     "execution_count": 5,
     "metadata": {},
     "output_type": "execute_result"
    }
   ],
   "source": [
    "%%time\n",
    "1-sd.cdist(a,a,'correlation')"
   ]
  },
  {
   "cell_type": "code",
   "execution_count": null,
   "metadata": {
    "collapsed": true,
    "deletable": true,
    "editable": true
   },
   "outputs": [],
   "source": []
  }
 ],
 "metadata": {
  "kernelspec": {
   "display_name": "Python 2",
   "language": "python",
   "name": "python2"
  },
  "language_info": {
   "codemirror_mode": {
    "name": "ipython",
    "version": 2
   },
   "file_extension": ".py",
   "mimetype": "text/x-python",
   "name": "python",
   "nbconvert_exporter": "python",
   "pygments_lexer": "ipython2",
   "version": "2.7.8"
  }
 },
 "nbformat": 4,
 "nbformat_minor": 2
}
