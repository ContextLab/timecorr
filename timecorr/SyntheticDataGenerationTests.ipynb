{
 "cells": [
  {
   "cell_type": "code",
   "execution_count": 18,
   "metadata": {
    "collapsed": false,
    "deletable": true,
    "editable": true
   },
   "outputs": [],
   "source": [
    "import numpy as np\n",
    "from scipy.linalg import cholesky\n",
    "from scipy.spatial.distance import squareform\n",
    "from scipy.stats.stats import pearsonr\n",
    "\n",
    "def test_data_generation(bl,cn,an):\n",
    "    block_length = bl\n",
    "    covariance_num = cn\n",
    "    activation_num = an\n",
    "    time_len = block_length * covariance_num\n",
    "    covariances = np.zeros([covariance_num,activation_num,activation_num])\n",
    "    activations = np.random.normal(0,10,[activation_num, time_len])\n",
    "    correlations = np.zeros(covariance_num)\n",
    "    MSE = np.zeros(covariance_num)\n",
    "\n",
    "    for i in range(covariance_num):\n",
    "        temp = np.random.normal(0,1,[activation_num,activation_num])\n",
    "        covariances[i] = np.dot(temp,temp.T)\n",
    "#         covariances[i] = covariances[i]/np.max(abs(covariances[i]))\n",
    "    \n",
    "#     for i in range(covariance_num):\n",
    "#         activations[:,(i*block_length):((i+1)*block_length)]=np.dot(cholesky(covariances[i]),activations[:,(i*block_length):((i+1)*block_length)])\n",
    "    for i in range(time_len):\n",
    "        activations[:,i] = np.random.multivariate_normal(np.zeros(activation_num),covariances[i/block_length])\n",
    "\n",
    "    for i in range(covariance_num):\n",
    "        correlations[i] = pearsonr(squareform(np.corrcoef(activations[:,(i*block_length):((i+1)*block_length)]),checks=False),squareform(covariances[i],checks=False))[0]\n",
    "        MSE[i]=np.sum(np.square(np.cov(activations[:,(i*block_length):((i+1)*block_length)])-covariances[i]))\n",
    "    return correlations, MSE\n"
   ]
  },
  {
   "cell_type": "code",
   "execution_count": 16,
   "metadata": {
    "collapsed": false,
    "deletable": true,
    "editable": true
   },
   "outputs": [
    {
     "data": {
      "image/png": "[encoded data removed]",
      "text/plain": [
       "<matplotlib.figure.Figure at 0x10c01c090>"
      ]
     },
     "metadata": {},
     "output_type": "display_data"
    }
   ],
   "source": [
    "#multivariate Gaussian\n",
    "import matplotlib.pyplot as plt\n",
    "f, ((ax1, ax2), (ax3, ax4)) = plt.subplots(2, 2, sharex='col', sharey='row')\n",
    "axis = [ax1,ax2,ax3,ax4]\n",
    "block_lengths = [10,20,50,100]\n",
    "covariance_num = 100\n",
    "activation_num = 20\n",
    "iterations = 100\n",
    "# plt.axis((0,100,0,1))\n",
    "for i in range(len(block_lengths)):\n",
    "    correlation = np.zeros(covariance_num)\n",
    "    for j in range(iterations):\n",
    "        correlation += test_data_generation(block_lengths[i],covariance_num, activation_num)\n",
    "    correlation = correlation/iterations\n",
    "    axis[i].scatter(range(covariance_num),correlation)\n",
    "    axis[i].set_title(\"block length=\"+str(block_lengths[i]))\n",
    "\n",
    "\n",
    "\n",
    "plt.show()"
   ]
  },
  {
   "cell_type": "code",
   "execution_count": null,
   "metadata": {
    "collapsed": false,
    "deletable": true,
    "editable": true
   },
   "outputs": [],
   "source": [
    "#cholesky\n",
    "import matplotlib.pyplot as plt\n",
    "f, ((ax1, ax5), (ax2, ax6), (ax3, ax7), (ax4, ax8)) = plt.subplots(4, 2, sharex='col', sharey='row')\n",
    "axis1 = [ax1,ax2,ax3,ax4]\n",
    "axis2 = [ax5,ax6,ax7,ax8]\n",
    "block_lengths = [10,100,500,1000]\n",
    "covariance_num = 100\n",
    "activation_num = 20\n",
    "iterations = 100\n",
    "# plt.axis((0,100,0,1))\n",
    "for i in range(len(block_lengths)):\n",
    "    correlation = np.zeros(covariance_num)\n",
    "    mse = np.zeros(covariance_num)\n",
    "    for j in range(iterations):\n",
    "        c_tmp, mse_tmp = test_data_generation(block_lengths[i],covariance_num, activation_num)\n",
    "        correlation+=c_tmp\n",
    "        mse+=mse_tmp\n",
    "    correlation = correlation/iterations\n",
    "    mse = mse/iterations\n",
    "    axis1[i].set_ylabel(\"block length=\"+str(block_lengths[i]))\n",
    "    axis1[i].scatter(range(covariance_num),correlation)\n",
    "    axis1[i].set_title(\"correlation\")\n",
    "    axis2[i].scatter(range(covariance_num),mse)\n",
    "    axis2[i].set_title(\"MSE\")\n",
    "plt.show()"
   ]
  },
  {
   "cell_type": "code",
   "execution_count": null,
   "metadata": {
    "collapsed": true
   },
   "outputs": [],
   "source": []
  }
 ],
 "metadata": {
  "kernelspec": {
   "display_name": "Python 2",
   "language": "python",
   "name": "python2"
  },
  "language_info": {
   "codemirror_mode": {
    "name": "ipython",
    "version": 2
   },
   "file_extension": ".py",
   "mimetype": "text/x-python",
   "name": "python",
   "nbconvert_exporter": "python",
   "pygments_lexer": "ipython2",
   "version": "2.7.8"
  }
 },
 "nbformat": 4,
 "nbformat_minor": 2
}
