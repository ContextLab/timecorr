{
  "cells": [
    {
      "cell_type": "code",
      "execution_count": null,
      "metadata": {
        "collapsed": false
      },
      "outputs": [],
      "source": [
        "%matplotlib inline"
      ]
    },
    {
      "cell_type": "markdown",
      "metadata": {},
      "source": [
        "\n# Calculate dynamic correlations\n\n\nIn this example, we calculate dynamic correlations\n\n\n"
      ]
    },
    {
      "cell_type": "code",
      "execution_count": null,
      "metadata": {
        "collapsed": false
      },
      "outputs": [],
      "source": [
        "# Code source: Lucy Owen\n# License: MIT\n\n# load timecorr and other packages\nimport timecorr as tc\nimport numpy as np\n\n\nS = 2\nT = 1000\nK = 10\nB = 5\n\n# define your weights parameters\nwidth = 100\nlaplace = {'name': 'Laplace', 'weights': tc.laplace_weights, 'params': {'scale': width}}\n\n# calculate the dynamic correlation of the two datasets\n\nsubs_data = tc.simulate_data(datagen='block', return_corrs=False, set_random_seed=True, S=S, T=T, K=K, B=B)\n\n\nwcorred_data = tc.wcorr(np.array(subs_data[0]),  np.array(subs_data[1]), weights=laplace['weights'](T))"
      ]
    }
  ],
  "metadata": {
    "kernelspec": {
      "display_name": "Python 3",
      "language": "python",
      "name": "python3"
    },
    "language_info": {
      "codemirror_mode": {
        "name": "ipython",
        "version": 3
      },
      "file_extension": ".py",
      "mimetype": "text/x-python",
      "name": "python",
      "nbconvert_exporter": "python",
      "pygments_lexer": "ipython3",
      "version": "3.6.5"
    }
  },
  "nbformat": 4,
  "nbformat_minor": 0
}