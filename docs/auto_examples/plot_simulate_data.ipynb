{
  "cells": [
    {
      "cell_type": "markdown",
      "metadata": {},
      "source": [
        "\n# Simulate subject data\n\nIn this example, we simulate data\n"
      ]
    },
    {
      "cell_type": "code",
      "execution_count": null,
      "metadata": {
        "collapsed": false
      },
      "outputs": [],
      "source": [
        "# Code source: Lucy Owen\n# License: MIT\n\nimport os\n\nimport matplotlib.pyplot as plt\nimport seaborn as sns\n\n# load timecorr\nimport timecorr as tc\n\n# Configure matplotlib for CI environments\nif os.environ.get(\"CI\") or os.environ.get(\"GITHUB_ACTIONS\"):\n    import matplotlib\n\n    matplotlib.use(\"Agg\")  # Use non-interactive backend in CI\n\n# simulate some data\ndata, corrs = tc.simulate_data(\n    datagen=\"block\", return_corrs=True, set_random_seed=True, S=1, T=100, K=10, B=5\n)\n\n# calculate correlations  - returned squareformed\ntc_vec_data = tc.timecorr(\n    tc.simulate_data(),\n    weights_function=tc.gaussian_weights,\n    weights_params={\"var\": 5},\n    combine=tc.helpers.corrmean_combine,\n)\n\n# convert from vector to matrix format\ntc_mat_data = tc.vec2mat(tc_vec_data)\n\n\n# Helper function to show plots conditionally\ndef show_plot():\n    \"\"\"Show plot only in interactive environments, not in CI.\"\"\"\n    if not (os.environ.get(\"CI\") or os.environ.get(\"GITHUB_ACTIONS\")):\n        plt.show()\n\n\n# plot the 3 correlation matrices different timepoints\nsns.heatmap(tc_mat_data[:, :, 48])\nshow_plot()\nplt.clf()\nsns.heatmap(tc_mat_data[:, :, 50])\nshow_plot()\nplt.clf()\nsns.heatmap(tc_mat_data[:, :, 52])\nshow_plot()\nplt.clf()"
      ]
    }
  ],
  "metadata": {
    "kernelspec": {
      "display_name": "Python 3",
      "language": "python",
      "name": "python3"
    },
    "language_info": {
      "codemirror_mode": {
        "name": "ipython",
        "version": 3
      },
      "file_extension": ".py",
      "mimetype": "text/x-python",
      "name": "python",
      "nbconvert_exporter": "python",
      "pygments_lexer": "ipython3",
      "version": "3.12.4"
    }
  },
  "nbformat": 4,
  "nbformat_minor": 0
}