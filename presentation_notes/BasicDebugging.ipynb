{
 "cells": [
  {
   "cell_type": "markdown",
   "metadata": {},
   "source": [
    "# Debugging Steps:\n",
    "1.\tBreakpoint: Place a breakpoint at the beginning of the sum_fact() function to observe the initialization of resultx and resulty.\n",
    "2.\tStep Through: Set breakpoints on the lines where resultx *= x and resulty *= y to see how the values change after each iteration.\n",
    "# Changes:\n",
    "1.\tInitial Values: resultx and resulty are now set to 1 instead of 0.\n",
    "2.\tAccumulation: I replaced resultx = x and resulty = y with resultx *= x and resulty *= y to accumulate the values (multiplying them through the loop).\n",
    "# Explanation:\n",
    "•\tSetting the results to 1 ensures that you're multiplying the values during each iteration, rather than just setting them to x or y. This makes the calculation accumulate the values.\n",
    "\n"
   ]
  }
 ],
 "metadata": {
  "language_info": {
   "name": "python"
  }
 },
 "nbformat": 4,
 "nbformat_minor": 2
}
