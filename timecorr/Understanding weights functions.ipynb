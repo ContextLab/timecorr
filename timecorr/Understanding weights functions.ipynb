{
 "cells": [
  {
   "cell_type": "code",
   "execution_count": 4,
   "metadata": {
    "collapsed": true
   },
   "outputs": [],
   "source": [
    "# coding: utf-8\n",
    "\n",
    "from past.utils import old_div\n",
    "import numpy as np\n",
    "import scipy.spatial.distance as sd\n",
    "from scipy.linalg import toeplitz\n",
    "import hypertools as hyp\n",
    "import pandas as pd\n",
    "gaussian_params = {'var': 1000}\n",
    "\n",
    "\n",
    "def gaussian_weights(T, params=gaussian_params):\n",
    "    c1 = np.divide(1, np.sqrt(2 * np.math.pi * params['var']))\n",
    "    c2 = np.divide(-1, 2 * params['var'])\n",
    "    sqdiffs = toeplitz(np.arange(T)) ** 2\n",
    "    return c1 * np.exp(c2 * sqdiffs)\n",
    "\n",
    "\n"
   ]
  },
  {
   "cell_type": "code",
   "execution_count": 5,
   "metadata": {
    "collapsed": true
   },
   "outputs": [],
   "source": [
    "data_list= np.random.randn(10,3)\n",
    "pandas_dataframe= pd.DataFrame(np.random.randint(low=0, high=10, size=(2, 2)))\n",
    "numpy_array= np.array([[5, 9], [10, 7], [5, 9]])\n",
    "numpy_array_list= np.array([[8,2],[4,6]]).tolist()"
   ]
  },
  {
   "cell_type": "code",
   "execution_count": 6,
   "metadata": {
    "collapsed": true
   },
   "outputs": [],
   "source": [
    "data_dl = hyp.tools.format_data(data_list)\n",
    "data_pdf = hyp.tools.format_data(pandas_dataframe)\n",
    "data_npa = hyp.tools.format_data(numpy_array)"
   ]
  },
  {
   "cell_type": "code",
   "execution_count": 7,
   "metadata": {
    "collapsed": true
   },
   "outputs": [],
   "source": [
    "def wisfc(data, timepoint_weights, subject_weights=None):\n",
    "    if type(data) != list:\n",
    "        sum = 2 * wcorr(data, data, timepoint_weights)\n",
    "        sum[np.isinf(sum) | np.isnan(sum)] = 0\n",
    "        S = 1\n",
    "        K = data.shape[1]\n",
    "        T = data.shape[0]\n",
    "    elif len(data) == 1:\n",
    "        sum = 2 * wcorr(data[0], data[0], timepoint_weights)\n",
    "        sum[np.isinf(sum) | np.isnan(sum)] = 0\n",
    "        S = 1\n",
    "        K = data[0].shape[1]\n",
    "        T = data[0].shape[0]\n",
    "    else:\n",
    "        subjects = np.arange(len(data))\n",
    "        S = len(subjects)\n",
    "        K = data[0].shape[1]\n",
    "        T = data[0].shape[0]\n",
    "\n",
    "        if subject_weights is None:\n",
    "            connectomes = np.zeros([S, int((K**2 - K) / 2)])\n",
    "            for s in subjects:\n",
    "                connectomes[s, :] = 1 - sd.pdist(data[s].T, metric='correlation')\n",
    "            subject_weights = 1 - sd.squareform(sd.pdist(connectomes.T,\n",
    "                                                metric='correlation'))\n",
    "        else:\n",
    "            subject_weights = np.tile(subject_weights, [S, 1])\n",
    "\n",
    "        sum = np.zeros([K, K, T])\n",
    "        for s in subjects:\n",
    "            a = data[s]\n",
    "            other_inds = list([subjects[subjects != s]][0])\n",
    "            b = weighted_mean(np.stack([data[x] for x in other_inds], axis=2),\n",
    "                              axis=2, weights=subject_weights[s, other_inds])\n",
    "\n",
    "            next = wcorr(a, b, timepoint_weights)\n",
    "            for t in np.arange(T):\n",
    "                x = next[:, :, t]\n",
    "                x[np.isinf(x) | np.isnan(x)] = 0\n",
    "                z = r2z(x)\n",
    "                sum[:, :, t] = np.nansum(np.stack([sum[:, :, t], z + z.T],\n",
    "                                                  axis=2), axis=2)\n",
    "\n",
    "    corrs = np.zeros([T, int(((K**2 - K) / 2) + K)])\n",
    "    for t in np.arange(T):\n",
    "        corrs[t, :] = mat2vec(np.squeeze(z2r(np.divide(sum[:, :, t], 2*S))))\n",
    "\n",
    "    corrs[np.isinf(corrs)] = np.sign(corrs[np.isinf(corrs)])\n",
    "    corrs[np.isnan(corrs)] = 0\n",
    "    return corrs"
   ]
  },
  {
   "cell_type": "code",
   "execution_count": 8,
   "metadata": {},
   "outputs": [
    {
     "ename": "TypeError",
     "evalue": "wisfc() missing 1 required positional argument: 'timepoint_weights'",
     "output_type": "error",
     "traceback": [
      "\u001b[0;31m---------------------------------------------------------------------------\u001b[0m",
      "\u001b[0;31mTypeError\u001b[0m                                 Traceback (most recent call last)",
      "\u001b[0;32m<ipython-input-8-ec8c8c7fdd98>\u001b[0m in \u001b[0;36m<module>\u001b[0;34m()\u001b[0m\n\u001b[0;32m----> 1\u001b[0;31m \u001b[0mwisfc\u001b[0m\u001b[0;34m(\u001b[0m\u001b[0mdata_list\u001b[0m\u001b[0;34m)\u001b[0m\u001b[0;34m\u001b[0m\u001b[0m\n\u001b[0m",
      "\u001b[0;31mTypeError\u001b[0m: wisfc() missing 1 required positional argument: 'timepoint_weights'"
     ]
    }
   ],
   "source": [
    "wisfc(data_list,)"
   ]
  },
  {
   "cell_type": "code",
   "execution_count": null,
   "metadata": {
    "collapsed": true
   },
   "outputs": [],
   "source": []
  }
 ],
 "metadata": {
  "kernelspec": {
   "display_name": "Python 3",
   "language": "python",
   "name": "python3"
  },
  "language_info": {
   "codemirror_mode": {
    "name": "ipython",
    "version": 3
   },
   "file_extension": ".py",
   "mimetype": "text/x-python",
   "name": "python",
   "nbconvert_exporter": "python",
   "pygments_lexer": "ipython3",
   "version": "3.6.3"
  }
 },
 "nbformat": 4,
 "nbformat_minor": 2
}
