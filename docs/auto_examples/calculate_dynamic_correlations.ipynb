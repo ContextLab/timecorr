{
  "cells": [
    {
      "cell_type": "code",
      "execution_count": null,
      "metadata": {
        "collapsed": false
      },
      "outputs": [],
      "source": [
        "%matplotlib inline"
      ]
    },
    {
      "cell_type": "markdown",
      "metadata": {},
      "source": [
        "\n# Calculate dynamic correlations\n\n\nIn this example, we calculate dynamic correlations\n\n\n"
      ]
    },
    {
      "cell_type": "code",
      "execution_count": null,
      "metadata": {
        "collapsed": false
      },
      "outputs": [],
      "source": [
        "# Code source: Lucy Owen\n# License: MIT\n\n# load timecorr and other packages\nimport timecorr as tc\nimport hypertools as hyp\nimport numpy as np\n\n# load helper functions\nfrom timecorr.helpers import wcorr, generate_template_data, generate_subject_data, generate_random_covariance_matrix\n\n\n# define your weights parameters\nwidth = 10\nlaplace = {'name': 'Laplace', 'weights': tc.laplace_weights, 'params': {'scale': width}}\n\n# create synthetic data with specified paramters\nS = 1  # number of subjects\nT = 100  # number of timepoints per event\nE = 10  # number of events\nK = 100  # number of features\n\n# make a timeseries of covariance matrices\ncovs = np.zeros((E, int((K**2 - K)/2 + K)))\nfor event in np.arange(E):\n    covs[event, :] = generate_random_covariance_matrix(K)\n\n# generate 2 synthetic datasets from same covariance matrices\ntemplate_data = generate_template_data(covs, T)\ndata_1 = generate_subject_data(T, E, template_data)\ndata_2 = generate_subject_data(T, E, template_data)\n\n# calculate the dynamic correlation of the two datasets\n# total time = T*E\ntry_wcorr = wcorr(np.array(data_1),  np.array(data_2), weights=laplace['weights'](T*E))"
      ]
    }
  ],
  "metadata": {
    "kernelspec": {
      "display_name": "Python 3",
      "language": "python",
      "name": "python3"
    },
    "language_info": {
      "codemirror_mode": {
        "name": "ipython",
        "version": 3
      },
      "file_extension": ".py",
      "mimetype": "text/x-python",
      "name": "python",
      "nbconvert_exporter": "python",
      "pygments_lexer": "ipython3",
      "version": "3.6.5"
    }
  },
  "nbformat": 4,
  "nbformat_minor": 0
}