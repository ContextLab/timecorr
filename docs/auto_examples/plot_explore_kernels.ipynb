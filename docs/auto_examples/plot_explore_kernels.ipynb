{
  "cells": [
    {
      "cell_type": "markdown",
      "metadata": {},
      "source": [
        "\n# Explore kernels\n\nIn this example, we plot the kernel options provided.\n"
      ]
    },
    {
      "cell_type": "code",
      "execution_count": null,
      "metadata": {
        "collapsed": false
      },
      "outputs": [],
      "source": [
        "# Code source: Lucy Owen\n# License: MIT\n\n# load\nimport timecorr as tc\nimport numpy as np\nfrom matplotlib import pyplot as plt\nimport os\n\n# load helper functions\nfrom timecorr.helpers import plot_weights\n\n# Configure matplotlib for CI environments\nif os.environ.get('CI') or os.environ.get('GITHUB_ACTIONS'):\n    import matplotlib\n    matplotlib.use('Agg')  # Use non-interactive backend in CI\n\n# define number of timepoints\nT = 100\n\n# define width\nwidth = 10\n\n# define functions\nlaplace = {'name': 'Laplace', 'weights': tc.laplace_weights, 'params': {'scale': width}}\ndelta = {'name': '$\\delta$', 'weights': tc.eye_weights, 'params': tc.eye_params}\ngaussian = {'name': 'Gaussian', 'weights': tc.gaussian_weights, 'params': {'var': width}}\nmexican_hat = {'name': 'Mexican hat', 'weights': tc.mexican_hat_weights, 'params': {'sigma': width}}\n\n# Helper function to show plots conditionally\ndef show_plot():\n    \"\"\"Show plot only in interactive environments, not in CI.\"\"\"\n    if not (os.environ.get('CI') or os.environ.get('GITHUB_ACTIONS')):\n        plt.show()\n\n# plot delta\nplot_weights(delta['weights'](T), title='Delta')\nshow_plot()\nplt.clf()\n\n# plot gaussian\nplot_weights(gaussian['weights'](T), title='Gaussian')\nshow_plot()\nplt.clf()\n\n# plot laplace\nplot_weights(laplace['weights'](T), title='Laplace')\nshow_plot()\nplt.clf()\n\n# plot mexican hat\nplot_weights(mexican_hat['weights'](T), title='Mexican hat')\nshow_plot()\nplt.clf()"
      ]
    }
  ],
  "metadata": {
    "kernelspec": {
      "display_name": "Python 3",
      "language": "python",
      "name": "python3"
    },
    "language_info": {
      "codemirror_mode": {
        "name": "ipython",
        "version": 3
      },
      "file_extension": ".py",
      "mimetype": "text/x-python",
      "name": "python",
      "nbconvert_exporter": "python",
      "pygments_lexer": "ipython3",
      "version": "3.12.4"
    }
  },
  "nbformat": 4,
  "nbformat_minor": 0
}