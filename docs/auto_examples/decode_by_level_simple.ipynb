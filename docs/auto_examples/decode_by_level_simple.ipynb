{
  "cells": [
    {
      "cell_type": "markdown",
      "metadata": {},
      "source": [
        "\n# Decode by level (Simple Version)\n\nThis example demonstrates timepoint decoding using hierarchical correlation levels.\nThis simplified version uses synthetic data to ensure reliability.\n"
      ]
    },
    {
      "cell_type": "code",
      "execution_count": null,
      "metadata": {
        "collapsed": false
      },
      "outputs": [],
      "source": [
        "# Code source: Lucy Owen & Enhanced by Claude\n# License: MIT\n\nimport numpy as np\n\n# Load timecorr and other packages\nimport timecorr as tc\n\nprint(\"Timepoint Decoding by Correlation Level (Simple Version)\")\nprint(\"=\" * 60)\n\n# Generate synthetic multi-subject data\nprint(\"\\n1. Generating synthetic multi-subject data...\")\n\nS = 8  # Number of subjects\nT = 60  # Number of timepoints (reduced for faster computation)\nK = 30  # Number of features\n\n# Generate synthetic data with temporal structure\nnp.random.seed(42)\nstructured_data = []\nfor s in range(S):\n    # Create data with temporal autocorrelation\n    base_pattern = np.cumsum(np.random.randn(T, K), axis=0) * 0.1\n    noise = np.random.randn(T, K) * 0.05\n    subject_data = base_pattern + noise\n    structured_data.append(subject_data)\n\n# Convert to numpy array as expected by timepoint_decoder\ndata = np.array(structured_data)\n\nprint(f\"Generated data shape: {data.shape} (subjects, timepoints, features)\")\n\n# Define kernel parameters\nwidth = 10\nlaplace = {\"name\": \"Laplace\", \"weights\": tc.laplace_weights, \"params\": {\"scale\": width}}\n\nprint(f\"\\n2. Using {laplace['name']} kernel with scale={width}\")\n\n# Set your number of levels\n# if integer, returns decoding accuracy, error, and rank for specified level\nlevel = 2\n\nprint(f\"\\n3. Testing timepoint decoding at level {level}...\")\n\ntry:\n    # Run timecorr with specified functions for calculating correlations, as well as combining and reducing\n    results = tc.timepoint_decoder(\n        data,\n        level=level,\n        combine=tc.corrmean_combine,\n        cfun=tc.isfc,\n        rfun=\"eigenvector_centrality\",\n        weights_fun=laplace[\"weights\"],\n        weights_params=laplace[\"params\"],\n    )\n\n    print(f\"\u2713 Level {level} decoding results:\")\n    print(f\"  Accuracy: {results['accuracy']:.3f}\")\n    print(f\"  Error: {results['error']:.3f}\")\n    print(f\"  Rank: {results['rank']:.3f}\")\n\nexcept Exception as e:\n    print(f\"\u2717 Error at level {level}: {e}\")\n    # Try with simpler parameters\n    print(\"\\nTrying with simpler parameters...\")\n    try:\n        results = tc.timepoint_decoder(data, level=0, nfolds=2)\n        print(f\"\u2713 Basic decoding results:\")\n        print(f\"  Accuracy: {results['accuracy']:.3f}\")\n        print(f\"  Error: {results['error']:.3f}\")\n        print(f\"  Rank: {results['rank']:.3f}\")\n    except Exception as e2:\n        print(f\"\u2717 Error with basic parameters: {e2}\")\n        print(\"This suggests an issue with the timepoint_decoder function.\")\n\n# Test multiple levels\nprint(f\"\\n4. Testing multiple levels...\")\nlevels = np.arange(3)  # Test levels 0, 1, 2\n\ntry:\n    results = tc.timepoint_decoder(\n        data,\n        level=levels,\n        combine=tc.corrmean_combine,\n        cfun=tc.isfc,\n        rfun=\"eigenvector_centrality\",\n        weights_fun=laplace[\"weights\"],\n        weights_params=laplace[\"params\"],\n    )\n\n    print(f\"\u2713 Multi-level decoding results:\")\n    if isinstance(results, dict):\n        for key, value in results.items():\n            print(f\"  {key}: {value}\")\n    else:\n        print(f\"  Results: {results}\")\n\nexcept Exception as e:\n    print(f\"\u2717 Error with multiple levels: {e}\")\n    print(\"Timepoint decoder may have compatibility issues with this timecorr version.\")\n\nprint(\"\\n\" + \"=\" * 60)\nprint(\"EXAMPLE COMPLETED\")\nprint(\"Note: If errors occurred, this indicates potential compatibility issues\")\nprint(\"with the timepoint_decoder function in the current timecorr version.\")"
      ]
    }
  ],
  "metadata": {
    "kernelspec": {
      "display_name": "Python 3",
      "language": "python",
      "name": "python3"
    },
    "language_info": {
      "codemirror_mode": {
        "name": "ipython",
        "version": 3
      },
      "file_extension": ".py",
      "mimetype": "text/x-python",
      "name": "python",
      "nbconvert_exporter": "python",
      "pygments_lexer": "ipython3",
      "version": "3.12.4"
    }
  },
  "nbformat": 4,
  "nbformat_minor": 0
}