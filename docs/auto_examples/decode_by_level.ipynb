{
  "cells": [
    {
      "cell_type": "markdown",
      "metadata": {},
      "source": [
        "\n# Decode by level\n\nIn this example, we load in some example data, and decode by level of higher order correlation.\n\nNOTE: This example currently has compatibility issues with the timepoint_decoder function.\nFor a working example, please see the enhanced version in docs/auto_examples/decode_by_level.py\n"
      ]
    },
    {
      "cell_type": "code",
      "execution_count": null,
      "metadata": {
        "collapsed": false
      },
      "outputs": [],
      "source": [
        "# Code source: Lucy Owen\n# License: MIT\n\nimport hypertools as hyp\nimport numpy as np\n\n# load timecorr and other packages\nimport timecorr as tc\n\nprint(\"Timepoint Decoding Example\")\nprint(\"=\" * 30)\nprint(\"NOTE: This example currently has compatibility issues.\")\nprint(\"Please see docs/auto_examples/decode_by_level.py for a working version.\")\nprint(\"=\" * 30)\n\n# load example data\ndata = hyp.load(\"weights\").get_data()\n\n# Convert to numpy array format required by timepoint_decoder\n# timepoint_decoder expects a numpy array with shape (n_subjects, T, K)\ndata_array = np.array(data)\nprint(f\"Data shape: {data_array.shape} (subjects, timepoints, features)\")\n\n# define your weights parameters\nwidth = 10\nlaplace = {\"name\": \"Laplace\", \"weights\": tc.laplace_weights, \"params\": {\"scale\": width}}\n\n# set your number of levels\n# if integer, returns decoding accuracy, error, and rank for specified level\nlevel = 2\n\nprint(f\"\\nAttempting timepoint decoding at level {level}...\")\n\ntry:\n    # run timecorr with specified functions for calculating correlations, as well as combining and reducing\n    results = tc.timepoint_decoder(\n        data_array,\n        level=level,\n        combine=tc.corrmean_combine,\n        cfun=tc.isfc,\n        rfun=\"eigenvector_centrality\",\n        weights_fun=laplace[\"weights\"],\n        weights_params=laplace[\"params\"],\n    )\n\n    # returns only decoding results for level 2\n    print(\"\u2713 SUCCESS: Level 2 decoding results:\")\n    print(results)\n\nexcept Exception as e:\n    print(f\"\u2717 ERROR: {e}\")\n    print(\"This function has compatibility issues with the current version.\")\n\n# set your number of levels\n# if list or array of integers, returns decoding accuracy, error, and rank for all levels\nlevels = np.arange(int(level) + 1)\n\nprint(f\"\\nAttempting multi-level decoding for levels {levels}...\")\n\ntry:\n    # run timecorr with specified functions for calculating correlations, as well as combining and reducing\n    results = tc.timepoint_decoder(\n        data_array,\n        level=levels,\n        combine=tc.corrmean_combine,\n        cfun=tc.isfc,\n        rfun=\"eigenvector_centrality\",\n        weights_fun=laplace[\"weights\"],\n        weights_params=laplace[\"params\"],\n    )\n\n    # returns decoding results for all levels up to level 2\n    print(\"\u2713 SUCCESS: Multi-level decoding results:\")\n    print(results)\n\nexcept Exception as e:\n    print(f\"\u2717 ERROR: {e}\")\n    print(\"This function has compatibility issues with the current version.\")\n\nprint(\"\\n\" + \"=\" * 60)\nprint(\n    \"RECOMMENDATION: Use the enhanced version in docs/auto_examples/decode_by_level.py\"\n)\nprint(\"which uses synthetic data and includes comprehensive error handling.\")"
      ]
    }
  ],
  "metadata": {
    "kernelspec": {
      "display_name": "Python 3",
      "language": "python",
      "name": "python3"
    },
    "language_info": {
      "codemirror_mode": {
        "name": "ipython",
        "version": 3
      },
      "file_extension": ".py",
      "mimetype": "text/x-python",
      "name": "python",
      "nbconvert_exporter": "python",
      "pygments_lexer": "ipython3",
      "version": "3.12.4"
    }
  },
  "nbformat": 4,
  "nbformat_minor": 0
}