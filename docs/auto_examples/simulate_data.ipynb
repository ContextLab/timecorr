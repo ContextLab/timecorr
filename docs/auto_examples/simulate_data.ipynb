{
  "cells": [
    {
      "cell_type": "code",
      "execution_count": null,
      "metadata": {
        "collapsed": false
      },
      "outputs": [],
      "source": [
        "%matplotlib inline"
      ]
    },
    {
      "cell_type": "markdown",
      "metadata": {},
      "source": [
        "\n# Simulate subject data\n\n\nIn this example, we simulate data\n\n\n"
      ]
    },
    {
      "cell_type": "code",
      "execution_count": null,
      "metadata": {
        "collapsed": false
      },
      "outputs": [],
      "source": [
        "# Code source: Lucy Owen\n# License: MIT\n\n# load timecorr and other packages\nimport timecorr as tc\nimport hypertools as hyp\nimport numpy as np\n\n# load helper functions\nfrom timecorr.helpers import generate_template_data, generate_subject_data, generate_random_covariance_matrix\n\n# create synthetic data with specified paramters\nS = 5  #number of subjects\nT = 100  #number of timepoints per event\nE = 10  #number of events\nK = 100  #number of features\n\n#make a timeseries of covariance matrices\ncovs = np.zeros((E, int((K**2 - K)/2 + K)))\nfor event in np.arange(E):\n    covs[event, :] = generate_random_covariance_matrix(K)\n\n# generate synthetic data from covariance matrices\ntemplate_data = generate_template_data(covs, T)\ndata = []\nfor s in np.arange(S):\n    data.append(generate_subject_data(T, E, template_data))"
      ]
    }
  ],
  "metadata": {
    "kernelspec": {
      "display_name": "Python 3",
      "language": "python",
      "name": "python3"
    },
    "language_info": {
      "codemirror_mode": {
        "name": "ipython",
        "version": 3
      },
      "file_extension": ".py",
      "mimetype": "text/x-python",
      "name": "python",
      "nbconvert_exporter": "python",
      "pygments_lexer": "ipython3",
      "version": "3.6.5"
    }
  },
  "nbformat": 4,
  "nbformat_minor": 0
}