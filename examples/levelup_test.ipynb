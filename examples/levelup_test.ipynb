{
 "cells": [
  {
   "cell_type": "code",
   "execution_count": 1,
   "metadata": {
    "collapsed": false
   },
   "outputs": [
    {
     "name": "stdout",
     "output_type": "stream",
     "text": [
      "Requirement already satisfied: hypertools in /Users/ThousandSunny/anaconda/lib/python2.7/site-packages\n",
      "Requirement already satisfied: scipy>=0.17.1 in /Users/ThousandSunny/anaconda/lib/python2.7/site-packages (from hypertools)\n",
      "Requirement already satisfied: pandas>=0.18.0 in /Users/ThousandSunny/anaconda/lib/python2.7/site-packages (from hypertools)\n",
      "Requirement already satisfied: matplotlib>=1.5.1 in /Users/ThousandSunny/anaconda/lib/python2.7/site-packages (from hypertools)\n",
      "Requirement already satisfied: PPCA>=0.0.2 in /Users/ThousandSunny/anaconda/lib/python2.7/site-packages (from hypertools)\n",
      "Requirement already satisfied: numpy>=1.10.4 in /Users/ThousandSunny/anaconda/lib/python2.7/site-packages (from hypertools)\n",
      "Requirement already satisfied: future in /Users/ThousandSunny/anaconda/lib/python2.7/site-packages (from hypertools)\n",
      "Requirement already satisfied: scikit-learn>=0.18.1 in /Users/ThousandSunny/anaconda/lib/python2.7/site-packages (from hypertools)\n",
      "Requirement already satisfied: seaborn>=0.7.1 in /Users/ThousandSunny/anaconda/lib/python2.7/site-packages (from hypertools)\n",
      "Requirement already satisfied: python-dateutil in /Users/ThousandSunny/anaconda/lib/python2.7/site-packages (from pandas>=0.18.0->hypertools)\n",
      "Requirement already satisfied: pytz>=2011k in /Users/ThousandSunny/anaconda/lib/python2.7/site-packages (from pandas>=0.18.0->hypertools)\n",
      "Requirement already satisfied: six>=1.10 in /Users/ThousandSunny/anaconda/lib/python2.7/site-packages (from matplotlib>=1.5.1->hypertools)\n",
      "Requirement already satisfied: functools32 in /Users/ThousandSunny/anaconda/lib/python2.7/site-packages (from matplotlib>=1.5.1->hypertools)\n",
      "Requirement already satisfied: subprocess32 in /Users/ThousandSunny/anaconda/lib/python2.7/site-packages (from matplotlib>=1.5.1->hypertools)\n",
      "Requirement already satisfied: cycler>=0.10 in /Users/ThousandSunny/anaconda/lib/python2.7/site-packages (from matplotlib>=1.5.1->hypertools)\n",
      "Requirement already satisfied: pyparsing!=2.0.4,!=2.1.2,!=2.1.6,>=1.5.6 in /Users/ThousandSunny/anaconda/lib/python2.7/site-packages (from matplotlib>=1.5.1->hypertools)\n"
     ]
    }
   ],
   "source": [
    "!pip install hypertools"
   ]
  },
  {
   "cell_type": "code",
   "execution_count": 1,
   "metadata": {
    "collapsed": false
   },
   "outputs": [
    {
     "name": "stderr",
     "output_type": "stream",
     "text": [
      "/Users/ThousandSunny/anaconda/lib/python2.7/site-packages/sklearn/decomposition/incremental_pca.py:261: RuntimeWarning: Mean of empty slice.\n",
      "  explained_variance[self.n_components_:].mean()\n"
     ]
    },
    {
     "name": "stdout",
     "output_type": "stream",
     "text": [
      "[[ 1.          1.          1.          1.          1.          1.          1.\n",
      "   1.          1.          1.          1.        ]\n",
      " [ 0.99928889  0.99997778  0.88681111  0.73493333  0.63225556  0.53548889\n",
      "   0.47347778  0.39647778  0.31982222  0.23156667  0.18613333]\n",
      " [ 0.8426      0.74877778  0.15801111  0.10344444  0.08006667  0.0617\n",
      "   0.03812222  0.02603333  0.01532222  0.01068889  0.00741111]\n",
      " [ 0.03417778  0.02173333  0.0057      0.00333333  0.00292222  0.00368889\n",
      "   0.0032      0.00361111  0.00345556  0.00311111  0.00377778]\n",
      " [ 0.00374444  0.00327778  0.00321111  0.0031      0.00347778  0.00318889\n",
      "   0.00344444  0.00341111  0.00317778  0.00344444  0.0033    ]]\n"
     ]
    }
   ],
   "source": [
    "import numpy as np\n",
    "from scipy.linalg import cholesky\n",
    "from scipy.spatial.distance import squareform\n",
    "from scipy.stats.stats import pearsonr\n",
    "import sys\n",
    "import os\n",
    "sys.path.append(os.path.abspath('../'))\n",
    "import timecorr\n",
    "import matplotlib.pyplot as plt\n",
    "from math import log\n",
    "from random import shuffle\n",
    "import scipy.spatial.distance as sd\n",
    "\n",
    "sliding_window_length = 51\n",
    "block_length = 1\n",
    "covariance_num = 300\n",
    "noise_level = [0,0.01,0.1,1,10]\n",
    "repetitions=100\n",
    "noise_num = len(noise_level)\n",
    "time_range=time_len = block_length * covariance_num\n",
    "level_num = 11\n",
    "subject_num = 6\n",
    "activation_num = 5\n",
    "\n",
    "# activations = [[np.random.normal(0,1,[activation_num, time_len]) for i in range(subject_num)] for j in range(noise_num)]\n",
    "correlations = np.zeros([covariance_num,activation_num,activation_num])\n",
    "correlation1,correlation2 = np.zeros([activation_num,activation_num]), np.zeros([activation_num,activation_num])\n",
    "all_activations = np.zeros([(level_num-1),repetitions,noise_num,subject_num, time_len,activation_num])\n",
    "\n",
    "def is_pos_def(x):\n",
    "    return np.all(np.linalg.eigvals(x) > 0)\n",
    "\n",
    "def cholesky_ramp_correlation_data():\n",
    "#     global activations, correlations,correlation1,correlation2\n",
    "    correlation1,correlation2 = np.zeros([activation_num,activation_num]), np.zeros([activation_num,activation_num])\n",
    "    correlations = np.zeros([covariance_num,activation_num,activation_num])\n",
    "    activations_temp = np.random.normal(0,1,[activation_num, time_len])\n",
    "    activations = [[np.random.normal(0,1,[activation_num, time_len]) for i in range(subject_num)] for j in range(noise_num)]\n",
    "\n",
    "    while not is_pos_def(correlation1):\n",
    "        feature_map1 = np.random.normal(0,1,[activation_num,activation_num])\n",
    "        correlation1 = np.dot(feature_map1,feature_map1.T)\n",
    "        correlation1 = correlation1/np.max(abs(correlation1))\n",
    "    while not is_pos_def(correlation2):\n",
    "        feature_map2 = np.random.normal(0,1,[activation_num,activation_num])\n",
    "        correlation2 = np.dot(feature_map2,feature_map2.T)\n",
    "        correlation2 = correlation2/np.max(abs(correlation2))\n",
    "    for i in range(time_len):\n",
    "        cov_temp = (time_len-i)*0.5*(np.log(1+correlation1+1e-5) - np.log(1-correlation1+1e-5))/float(time_len)+i*0.5*(np.log(1+correlation2+1e-5) - np.log(1-correlation2+1e-5))/float(time_len)\n",
    "        correlations[i] =  (np.exp(2*cov_temp) - 1)/(np.exp(2*cov_temp) + 1)\n",
    "        activations_temp[:,i] = np.dot(cholesky(correlations[i]),activations_temp[:,i])\n",
    "    for i in range(noise_num):\n",
    "        activations[i]=np.array([(activations_temp+np.random.normal(0,noise_level[i],[activation_num, time_len])).T for s in range(subject_num)])\n",
    "    return activations\n",
    "\n",
    "\n",
    "def decoding_raw_data(data,nfolds):\n",
    "    subj_num=len(data)\n",
    "    subj_indices = range(subj_num)\n",
    "    accuracy = 0\n",
    "    for i in range(nfolds):\n",
    "        shuffle(subj_indices)\n",
    "        in_fold_corrs = np.mean(data[subj_indices[:(subj_num/2)]],0)\n",
    "        out_fold_corrs = np.mean(data[subj_indices[(subj_num/2):]],0)\n",
    "        corrs = 1 - sd.cdist(in_fold_corrs, out_fold_corrs, 'correlation')\n",
    "        accuracy_temp = 0\n",
    "\n",
    "        #timepoint_dists = la.toeplitz(np.arange(corrs.shape[0]))\n",
    "        for t in range(0, corrs.shape[0]):\n",
    "            include_inds = np.arange(corrs.shape[0])\n",
    "            decoded_inds = include_inds[np.where(corrs[t, include_inds] == np.max(corrs[t, include_inds]))]\n",
    "            accuracy_temp += np.mean(decoded_inds == np.array(t))\n",
    "        accuracy_temp /= corrs.shape[0]\n",
    "        accuracy += accuracy_temp\n",
    "    accuracy /= nfolds\n",
    "    return accuracy\n",
    "\n",
    "all_activations[0] = np.load(\"../levelup_data.npy\")\n",
    "decoding_accuracy = np.zeros([noise_num, level_num])\n",
    "for i in range(repetitions):\n",
    "    for n in range(noise_num):\n",
    "        decoding_accuracy[n,0] += timecorr.decode_raw_data(all_activations[0,i,n],nfolds=3)\n",
    "    for l in range(1,level_num):\n",
    "        for n in range(noise_num):\n",
    "            if l>1:\n",
    "                all_activations[(l-1),i,n] = timecorr.levelup(all_activations[(l-2),i,n],mode=\"within\")\n",
    "            results = timecorr.decode(all_activations[(l-1),i,n],nfolds=3, var=None)\n",
    "            decoding_accuracy[n,l]+=results\n",
    "# np.save(\"../all_level_activations\", all_activations)\n",
    "decoding_accuracy/=repetitions\n",
    "print decoding_accuracy"
   ]
  },
  {
   "cell_type": "code",
   "execution_count": 26,
   "metadata": {
    "collapsed": false
   },
   "outputs": [
    {
     "name": "stdout",
     "output_type": "stream",
     "text": [
      "(100, 5, 6, 300, 5)\n"
     ]
    }
   ],
   "source": [
    "\n",
    "\n",
    "\n",
    "\n",
    "\n",
    "\n",
    "\n",
    "\n",
    "for i in range(repetitions):\n",
    "    all_activations[i] = cholesky_ramp_correlation_data()\n",
    "np.save(\"../levelup_data\",all_activations)\n",
    "a = np.load(\"../levelup_data.npy\")\n",
    "print a.shape"
   ]
  },
  {
   "cell_type": "code",
   "execution_count": 2,
   "metadata": {
    "collapsed": false
   },
   "outputs": [],
   "source": [
    "import numpy as np\n",
    "decoding_accuracy=np.array([[ 0.91458889,0.74093333,0.6576,0.57167778,0.47447778,0.37195556,0.31121111,0.24084444,0.16281111,0.11691111],[0.18384444,0.11806667,0.08521111,0.05577778,0.04213333,0.02734444, 0.01523333,0.00993333,0.00733333,0.00542222],[ 0.00638889,0.00366667,0.00318889,0.00294444,0.00318889,0.00321111, 0.00364444,0.00353333,0.00346667,0.00345556],[0.00398889,0.00316667,0.00301111,0.00344444,0.00302222,0.0032, 0.00358889,0.00355556,0.00313333,0.00341111]])\n",
    "decoding_rank = np.array([[0.99959037, 0.99841678, 0.99666744, 0.99393081, 0.98799059, 0.9766147, 0.96091681, 0.94175433, 0.90457041, 0.863937], [0.98344711, 0.97096493, 0.94638507, 0.90449226, 0.83736481, 0.77095552, 0.68761619, 0.61863878, 0.57505619, 0.53926304], [0.60204993, 0.50246048, 0.49407704, 0.50164896, 0.50633081, 0.49559059, 0.50237633, 0.50766111, 0.50382204, 0.49468981], [0.50833926, 0.49337985, 0.49805852, 0.50135726, 0.491788, 0.49667493, 0.50914326, 0.50365296, 0.49207593, 0.50457922]])\n",
    "decoding_error = np.array([[0.0003712,0.00114084,0.00215741,0.00380264,0.00676659,0.01807715,0.02746184,0.04468807,0.07030531,0.09870884],[0.01043263,0.02110238,0.0427647,0.07614359,0.11691364,0.16458997,0.22246499,0.26355864,0.28116748,0.31020409],[0.29388075,0.33556462,0.34893679,0.34017886,0.34864708,0.35523891,0.34702969,0.33590268,0.34231479,0.341923],[ 0.341445,0.34111275,0.34901787,0.34076997,0.35221929,0.34481148,0.33721022,0.3410249,0.34190145,0.33599922]])"
   ]
  },
  {
   "cell_type": "code",
   "execution_count": 8,
   "metadata": {
    "collapsed": false
   },
   "outputs": [
    {
     "data": {
      "image/png": "[encoded data removed]",
      "text/plain": [
       "<matplotlib.figure.Figure at 0x1118912d0>"
      ]
     },
     "metadata": {},
     "output_type": "display_data"
    }
   ],
   "source": [
    "import matplotlib.pyplot as plt\n",
    "noise_level = [0.01,0.1,1,10]\n",
    "noise_num = len(noise_level)\n",
    "f, a1 = plt.subplots(1,1, figsize=(10,5))\n",
    "plt.subplots_adjust(top=0.9)\n",
    "plt.suptitle(\"decoding performance vs level\",fontsize=20)\n",
    "a1.set_ylabel(\"decoding accuracy\")\n",
    "\n",
    "a1.bar(np.arange(1,11),[1]*10,0.2,color='C0',alpha=1,linestyle='-', label=\"noise level 0\")\n",
    "for v in range(noise_num): \n",
    "    a1.bar(np.arange(1,11)+(v+1)*0.2,decoding_accuracy[v],0.2,color='C'+str(v+1),alpha=1,linestyle='-', label=\"noise level \"+str(noise_level[v]))\n",
    "    \n",
    "a1.set_xlabel(\"level\")\n",
    "a1.legend(bbox_to_anchor=(1, 1), loc=0)\n",
    "f.subplots_adjust(hspace=0.3)\n",
    "plt.show()"
   ]
  },
  {
   "cell_type": "code",
   "execution_count": 1,
   "metadata": {
    "collapsed": false
   },
   "outputs": [],
   "source": [
    "import numpy as np\n",
    "from scipy.linalg import cholesky\n",
    "from scipy.spatial.distance import squareform\n",
    "from scipy.stats.stats import pearsonr\n",
    "import sys\n",
    "import os\n",
    "sys.path.append(os.path.abspath('../'))\n",
    "from timecorr.timecorr import levelup, timepoint_decoder\n",
    "from math import log\n",
    "\n",
    "sliding_window_length = 51\n",
    "block_length = 1\n",
    "covariance_num = 300\n",
    "noise_level = [0,0.01,0.1,1,10]\n",
    "repetitions=100\n",
    "noise_num = len(noise_level)\n",
    "time_range=time_len = block_length * covariance_num\n",
    "level_num = 10\n",
    "subject_num = 6\n",
    "activation_num = 5\n",
    "\n",
    "activations = [[np.random.normal(0,1,[activation_num, time_len]) for i in range(subject_num)] for j in range(noise_num)]\n",
    "correlations = np.zeros([covariance_num,activation_num,activation_num])\n",
    "correlation1,correlation2 = np.zeros([activation_num,activation_num]), np.zeros([activation_num,activation_num])\n",
    "\n",
    "\n",
    "def is_pos_def(x):\n",
    "    return np.all(np.linalg.eigvals(x) > 0)\n",
    "\n",
    "def cholesky_ramp_correlation_data():\n",
    "    global activations, correlations,correlation1,correlation2\n",
    "    correlations = np.zeros([covariance_num,activation_num,activation_num])\n",
    "    activations_temp = np.random.normal(0,1,[activation_num, time_len])\n",
    "    \n",
    "    while not is_pos_def(correlation1):\n",
    "        feature_map1 = np.random.normal(0,1,[activation_num,activation_num])\n",
    "        correlation1 = np.dot(feature_map1,feature_map1.T)\n",
    "        correlation1 = correlation1/np.max(abs(correlation1))\n",
    "    while not is_pos_def(correlation2):\n",
    "        feature_map2 = np.random.normal(0,1,[activation_num,activation_num])\n",
    "        correlation2 = np.dot(feature_map2,feature_map2.T)\n",
    "        correlation2 = correlation2/np.max(abs(correlation2))\n",
    "    for i in range(time_len):\n",
    "        cov_temp = (time_len-i)*0.5*(np.log(1+correlation1+1e-5) - np.log(1-correlation1+1e-5))/float(time_len)+i*0.5*(np.log(1+correlation2+1e-5) - np.log(1-correlation2+1e-5))/float(time_len)\n",
    "        correlations[i] =  (np.exp(2*cov_temp) - 1)/(np.exp(2*cov_temp) + 1)\n",
    "        activations_temp[:,i] = np.dot(cholesky(correlations[i]),activations_temp[:,i])\n",
    "    for i in range(noise_num):\n",
    "        activations[i]=[(activations_temp+np.random.normal(0,noise_level[i],[activation_num, time_len])).T for s in range(subject_num)]\n",
    "\n",
    "# decoding_accuracy = np.zeros([noise_num, level_num])\n",
    "\n",
    "for i in range(repetitions):\n",
    "    for l in range(level_num):\n",
    "        for n in range(noise_num):\n",
    "            if l>0:\n",
    "                activations[n] = levelup(activations[n],\"within\")\n",
    "            results = timepoint_decoder(activations[n],nfolds=10)\n",
    "            decoding_accuracy[n,l]+=results\n",
    "decoding_accuracy/=repetitions\n"
   ]
  },
  {
   "cell_type": "code",
   "execution_count": null,
   "metadata": {
    "collapsed": false
   },
   "outputs": [],
   "source": [
    "print(decoding_accuracy)"
   ]
  },
  {
   "cell_type": "code",
   "execution_count": 2,
   "metadata": {
    "collapsed": false
   },
   "outputs": [
    {
     "data": {
      "image/png": "[encoded data removed]",
      "text/plain": [
       "<matplotlib.figure.Figure at 0x10c6e1a50>"
      ]
     },
     "metadata": {},
     "output_type": "display_data"
    }
   ],
   "source": [
    "import matplotlib.pyplot as plt\n",
    "import numpy as np\n",
    "# decoding_accuracy=[[1.,1.,1.,1.,1.,1.,1.,1.,1.,1.,1.],[0.99948889,0.99994444,0.88808889,0.73162222,0.62945556,0.54507778\n",
    "# ,0.45373333,0.36276667,0.28862222,0.20704444,0.14895556],[0.8422,0.75302222,0.15155556,0.1003,0.07525556,0.05063333\n",
    "# ,0.03266667,0.02181111,0.01387778,0.0093,0.00722222],[0.03284444,0.0216,0.00531111,0.00348889,0.00403333,0.00303333\n",
    "# ,0.00362222,0.0036,0.00317778,0.00318889,0.00295556],[0.00361111,0.00332222,0.00311111,0.00348889,0.00325556,0.0033\n",
    "# ,0.00318889,0.00358889,0.00335556,0.003,0.00332222]]\n",
    "\n",
    "# decoding_accuracy = [[1.,1.,1.,1.,1.,1.,1.,1.,1.,1.,1.]\n",
    "# ,[0.99928889,0.99997778,0.88681111,0.73493333,0.63225556,0.53548889,0.47347778,0.39647778,0.31982222,0.23156667,0.18613333],[0.8426,0.74877778,0.15801111,0.10344444,0.08006667,0.0617\n",
    "# ,0.03812222,0.02603333,0.01532222,0.01068889,0.00741111]\n",
    "# ,[0.03417778,0.02173333,0.0057,0.00333333,0.00292222,0.00368889,0.0032,0.00361111,0.00345556,0.00311111,0.00377778]\n",
    "# ,[0.00374444,0.00327778,0.00321111,0.0031,0.00347778,0.00318889,0.00344444,0.00341111,0.00317778,0.00344444,0.0033]]\n",
    "\n",
    "decoding_accuracy = [[1.,1.,1.,1.,1.,1.,1.,1.,1.,1.,1.],\n",
    "[1.,1.,1.,1.,1.,1.,1.\n",
    ",1.,1.,0.93866667,0.65533333],[1.,1.,1.,1.,1.,1.,1.,0.98933333,0.826,0.27033333,0.139],[1.,1.,1.,1.,1.,0.99333333\n",
    ",0.65566667,0.22433333,0.06333333,0.02433333,0.00266667],[1.,1.,0.874,0.38366667,0.12666667,0.031\n",
    ",0.01266667,0.00633333,0.00366667,0.005,0.001],[0.998,0.78766667,0.08266667,0.06933333,0.00633333,0.002\n",
    ",0.00433333,0.00533333,0.00833333,0.006,0.00266667],[0.00466667,0.00366667,0.00433333,0.00366667,0.00733333,0.00133333\n",
    ",0.00133333,0.00266667,0.00133333,0.005,0.002]]\n",
    "noise_level = [0.01,0.1,1,10,100,1000,10000]\n",
    "noise_num = len(noise_level)\n",
    "f, a1 = plt.subplots(1,1, figsize=(10,5))\n",
    "plt.subplots_adjust(top=0.9)\n",
    "plt.suptitle(\"decoding performance vs level\",fontsize=20)\n",
    "a1.set_ylabel(\"decoding accuracy\")\n",
    "\n",
    "for v in range(noise_num): \n",
    "    a1.bar(np.arange(0,11)+v*(1./8),decoding_accuracy[v],1./8,color='C'+str(v),alpha=1,linestyle='-', label=\"noise level \"+str(noise_level[v]))\n",
    "    \n",
    "a1.set_xlabel(\"level\")\n",
    "a1.legend(bbox_to_anchor=(1, 1), loc=0)\n",
    "f.subplots_adjust(hspace=0.3)\n",
    "plt.show()"
   ]
  },
  {
   "cell_type": "code",
   "execution_count": 16,
   "metadata": {
    "collapsed": false
   },
   "outputs": [
    {
     "ename": "NameError",
     "evalue": "name 'decoding_analysis' is not defined",
     "output_type": "error",
     "traceback": [
      "\u001b[0;31m---------------------------------------------------------------------------\u001b[0m",
      "\u001b[0;31mNameError\u001b[0m                                 Traceback (most recent call last)",
      "\u001b[0;32m<ipython-input-16-0c1ab9363cd8>\u001b[0m in \u001b[0;36m<module>\u001b[0;34m()\u001b[0m\n\u001b[1;32m      3\u001b[0m     \u001b[0mcholesky_ramp_correlation_data\u001b[0m\u001b[0;34m(\u001b[0m\u001b[0;34m)\u001b[0m\u001b[0;34m\u001b[0m\u001b[0m\n\u001b[1;32m      4\u001b[0m     \u001b[0;32mfor\u001b[0m \u001b[0mn\u001b[0m \u001b[0;32min\u001b[0m \u001b[0mrange\u001b[0m\u001b[0;34m(\u001b[0m\u001b[0mnoise_num\u001b[0m\u001b[0;34m)\u001b[0m\u001b[0;34m:\u001b[0m\u001b[0;34m\u001b[0m\u001b[0m\n\u001b[0;32m----> 5\u001b[0;31m         \u001b[0mresults\u001b[0m \u001b[0;34m=\u001b[0m \u001b[0mdecoding_analysis\u001b[0m\u001b[0;34m(\u001b[0m\u001b[0mactivations\u001b[0m\u001b[0;34m[\u001b[0m\u001b[0mn\u001b[0m\u001b[0;34m]\u001b[0m\u001b[0;34m)\u001b[0m\u001b[0;34m\u001b[0m\u001b[0m\n\u001b[0m\u001b[1;32m      6\u001b[0m         \u001b[0mdecoding_accuracy\u001b[0m\u001b[0;34m[\u001b[0m\u001b[0mn\u001b[0m\u001b[0;34m]\u001b[0m\u001b[0;34m+=\u001b[0m\u001b[0mresults\u001b[0m\u001b[0;34m\u001b[0m\u001b[0m\n\u001b[1;32m      7\u001b[0m \u001b[0mdecoding_accuracy\u001b[0m\u001b[0;34m/=\u001b[0m\u001b[0mrepetitions\u001b[0m\u001b[0;34m\u001b[0m\u001b[0m\n",
      "\u001b[0;31mNameError\u001b[0m: name 'decoding_analysis' is not defined"
     ]
    }
   ],
   "source": [
    "decoding_accuracy = np.zeros(noise_num)\n",
    "for i in range(100):\n",
    "    cholesky_ramp_correlation_data()\n",
    "    for n in range(noise_num):\n",
    "        results = decoding_analysis(activations[n])\n",
    "        decoding_accuracy[n]+=results\n",
    "decoding_accuracy/=repetitions\n",
    "print(decoding_accuracy)\n"
   ]
  },
  {
   "cell_type": "code",
   "execution_count": null,
   "metadata": {
    "collapsed": true
   },
   "outputs": [],
   "source": []
  }
 ],
 "metadata": {
  "kernelspec": {
   "display_name": "Python 2",
   "language": "python",
   "name": "python2"
  },
  "language_info": {
   "codemirror_mode": {
    "name": "ipython",
    "version": 2
   },
   "file_extension": ".py",
   "mimetype": "text/x-python",
   "name": "python",
   "nbconvert_exporter": "python",
   "pygments_lexer": "ipython2",
   "version": "2.7.13"
  }
 },
 "nbformat": 4,
 "nbformat_minor": 2
}
