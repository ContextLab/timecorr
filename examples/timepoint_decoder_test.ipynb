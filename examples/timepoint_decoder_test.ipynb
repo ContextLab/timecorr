{
 "cells": [
  {
   "cell_type": "code",
   "execution_count": 1,
   "metadata": {
    "collapsed": false
   },
   "outputs": [
    {
     "name": "stdout",
     "output_type": "stream",
     "text": [
      "Requirement already satisfied: hypertools in /Users/ThousandSunny/anaconda/lib/python2.7/site-packages\n",
      "Requirement already satisfied: seaborn>=0.7.1 in /Users/ThousandSunny/anaconda/lib/python2.7/site-packages (from hypertools)\n",
      "Requirement already satisfied: scipy>=0.17.1 in /Users/ThousandSunny/anaconda/lib/python2.7/site-packages (from hypertools)\n",
      "Requirement already satisfied: pandas>=0.18.0 in /Users/ThousandSunny/anaconda/lib/python2.7/site-packages (from hypertools)\n",
      "Requirement already satisfied: matplotlib>=1.5.1 in /Users/ThousandSunny/anaconda/lib/python2.7/site-packages (from hypertools)\n",
      "Requirement already satisfied: PPCA>=0.0.2 in /Users/ThousandSunny/anaconda/lib/python2.7/site-packages (from hypertools)\n",
      "Requirement already satisfied: numpy>=1.10.4 in /Users/ThousandSunny/anaconda/lib/python2.7/site-packages (from hypertools)\n",
      "Requirement already satisfied: future in /Users/ThousandSunny/anaconda/lib/python2.7/site-packages (from hypertools)\n",
      "Requirement already satisfied: scikit-learn>=0.18.1 in /Users/ThousandSunny/anaconda/lib/python2.7/site-packages (from hypertools)\n",
      "Requirement already satisfied: python-dateutil in /Users/ThousandSunny/anaconda/lib/python2.7/site-packages (from pandas>=0.18.0->hypertools)\n",
      "Requirement already satisfied: pytz>=2011k in /Users/ThousandSunny/anaconda/lib/python2.7/site-packages (from pandas>=0.18.0->hypertools)\n",
      "Requirement already satisfied: pyparsing!=2.0.4,!=2.1.2,!=2.1.6,>=1.5.6 in /Users/ThousandSunny/anaconda/lib/python2.7/site-packages (from matplotlib>=1.5.1->hypertools)\n",
      "Requirement already satisfied: cycler>=0.10 in /Users/ThousandSunny/anaconda/lib/python2.7/site-packages (from matplotlib>=1.5.1->hypertools)\n",
      "Requirement already satisfied: six>=1.10 in /Users/ThousandSunny/anaconda/lib/python2.7/site-packages (from matplotlib>=1.5.1->hypertools)\n",
      "Requirement already satisfied: functools32 in /Users/ThousandSunny/anaconda/lib/python2.7/site-packages (from matplotlib>=1.5.1->hypertools)\n",
      "Requirement already satisfied: subprocess32 in /Users/ThousandSunny/anaconda/lib/python2.7/site-packages (from matplotlib>=1.5.1->hypertools)\n"
     ]
    }
   ],
   "source": [
    "!pip install hypertools"
   ]
  },
  {
   "cell_type": "code",
   "execution_count": 2,
   "metadata": {
    "collapsed": false
   },
   "outputs": [
    {
     "name": "stdout",
     "output_type": "stream",
     "text": [
      "{'accuracy': 1.0, 'rank': 1.0, 'error': 0.0}\n",
      "{'accuracy': 1.0, 'rank': 1.0, 'error': 0.0}\n",
      "{'accuracy': 1.0, 'rank': 1.0, 'error': 0.0}\n",
      "{'accuracy': 1.0, 'rank': 1.0, 'error': 0.0}\n",
      "{'accuracy': 1.0, 'rank': 1.0, 'error': 0.0}\n",
      "{'accuracy': 1.0, 'rank': 1.0, 'error': 0.0}\n",
      "{'accuracy': 1.0, 'rank': 1.0, 'error': 0.0}\n",
      "{'accuracy': 1.0, 'rank': 1.0, 'error': 0.0}\n",
      "{'accuracy': 1.0, 'rank': 1.0, 'error': 0.0}\n",
      "{'accuracy': 1.0, 'rank': 1.0, 'error': 0.0}\n",
      "noise level 0.01 results: {'accuracy': 1.0, 'rank': 1.0, 'error': 0.0}\n",
      "{'accuracy': 1.0, 'rank': 1.0, 'error': 0.0}\n",
      "{'accuracy': 1.0, 'rank': 1.0, 'error': 0.0}\n",
      "{'accuracy': 1.0, 'rank': 1.0, 'error': 0.0}\n",
      "{'accuracy': 1.0, 'rank': 1.0, 'error': 0.0}\n",
      "{'accuracy': 1.0, 'rank': 1.0, 'error': 0.0}\n",
      "{'accuracy': 1.0, 'rank': 1.0, 'error': 0.0}\n",
      "{'accuracy': 1.0, 'rank': 1.0, 'error': 0.0}\n",
      "{'accuracy': 1.0, 'rank': 1.0, 'error': 0.0}\n",
      "{'accuracy': 1.0, 'rank': 1.0, 'error': 0.0}\n",
      "{'accuracy': 1.0, 'rank': 1.0, 'error': 0.0}\n",
      "noise level 0.1 results: {'accuracy': 1.0, 'rank': 1.0, 'error': 0.0}\n",
      "{'accuracy': 0.5, 'rank': 0.88888888888888895, 'error': 0.20000000000000004}\n",
      "{'accuracy': 0.5, 'rank': 0.88888888888888895, 'error': 0.20000000000000004}\n",
      "{'accuracy': 0.83333333333333337, 'rank': 0.97222222222222232, 'error': 0.099999999999999992}\n",
      "{'accuracy': 0.83333333333333337, 'rank': 0.97222222222222232, 'error': 0.099999999999999992}\n",
      "{'accuracy': 0.5, 'rank': 0.86111111111111116, 'error': 0.20000000000000004}\n",
      "{'accuracy': 0.5, 'rank': 0.86111111111111116, 'error': 0.20000000000000004}\n",
      "{'accuracy': 1.0, 'rank': 1.0, 'error': 0.0}\n",
      "{'accuracy': 1.0, 'rank': 1.0, 'error': 0.0}\n",
      "{'accuracy': 0.83333333333333337, 'rank': 0.97222222222222232, 'error': 0.033333333333333333}\n",
      "{'accuracy': 0.33333333333333331, 'rank': 0.88888888888888895, 'error': 0.30000000000000004}\n",
      "noise level 1 results: {'accuracy': 0.68333333333333335, 'rank': 0.93055555555555569, 'error': 0.13333333333333336}\n",
      "{'accuracy': 0.16666666666666666, 'rank': 0.49999999999999994, 'error': 0.59999999999999998}\n",
      "{'accuracy': 0.16666666666666666, 'rank': 0.55555555555555558, 'error': 0.3666666666666667}\n",
      "{'accuracy': 0.16666666666666666, 'rank': 0.52777777777777779, 'error': 0.43333333333333335}\n",
      "{'accuracy': 0.16666666666666666, 'rank': 0.55555555555555558, 'error': 0.3666666666666667}\n",
      "{'accuracy': 0.16666666666666666, 'rank': 0.55555555555555558, 'error': 0.3666666666666667}\n",
      "{'accuracy': 0.16666666666666666, 'rank': 0.58333333333333337, 'error': 0.5}\n",
      "{'accuracy': 0.16666666666666666, 'rank': 0.55555555555555558, 'error': 0.5}\n",
      "{'accuracy': 0.16666666666666666, 'rank': 0.58333333333333337, 'error': 0.5}\n",
      "{'accuracy': 0.16666666666666666, 'rank': 0.55555555555555558, 'error': 0.5}\n",
      "{'accuracy': 0.0, 'rank': 0.55555555555555558, 'error': 0.53333333333333333}\n",
      "noise level 10 results: {'accuracy': 0.14999999999999999, 'rank': 0.55277777777777781, 'error': 0.46666666666666662}\n",
      "{'accuracy': 0.33333333333333331, 'rank': 0.69444444444444431, 'error': 0.33333333333333331}\n",
      "{'accuracy': 0.16666666666666666, 'rank': 0.52777777777777768, 'error': 0.5}\n",
      "{'accuracy': 0.16666666666666666, 'rank': 0.69444444444444431, 'error': 0.43333333333333335}\n",
      "{'accuracy': 0.33333333333333331, 'rank': 0.69444444444444431, 'error': 0.33333333333333331}\n",
      "{'accuracy': 0.33333333333333331, 'rank': 0.72222222222222232, 'error': 0.33333333333333331}\n",
      "{'accuracy': 0.33333333333333331, 'rank': 0.66666666666666663, 'error': 0.29999999999999999}\n",
      "{'accuracy': 0.33333333333333331, 'rank': 0.66666666666666663, 'error': 0.29999999999999999}\n",
      "{'accuracy': 0.16666666666666666, 'rank': 0.52777777777777779, 'error': 0.5}\n",
      "{'accuracy': 0.33333333333333331, 'rank': 0.66666666666666663, 'error': 0.3666666666666667}\n",
      "{'accuracy': 0.16666666666666666, 'rank': 0.61111111111111105, 'error': 0.29999999999999999}\n",
      "noise level 100 results: {'accuracy': 0.26666666666666666, 'rank': 0.64722222222222214, 'error': 0.36999999999999994}\n"
     ]
    }
   ],
   "source": [
    "import numpy as np\n",
    "from scipy.linalg import cholesky\n",
    "from scipy.spatial.distance import squareform\n",
    "from scipy.stats.stats import pearsonr\n",
    "import sys\n",
    "import os\n",
    "sys.path.append(os.path.abspath('../'))\n",
    "from timecorr.timecorr import timepoint_decoder\n",
    "import matplotlib.pyplot as plt\n",
    "from math import log\n",
    "\n",
    "sliding_window_length = 51\n",
    "block_length = 1\n",
    "covariance_num = 1000\n",
    "noise_level = [0.01,0.1,1,10,100]\n",
    "repetitions=100\n",
    "noise_num = len(noise_level)\n",
    "time_range=time_len = block_length * covariance_num\n",
    "activation_num = 6\n",
    "subject_num = 5\n",
    "variance = 1000\n",
    "activations = np.random.normal(0,1,[noise_num, subject_num, activation_num, time_len])\n",
    "correlations = np.zeros([covariance_num,activation_num,activation_num])\n",
    "correlation1,correlation2 = np.zeros([activation_num,activation_num]), np.zeros([activation_num,activation_num])\n",
    "\n",
    "\n",
    "def is_pos_def(x):\n",
    "    return np.all(np.linalg.eigvals(x) > 0)\n",
    "\n",
    "def cholesky_ramp_correlation_data():\n",
    "    global activations, correlations,correlation1,correlation2\n",
    "    correlations = np.zeros([covariance_num,activation_num,activation_num])\n",
    "    activations_temp = np.random.normal(0,1,[activation_num, time_len])\n",
    "    \n",
    "    while not is_pos_def(correlation1):\n",
    "        feature_map1 = np.random.normal(0,1,[activation_num,activation_num])\n",
    "        correlation1 = np.dot(feature_map1,feature_map1.T)\n",
    "        correlation1 = correlation1/np.max(abs(correlation1))\n",
    "    while not is_pos_def(correlation2):\n",
    "        feature_map2 = np.random.normal(0,1,[activation_num,activation_num])\n",
    "        correlation2 = np.dot(feature_map2,feature_map2.T)\n",
    "        correlation2 = correlation2/np.max(abs(correlation2))\n",
    "    for i in range(time_len):\n",
    "        cov_temp = (time_len-i)*0.5*(np.log(1+correlation1+1e-5) - np.log(1-correlation1+1e-5))/float(time_len)+i*0.5*(np.log(1+correlation2+1e-5) - np.log(1-correlation2+1e-5))/float(time_len)\n",
    "        correlations[i] =  (np.exp(2*cov_temp) - 1)/(np.exp(2*cov_temp) + 1)\n",
    "        activations_temp[:,i] = np.dot(cholesky(correlations[i]),activations_temp[:,i])\n",
    "    for i in range(noise_num):\n",
    "        activations[i]=np.tile(activations_temp,[subject_num,1,1] )+np.random.normal(0,noise_level[i],[subject_num, activation_num, time_len])\n",
    "        \n",
    "cholesky_ramp_correlation_data()\n",
    "for i in range(noise_num):\n",
    "    print(\"noise level \"+ str(noise_level[i])+\" results: \"+str(timepoint_decoder(activations[i],nfolds=10)))"
   ]
  },
  {
   "cell_type": "code",
   "execution_count": 3,
   "metadata": {
    "collapsed": false
   },
   "outputs": [
    {
     "name": "stderr",
     "output_type": "stream",
     "text": [
      "/Users/ThousandSunny/Documents/Research/timecorr/timecorr/timecorr.py:27: RuntimeWarning: divide by zero encountered in log\n",
      "  return cfun(x, var)\n",
      "/Users/ThousandSunny/Documents/Research/timecorr/timecorr/timecorr.py:27: RuntimeWarning: invalid value encountered in log\n",
      "  return cfun(x, var)\n",
      "/Users/ThousandSunny/Documents/Research/timecorr/timecorr/timecorr.py:27: RuntimeWarning: invalid value encountered in divide\n",
      "  return cfun(x, var)\n"
     ]
    },
    {
     "name": "stdout",
     "output_type": "stream",
     "text": [
      "{'accuracy': 1.0, 'rank': 1.0, 'error': 0.0}\n",
      "{'accuracy': 1.0, 'rank': 1.0, 'error': 0.0}\n",
      "{'accuracy': 1.0, 'rank': 1.0, 'error': 0.0}\n",
      "{'accuracy': 1.0, 'rank': 1.0, 'error': 0.0}\n",
      "{'accuracy': 1.0, 'rank': 1.0, 'error': 0.0}\n",
      "{'accuracy': 1.0, 'rank': 1.0, 'error': 0.0}\n",
      "{'accuracy': 1.0, 'rank': 1.0, 'error': 0.0}\n",
      "{'accuracy': 1.0, 'rank': 1.0, 'error': 0.0}\n",
      "{'accuracy': 1.0, 'rank': 1.0, 'error': 0.0}\n",
      "{'accuracy': 1.0, 'rank': 1.0, 'error': 0.0}\n",
      "Results: {'accuracy': 1.0, 'rank': 1.0, 'error': 0.0}\n"
     ]
    }
   ],
   "source": [
    "import numpy as np\n",
    "from scipy.linalg import cholesky\n",
    "from scipy.spatial.distance import squareform\n",
    "from scipy.stats.stats import pearsonr\n",
    "import sys\n",
    "import os\n",
    "sys.path.append(os.path.abspath('../'))\n",
    "from timecorr.timecorr import timepoint_decoder\n",
    "import matplotlib.pyplot as plt\n",
    "from math import log\n",
    "\n",
    "sliding_window_length = 51\n",
    "block_length = 1\n",
    "covariance_num = 1000\n",
    "noise_level = [0]\n",
    "repetitions=100\n",
    "noise_num = len(noise_level)\n",
    "time_range=time_len = block_length * covariance_num\n",
    "activation_num = 6\n",
    "subject_num = 5\n",
    "variance = 1000\n",
    "activations = np.random.normal(0,1,[noise_num, subject_num, activation_num, time_len])\n",
    "correlations = np.zeros([covariance_num,activation_num,activation_num])\n",
    "correlation1,correlation2 = np.zeros([activation_num,activation_num]), np.zeros([activation_num,activation_num])\n",
    "\n",
    "\n",
    "def is_pos_def(x):\n",
    "    return np.all(np.linalg.eigvals(x) > 0)\n",
    "\n",
    "def cholesky_ramp_correlation_data():\n",
    "    global activations, correlations,correlation1,correlation2\n",
    "    correlations = np.zeros([covariance_num,activation_num,activation_num])\n",
    "    activations_temp = np.random.normal(0,1,[activation_num, time_len])\n",
    "    \n",
    "    while not is_pos_def(correlation1):\n",
    "        feature_map1 = np.random.normal(0,1,[activation_num,activation_num])\n",
    "        correlation1 = np.dot(feature_map1,feature_map1.T)\n",
    "        correlation1 = correlation1/np.max(abs(correlation1))\n",
    "    while not is_pos_def(correlation2):\n",
    "        feature_map2 = np.random.normal(0,1,[activation_num,activation_num])\n",
    "        correlation2 = np.dot(feature_map2,feature_map2.T)\n",
    "        correlation2 = correlation2/np.max(abs(correlation2))\n",
    "    for i in range(time_len):\n",
    "        cov_temp = (time_len-i)*0.5*(np.log(1+correlation1+1e-5) - np.log(1-correlation1+1e-5))/float(time_len)+i*0.5*(np.log(1+correlation2+1e-5) - np.log(1-correlation2+1e-5))/float(time_len)\n",
    "        correlations[i] =  (np.exp(2*cov_temp) - 1)/(np.exp(2*cov_temp) + 1)\n",
    "        activations_temp[:,i] = np.dot(cholesky(correlations[i]),activations_temp[:,i])\n",
    "    for i in range(noise_num):\n",
    "        activations[i]=np.tile(activations_temp,[subject_num,1,1] )+np.random.normal(0,noise_level[i],[subject_num, activation_num, time_len])\n",
    "        \n",
    "cholesky_ramp_correlation_data()\n",
    "print(\"Results: \"+str(timepoint_decoder(activations[0],nfolds=10)))"
   ]
  },
  {
   "cell_type": "code",
   "execution_count": null,
   "metadata": {
    "collapsed": true
   },
   "outputs": [],
   "source": []
  },
  {
   "cell_type": "code",
   "execution_count": null,
   "metadata": {
    "collapsed": true
   },
   "outputs": [],
   "source": []
  }
 ],
 "metadata": {
  "kernelspec": {
   "display_name": "Python 2",
   "language": "python",
   "name": "python2"
  },
  "language_info": {
   "codemirror_mode": {
    "name": "ipython",
    "version": 2
   },
   "file_extension": ".py",
   "mimetype": "text/x-python",
   "name": "python",
   "nbconvert_exporter": "python",
   "pygments_lexer": "ipython2",
   "version": "2.7.13"
  }
 },
 "nbformat": 4,
 "nbformat_minor": 2
}
