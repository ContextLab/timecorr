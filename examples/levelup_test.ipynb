{
 "cells": [
  {
   "cell_type": "code",
   "execution_count": 1,
   "metadata": {
    "collapsed": false
   },
   "outputs": [
    {
     "name": "stdout",
     "output_type": "stream",
     "text": [
      "Requirement already satisfied: hypertools in /Users/ThousandSunny/anaconda/lib/python2.7/site-packages\n",
      "Requirement already satisfied: scipy>=0.17.1 in /Users/ThousandSunny/anaconda/lib/python2.7/site-packages (from hypertools)\n",
      "Requirement already satisfied: pandas>=0.18.0 in /Users/ThousandSunny/anaconda/lib/python2.7/site-packages (from hypertools)\n",
      "Requirement already satisfied: matplotlib>=1.5.1 in /Users/ThousandSunny/anaconda/lib/python2.7/site-packages (from hypertools)\n",
      "Requirement already satisfied: PPCA>=0.0.2 in /Users/ThousandSunny/anaconda/lib/python2.7/site-packages (from hypertools)\n",
      "Requirement already satisfied: numpy>=1.10.4 in /Users/ThousandSunny/anaconda/lib/python2.7/site-packages (from hypertools)\n",
      "Requirement already satisfied: future in /Users/ThousandSunny/anaconda/lib/python2.7/site-packages (from hypertools)\n",
      "Requirement already satisfied: scikit-learn>=0.18.1 in /Users/ThousandSunny/anaconda/lib/python2.7/site-packages (from hypertools)\n",
      "Requirement already satisfied: seaborn>=0.7.1 in /Users/ThousandSunny/anaconda/lib/python2.7/site-packages (from hypertools)\n",
      "Requirement already satisfied: python-dateutil in /Users/ThousandSunny/anaconda/lib/python2.7/site-packages (from pandas>=0.18.0->hypertools)\n",
      "Requirement already satisfied: pytz>=2011k in /Users/ThousandSunny/anaconda/lib/python2.7/site-packages (from pandas>=0.18.0->hypertools)\n",
      "Requirement already satisfied: six>=1.10 in /Users/ThousandSunny/anaconda/lib/python2.7/site-packages (from matplotlib>=1.5.1->hypertools)\n",
      "Requirement already satisfied: functools32 in /Users/ThousandSunny/anaconda/lib/python2.7/site-packages (from matplotlib>=1.5.1->hypertools)\n",
      "Requirement already satisfied: subprocess32 in /Users/ThousandSunny/anaconda/lib/python2.7/site-packages (from matplotlib>=1.5.1->hypertools)\n",
      "Requirement already satisfied: cycler>=0.10 in /Users/ThousandSunny/anaconda/lib/python2.7/site-packages (from matplotlib>=1.5.1->hypertools)\n",
      "Requirement already satisfied: pyparsing!=2.0.4,!=2.1.2,!=2.1.6,>=1.5.6 in /Users/ThousandSunny/anaconda/lib/python2.7/site-packages (from matplotlib>=1.5.1->hypertools)\n"
     ]
    }
   ],
   "source": [
    "!pip install hypertools"
   ]
  },
  {
   "cell_type": "code",
   "execution_count": 1,
   "metadata": {
    "collapsed": false
   },
   "outputs": [
    {
     "name": "stdout",
     "output_type": "stream",
     "text": [
      "[[ 100.          100.          100.          100.          100.          100.\n",
      "   100.          100.          100.        ]\n",
      " [  99.94111111   99.99888889   88.94555556   73.03333333   63.38111111\n",
      "    54.39222222   46.04222222   35.58111111   27.90666667]\n",
      " [  84.16444444   75.25333333   15.86         10.59333333    7.64444444\n",
      "     5.22777778    3.15444444    2.08555556    1.42666667]\n",
      " [   3.34          2.16222222    0.50444444    0.31666667    0.35\n",
      "     0.35444444    0.35222222    0.34          0.36      ]\n",
      " [   0.37          0.29555556    0.30888889    0.35444444    0.35333333\n",
      "     0.30333333    0.36222222    0.37333333    0.31888889]]\n"
     ]
    }
   ],
   "source": [
    "import numpy as np\n",
    "from scipy.linalg import cholesky\n",
    "from scipy.spatial.distance import squareform\n",
    "from scipy.stats.stats import pearsonr\n",
    "import sys\n",
    "import os\n",
    "sys.path.append(os.path.abspath('../'))\n",
    "from timecorr.timecorr import levelup, decode\n",
    "import matplotlib.pyplot as plt\n",
    "from math import log\n",
    "from random import shuffle\n",
    "import scipy.spatial.distance as sd\n",
    "\n",
    "sliding_window_length = 51\n",
    "block_length = 1\n",
    "covariance_num = 300\n",
    "noise_level = [0,0.01,0.1,1,10]\n",
    "repetitions=100\n",
    "noise_num = len(noise_level)\n",
    "time_range=time_len = block_length * covariance_num\n",
    "level_num = 10\n",
    "subject_num = 6\n",
    "activation_num = 5\n",
    "\n",
    "# activations = [[np.random.normal(0,1,[activation_num, time_len]) for i in range(subject_num)] for j in range(noise_num)]\n",
    "correlations = np.zeros([covariance_num,activation_num,activation_num])\n",
    "correlation1,correlation2 = np.zeros([activation_num,activation_num]), np.zeros([activation_num,activation_num])\n",
    "all_activations = np.zeros([repetitions,noise_num,subject_num, time_len,activation_num])\n",
    "\n",
    "def is_pos_def(x):\n",
    "    return np.all(np.linalg.eigvals(x) > 0)\n",
    "\n",
    "def cholesky_ramp_correlation_data():\n",
    "#     global activations, correlations,correlation1,correlation2\n",
    "    correlation1,correlation2 = np.zeros([activation_num,activation_num]), np.zeros([activation_num,activation_num])\n",
    "    correlations = np.zeros([covariance_num,activation_num,activation_num])\n",
    "    activations_temp = np.random.normal(0,1,[activation_num, time_len])\n",
    "    activations = [[np.random.normal(0,1,[activation_num, time_len]) for i in range(subject_num)] for j in range(noise_num)]\n",
    "\n",
    "    while not is_pos_def(correlation1):\n",
    "        feature_map1 = np.random.normal(0,1,[activation_num,activation_num])\n",
    "        correlation1 = np.dot(feature_map1,feature_map1.T)\n",
    "        correlation1 = correlation1/np.max(abs(correlation1))\n",
    "    while not is_pos_def(correlation2):\n",
    "        feature_map2 = np.random.normal(0,1,[activation_num,activation_num])\n",
    "        correlation2 = np.dot(feature_map2,feature_map2.T)\n",
    "        correlation2 = correlation2/np.max(abs(correlation2))\n",
    "    for i in range(time_len):\n",
    "        cov_temp = (time_len-i)*0.5*(np.log(1+correlation1+1e-5) - np.log(1-correlation1+1e-5))/float(time_len)+i*0.5*(np.log(1+correlation2+1e-5) - np.log(1-correlation2+1e-5))/float(time_len)\n",
    "        correlations[i] =  (np.exp(2*cov_temp) - 1)/(np.exp(2*cov_temp) + 1)\n",
    "        activations_temp[:,i] = np.dot(cholesky(correlations[i]),activations_temp[:,i])\n",
    "    for i in range(noise_num):\n",
    "        activations[i]=np.array([(activations_temp+np.random.normal(0,noise_level[i],[activation_num, time_len])).T for s in range(subject_num)])\n",
    "    return activations\n",
    "\n",
    "\n",
    "def decoding_raw_data(data,nfolds):\n",
    "    subj_num=len(data)\n",
    "    subj_indices = range(subj_num)\n",
    "    accuracy = 0\n",
    "    for i in range(nfolds):\n",
    "        shuffle(subj_indices)\n",
    "        in_fold_corrs = np.mean(data[subj_indices[:(subj_num/2)]],0)\n",
    "        out_fold_corrs = np.mean(data[subj_indices[(subj_num/2):]],0)\n",
    "        corrs = 1 - sd.cdist(in_fold_corrs, out_fold_corrs, 'correlation')\n",
    "        accuracy_temp = 0\n",
    "\n",
    "        #timepoint_dists = la.toeplitz(np.arange(corrs.shape[0]))\n",
    "        for t in range(0, corrs.shape[0]):\n",
    "            include_inds = np.arange(corrs.shape[0])\n",
    "            decoded_inds = include_inds[np.where(corrs[t, include_inds] == np.max(corrs[t, include_inds]))]\n",
    "            accuracy_temp += np.mean(decoded_inds == np.array(t))\n",
    "        accuracy_temp /= corrs.shape[0]\n",
    "        accuracy += accuracy_temp\n",
    "    accuracy /= nfolds\n",
    "    return accuracy\n",
    "\n",
    "all_activations = np.load(\"../levelup_data.npy\")\n",
    "decoding_accuracy = np.zeros([noise_num, level_num])\n",
    "for i in range(repetitions):\n",
    "    for n in range(noise_num):\n",
    "        decoding_accuracy[n,0] += decoding_raw_data(all_activations[i,n],nfolds=3)\n",
    "    for l in range(1,level_num):\n",
    "        for n in range(noise_num):\n",
    "            if l>1:\n",
    "                all_activations[i,n] = levelup(all_activations[i,n],mode=\"within\")\n",
    "            results = decode(all_activations[i,n],nfolds=3, var=None)\n",
    "            decoding_accuracy[n,l]+=results\n",
    "decoding_accuracy/=repetitions\n",
    "print decoding_accuracy"
   ]
  },
  {
   "cell_type": "code",
   "execution_count": 26,
   "metadata": {
    "collapsed": false
   },
   "outputs": [
    {
     "name": "stdout",
     "output_type": "stream",
     "text": [
      "(100, 5, 6, 300, 5)\n"
     ]
    }
   ],
   "source": [
    "\n",
    "for i in range(repetitions):\n",
    "    all_activations[i] = cholesky_ramp_correlation_data()\n",
    "np.save(\"../levelup_data\",all_activations)\n",
    "a = np.load(\"../levelup_data.npy\")\n",
    "print a.shape"
   ]
  },
  {
   "cell_type": "code",
   "execution_count": 2,
   "metadata": {
    "collapsed": false
   },
   "outputs": [],
   "source": [
    "import numpy as np\n",
    "decoding_accuracy=np.array([[ 0.91458889,0.74093333,0.6576,0.57167778,0.47447778,0.37195556,0.31121111,0.24084444,0.16281111,0.11691111],[0.18384444,0.11806667,0.08521111,0.05577778,0.04213333,0.02734444, 0.01523333,0.00993333,0.00733333,0.00542222],[ 0.00638889,0.00366667,0.00318889,0.00294444,0.00318889,0.00321111, 0.00364444,0.00353333,0.00346667,0.00345556],[0.00398889,0.00316667,0.00301111,0.00344444,0.00302222,0.0032, 0.00358889,0.00355556,0.00313333,0.00341111]])\n",
    "decoding_rank = np.array([[0.99959037, 0.99841678, 0.99666744, 0.99393081, 0.98799059, 0.9766147, 0.96091681, 0.94175433, 0.90457041, 0.863937], [0.98344711, 0.97096493, 0.94638507, 0.90449226, 0.83736481, 0.77095552, 0.68761619, 0.61863878, 0.57505619, 0.53926304], [0.60204993, 0.50246048, 0.49407704, 0.50164896, 0.50633081, 0.49559059, 0.50237633, 0.50766111, 0.50382204, 0.49468981], [0.50833926, 0.49337985, 0.49805852, 0.50135726, 0.491788, 0.49667493, 0.50914326, 0.50365296, 0.49207593, 0.50457922]])\n",
    "decoding_error = np.array([[0.0003712,0.00114084,0.00215741,0.00380264,0.00676659,0.01807715,0.02746184,0.04468807,0.07030531,0.09870884],[0.01043263,0.02110238,0.0427647,0.07614359,0.11691364,0.16458997,0.22246499,0.26355864,0.28116748,0.31020409],[0.29388075,0.33556462,0.34893679,0.34017886,0.34864708,0.35523891,0.34702969,0.33590268,0.34231479,0.341923],[ 0.341445,0.34111275,0.34901787,0.34076997,0.35221929,0.34481148,0.33721022,0.3410249,0.34190145,0.33599922]])"
   ]
  },
  {
   "cell_type": "code",
   "execution_count": 8,
   "metadata": {
    "collapsed": false
   },
   "outputs": [
    {
     "data": {
      "image/png": "[encoded data removed]",
      "text/plain": [
       "<matplotlib.figure.Figure at 0x1118912d0>"
      ]
     },
     "metadata": {},
     "output_type": "display_data"
    }
   ],
   "source": [
    "import matplotlib.pyplot as plt\n",
    "noise_level = [0.01,0.1,1,10]\n",
    "noise_num = len(noise_level)\n",
    "f, a1 = plt.subplots(1,1, figsize=(10,5))\n",
    "plt.subplots_adjust(top=0.9)\n",
    "plt.suptitle(\"decoding performance vs level\",fontsize=20)\n",
    "a1.set_ylabel(\"decoding accuracy\")\n",
    "\n",
    "a1.bar(np.arange(1,11),[1]*10,0.2,color='C0',alpha=1,linestyle='-', label=\"noise level 0\")\n",
    "for v in range(noise_num): \n",
    "    a1.bar(np.arange(1,11)+(v+1)*0.2,decoding_accuracy[v],0.2,color='C'+str(v+1),alpha=1,linestyle='-', label=\"noise level \"+str(noise_level[v]))\n",
    "    \n",
    "a1.set_xlabel(\"level\")\n",
    "a1.legend(bbox_to_anchor=(1, 1), loc=0)\n",
    "f.subplots_adjust(hspace=0.3)\n",
    "plt.show()"
   ]
  },
  {
   "cell_type": "code",
   "execution_count": 1,
   "metadata": {
    "collapsed": false
   },
   "outputs": [],
   "source": [
    "import numpy as np\n",
    "from scipy.linalg import cholesky\n",
    "from scipy.spatial.distance import squareform\n",
    "from scipy.stats.stats import pearsonr\n",
    "import sys\n",
    "import os\n",
    "sys.path.append(os.path.abspath('../'))\n",
    "from timecorr.timecorr import levelup, timepoint_decoder\n",
    "from math import log\n",
    "\n",
    "sliding_window_length = 51\n",
    "block_length = 1\n",
    "covariance_num = 300\n",
    "noise_level = [0,0.01,0.1,1,10]\n",
    "repetitions=100\n",
    "noise_num = len(noise_level)\n",
    "time_range=time_len = block_length * covariance_num\n",
    "level_num = 10\n",
    "subject_num = 6\n",
    "activation_num = 5\n",
    "\n",
    "activations = [[np.random.normal(0,1,[activation_num, time_len]) for i in range(subject_num)] for j in range(noise_num)]\n",
    "correlations = np.zeros([covariance_num,activation_num,activation_num])\n",
    "correlation1,correlation2 = np.zeros([activation_num,activation_num]), np.zeros([activation_num,activation_num])\n",
    "\n",
    "\n",
    "def is_pos_def(x):\n",
    "    return np.all(np.linalg.eigvals(x) > 0)\n",
    "\n",
    "def cholesky_ramp_correlation_data():\n",
    "    global activations, correlations,correlation1,correlation2\n",
    "    correlations = np.zeros([covariance_num,activation_num,activation_num])\n",
    "    activations_temp = np.random.normal(0,1,[activation_num, time_len])\n",
    "    \n",
    "    while not is_pos_def(correlation1):\n",
    "        feature_map1 = np.random.normal(0,1,[activation_num,activation_num])\n",
    "        correlation1 = np.dot(feature_map1,feature_map1.T)\n",
    "        correlation1 = correlation1/np.max(abs(correlation1))\n",
    "    while not is_pos_def(correlation2):\n",
    "        feature_map2 = np.random.normal(0,1,[activation_num,activation_num])\n",
    "        correlation2 = np.dot(feature_map2,feature_map2.T)\n",
    "        correlation2 = correlation2/np.max(abs(correlation2))\n",
    "    for i in range(time_len):\n",
    "        cov_temp = (time_len-i)*0.5*(np.log(1+correlation1+1e-5) - np.log(1-correlation1+1e-5))/float(time_len)+i*0.5*(np.log(1+correlation2+1e-5) - np.log(1-correlation2+1e-5))/float(time_len)\n",
    "        correlations[i] =  (np.exp(2*cov_temp) - 1)/(np.exp(2*cov_temp) + 1)\n",
    "        activations_temp[:,i] = np.dot(cholesky(correlations[i]),activations_temp[:,i])\n",
    "    for i in range(noise_num):\n",
    "        activations[i]=[(activations_temp+np.random.normal(0,noise_level[i],[activation_num, time_len])).T for s in range(subject_num)]\n",
    "\n",
    "# decoding_accuracy = np.zeros([noise_num, level_num])\n",
    "\n",
    "for i in range(repetitions):\n",
    "    for l in range(level_num):\n",
    "        for n in range(noise_num):\n",
    "            if l>0:\n",
    "                activations[n] = levelup(activations[n],\"within\")\n",
    "            results = timepoint_decoder(activations[n],nfolds=10)\n",
    "            decoding_accuracy[n,l]+=results\n",
    "decoding_accuracy/=repetitions\n"
   ]
  },
  {
   "cell_type": "code",
   "execution_count": 2,
   "metadata": {
    "collapsed": false
   },
   "outputs": [
    {
     "name": "stdout",
     "output_type": "stream",
     "text": [
      "[[ 1.          1.          1.          1.          1.          1.          1.\n",
      "   1.          1.          1.        ]\n",
      " [ 0.99999     0.84612     0.67251     0.58036333  0.49348333  0.40641333\n",
      "   0.32874333  0.25989667  0.19311667  0.12929667]\n",
      " [ 0.68202667  0.1329      0.08724667  0.06083333  0.03968     0.02599\n",
      "   0.01747     0.01079333  0.00702667  0.0049    ]\n",
      " [ 0.02051333  0.00507333  0.00357     0.00357667  0.00295     0.00326667\n",
      "   0.00323333  0.00309     0.00325333  0.00302667]\n",
      " [ 0.00357333  0.00325     0.00365     0.00338667  0.00321     0.0032\n",
      "   0.00345     0.00309     0.00334667  0.00322   ]]\n"
     ]
    }
   ],
   "source": [
    "print(decoding_accuracy)"
   ]
  },
  {
   "cell_type": "code",
   "execution_count": 2,
   "metadata": {
    "collapsed": false
   },
   "outputs": [
    {
     "ename": "ValueError",
     "evalue": "incompatible sizes: argument 'height' must be length 10 or scalar",
     "output_type": "error",
     "traceback": [
      "\u001b[0;31m---------------------------------------------------------------------------\u001b[0m",
      "\u001b[0;31mValueError\u001b[0m                                Traceback (most recent call last)",
      "\u001b[0;32m<ipython-input-2-082ce565e6e2>\u001b[0m in \u001b[0;36m<module>\u001b[0;34m()\u001b[0m\n\u001b[1;32m      9\u001b[0m \u001b[0;34m\u001b[0m\u001b[0m\n\u001b[1;32m     10\u001b[0m \u001b[0;32mfor\u001b[0m \u001b[0mv\u001b[0m \u001b[0;32min\u001b[0m \u001b[0mrange\u001b[0m\u001b[0;34m(\u001b[0m\u001b[0mnoise_num\u001b[0m\u001b[0;34m)\u001b[0m\u001b[0;34m:\u001b[0m\u001b[0;34m\u001b[0m\u001b[0m\n\u001b[0;32m---> 11\u001b[0;31m     \u001b[0ma1\u001b[0m\u001b[0;34m.\u001b[0m\u001b[0mbar\u001b[0m\u001b[0;34m(\u001b[0m\u001b[0mnp\u001b[0m\u001b[0;34m.\u001b[0m\u001b[0marange\u001b[0m\u001b[0;34m(\u001b[0m\u001b[0;36m1\u001b[0m\u001b[0;34m,\u001b[0m\u001b[0;36m11\u001b[0m\u001b[0;34m)\u001b[0m\u001b[0;34m+\u001b[0m\u001b[0mv\u001b[0m\u001b[0;34m*\u001b[0m\u001b[0;36m0.2\u001b[0m\u001b[0;34m,\u001b[0m\u001b[0mdecoding_accuracy\u001b[0m\u001b[0;34m[\u001b[0m\u001b[0mv\u001b[0m\u001b[0;34m]\u001b[0m\u001b[0;34m,\u001b[0m\u001b[0;36m0.2\u001b[0m\u001b[0;34m,\u001b[0m\u001b[0mcolor\u001b[0m\u001b[0;34m=\u001b[0m\u001b[0;34m'C'\u001b[0m\u001b[0;34m+\u001b[0m\u001b[0mstr\u001b[0m\u001b[0;34m(\u001b[0m\u001b[0mv\u001b[0m\u001b[0;34m)\u001b[0m\u001b[0;34m,\u001b[0m\u001b[0malpha\u001b[0m\u001b[0;34m=\u001b[0m\u001b[0;36m1\u001b[0m\u001b[0;34m,\u001b[0m\u001b[0mlinestyle\u001b[0m\u001b[0;34m=\u001b[0m\u001b[0;34m'-'\u001b[0m\u001b[0;34m,\u001b[0m \u001b[0mlabel\u001b[0m\u001b[0;34m=\u001b[0m\u001b[0;34m\"noise level \"\u001b[0m\u001b[0;34m+\u001b[0m\u001b[0mstr\u001b[0m\u001b[0;34m(\u001b[0m\u001b[0mnoise_level\u001b[0m\u001b[0;34m[\u001b[0m\u001b[0mv\u001b[0m\u001b[0;34m]\u001b[0m\u001b[0;34m)\u001b[0m\u001b[0;34m)\u001b[0m\u001b[0;34m\u001b[0m\u001b[0m\n\u001b[0m\u001b[1;32m     12\u001b[0m \u001b[0;34m\u001b[0m\u001b[0m\n\u001b[1;32m     13\u001b[0m \u001b[0ma1\u001b[0m\u001b[0;34m.\u001b[0m\u001b[0mset_xlabel\u001b[0m\u001b[0;34m(\u001b[0m\u001b[0;34m\"level\"\u001b[0m\u001b[0;34m)\u001b[0m\u001b[0;34m\u001b[0m\u001b[0m\n",
      "\u001b[0;32m/Users/ThousandSunny/anaconda/lib/python2.7/site-packages/matplotlib/__init__.pyc\u001b[0m in \u001b[0;36minner\u001b[0;34m(ax, *args, **kwargs)\u001b[0m\n\u001b[1;32m   1896\u001b[0m                     warnings.warn(msg % (label_namer, func.__name__),\n\u001b[1;32m   1897\u001b[0m                                   RuntimeWarning, stacklevel=2)\n\u001b[0;32m-> 1898\u001b[0;31m             \u001b[0;32mreturn\u001b[0m \u001b[0mfunc\u001b[0m\u001b[0;34m(\u001b[0m\u001b[0max\u001b[0m\u001b[0;34m,\u001b[0m \u001b[0;34m*\u001b[0m\u001b[0margs\u001b[0m\u001b[0;34m,\u001b[0m \u001b[0;34m**\u001b[0m\u001b[0mkwargs\u001b[0m\u001b[0;34m)\u001b[0m\u001b[0;34m\u001b[0m\u001b[0m\n\u001b[0m\u001b[1;32m   1899\u001b[0m         \u001b[0mpre_doc\u001b[0m \u001b[0;34m=\u001b[0m \u001b[0minner\u001b[0m\u001b[0;34m.\u001b[0m\u001b[0m__doc__\u001b[0m\u001b[0;34m\u001b[0m\u001b[0m\n\u001b[1;32m   1900\u001b[0m         \u001b[0;32mif\u001b[0m \u001b[0mpre_doc\u001b[0m \u001b[0;32mis\u001b[0m \u001b[0mNone\u001b[0m\u001b[0;34m:\u001b[0m\u001b[0;34m\u001b[0m\u001b[0m\n",
      "\u001b[0;32m/Users/ThousandSunny/anaconda/lib/python2.7/site-packages/matplotlib/axes/_axes.pyc\u001b[0m in \u001b[0;36mbar\u001b[0;34m(self, left, height, width, bottom, **kwargs)\u001b[0m\n\u001b[1;32m   2077\u001b[0m         \u001b[0;32mif\u001b[0m \u001b[0mlen\u001b[0m\u001b[0;34m(\u001b[0m\u001b[0mheight\u001b[0m\u001b[0;34m)\u001b[0m \u001b[0;34m!=\u001b[0m \u001b[0mnbars\u001b[0m\u001b[0;34m:\u001b[0m\u001b[0;34m\u001b[0m\u001b[0m\n\u001b[1;32m   2078\u001b[0m             raise ValueError(\"incompatible sizes: argument 'height' \"\n\u001b[0;32m-> 2079\u001b[0;31m                               \"must be length %d or scalar\" % nbars)\n\u001b[0m\u001b[1;32m   2080\u001b[0m         \u001b[0;32mif\u001b[0m \u001b[0mlen\u001b[0m\u001b[0;34m(\u001b[0m\u001b[0mwidth\u001b[0m\u001b[0;34m)\u001b[0m \u001b[0;34m!=\u001b[0m \u001b[0mnbars\u001b[0m\u001b[0;34m:\u001b[0m\u001b[0;34m\u001b[0m\u001b[0m\n\u001b[1;32m   2081\u001b[0m             raise ValueError(\"incompatible sizes: argument 'width' \"\n",
      "\u001b[0;31mValueError\u001b[0m: incompatible sizes: argument 'height' must be length 10 or scalar"
     ]
    }
   ],
   "source": [
    "import matplotlib.pyplot as plt\n",
    "decoding_accuracy/=repetitions\n",
    "noise_level = [0,0.01,0.1,1,10]\n",
    "noise_num = len(noise_level)\n",
    "f, a1 = plt.subplots(1,1, figsize=(10,5))\n",
    "plt.subplots_adjust(top=0.9)\n",
    "plt.suptitle(\"decoding performance vs level\",fontsize=20)\n",
    "a1.set_ylabel(\"decoding accuracy\")\n",
    "\n",
    "for v in range(noise_num): \n",
    "    a1.bar(np.arange(1,11)+v*0.2,decoding_accuracy[v],0.2,color='C'+str(v),alpha=1,linestyle='-', label=\"noise level \"+str(noise_level[v]))\n",
    "    \n",
    "a1.set_xlabel(\"level\")\n",
    "a1.legend(bbox_to_anchor=(1, 1), loc=0)\n",
    "f.subplots_adjust(hspace=0.3)\n",
    "plt.show()"
   ]
  },
  {
   "cell_type": "code",
   "execution_count": 16,
   "metadata": {
    "collapsed": false
   },
   "outputs": [
    {
     "ename": "NameError",
     "evalue": "name 'decoding_analysis' is not defined",
     "output_type": "error",
     "traceback": [
      "\u001b[0;31m---------------------------------------------------------------------------\u001b[0m",
      "\u001b[0;31mNameError\u001b[0m                                 Traceback (most recent call last)",
      "\u001b[0;32m<ipython-input-16-0c1ab9363cd8>\u001b[0m in \u001b[0;36m<module>\u001b[0;34m()\u001b[0m\n\u001b[1;32m      3\u001b[0m     \u001b[0mcholesky_ramp_correlation_data\u001b[0m\u001b[0;34m(\u001b[0m\u001b[0;34m)\u001b[0m\u001b[0;34m\u001b[0m\u001b[0m\n\u001b[1;32m      4\u001b[0m     \u001b[0;32mfor\u001b[0m \u001b[0mn\u001b[0m \u001b[0;32min\u001b[0m \u001b[0mrange\u001b[0m\u001b[0;34m(\u001b[0m\u001b[0mnoise_num\u001b[0m\u001b[0;34m)\u001b[0m\u001b[0;34m:\u001b[0m\u001b[0;34m\u001b[0m\u001b[0m\n\u001b[0;32m----> 5\u001b[0;31m         \u001b[0mresults\u001b[0m \u001b[0;34m=\u001b[0m \u001b[0mdecoding_analysis\u001b[0m\u001b[0;34m(\u001b[0m\u001b[0mactivations\u001b[0m\u001b[0;34m[\u001b[0m\u001b[0mn\u001b[0m\u001b[0;34m]\u001b[0m\u001b[0;34m)\u001b[0m\u001b[0;34m\u001b[0m\u001b[0m\n\u001b[0m\u001b[1;32m      6\u001b[0m         \u001b[0mdecoding_accuracy\u001b[0m\u001b[0;34m[\u001b[0m\u001b[0mn\u001b[0m\u001b[0;34m]\u001b[0m\u001b[0;34m+=\u001b[0m\u001b[0mresults\u001b[0m\u001b[0;34m\u001b[0m\u001b[0m\n\u001b[1;32m      7\u001b[0m \u001b[0mdecoding_accuracy\u001b[0m\u001b[0;34m/=\u001b[0m\u001b[0mrepetitions\u001b[0m\u001b[0;34m\u001b[0m\u001b[0m\n",
      "\u001b[0;31mNameError\u001b[0m: name 'decoding_analysis' is not defined"
     ]
    }
   ],
   "source": [
    "decoding_accuracy = np.zeros(noise_num)\n",
    "for i in range(100):\n",
    "    cholesky_ramp_correlation_data()\n",
    "    for n in range(noise_num):\n",
    "        results = decoding_analysis(activations[n])\n",
    "        decoding_accuracy[n]+=results\n",
    "decoding_accuracy/=repetitions\n",
    "print(decoding_accuracy)\n"
   ]
  },
  {
   "cell_type": "code",
   "execution_count": null,
   "metadata": {
    "collapsed": true
   },
   "outputs": [],
   "source": []
  }
 ],
 "metadata": {
  "kernelspec": {
   "display_name": "Python 2",
   "language": "python",
   "name": "python2"
  },
  "language_info": {
   "codemirror_mode": {
    "name": "ipython",
    "version": 2
   },
   "file_extension": ".py",
   "mimetype": "text/x-python",
   "name": "python",
   "nbconvert_exporter": "python",
   "pygments_lexer": "ipython2",
   "version": "2.7.13"
  }
 },
 "nbformat": 4,
 "nbformat_minor": 2
}
