{
 "cells": [
  {
   "cell_type": "markdown",
   "id": "51fdd550-3d2d-4cb7-b27a-cf461e517411",
   "metadata": {},
   "source": [
    "Load in required libraries"
   ]
  },
  {
   "cell_type": "code",
   "execution_count": 4,
   "id": "2354445d-b336-42df-9c5c-1a9dc065e2bb",
   "metadata": {},
   "outputs": [],
   "source": [
    "import timecorr as tc\n",
    "import numpy as np\n",
    "import seaborn as sns\n",
    "import warnings\n",
    "warnings.simplefilter(\"ignore\")\n",
    "%matplotlib inline"
   ]
  },
  {
   "cell_type": "markdown",
   "id": "8045c9b3-a7eb-4479-90ed-9184257d7f9f",
   "metadata": {},
   "source": [
    "Simulate some data"
   ]
  },
  {
   "cell_type": "code",
   "execution_count": 5,
   "id": "c47bef46-408c-41b1-94df-b06dd20a0ec5",
   "metadata": {},
   "outputs": [],
   "source": [
    "# simulate 1 subject's timeseries\n",
    "sim_1 = tc.simulate_data(S=1, T=200, K=300, set_random_seed=100)"
   ]
  },
  {
   "cell_type": "code",
   "execution_count": 6,
   "id": "cddc55d6-251e-42d4-930a-1d7fa8535422",
   "metadata": {},
   "outputs": [
    {
     "name": "stdout",
     "output_type": "stream",
     "text": [
      "shape : (200, 300)\n",
      "type : <class 'numpy.ndarray'>\n"
     ]
    }
   ],
   "source": [
    "# output for 1 subject is an array\n",
    "print('shape : ' + str(np.shape(sim_1)))\n",
    "print('type : ' + str(type(sim_1)))"
   ]
  },
  {
   "cell_type": "code",
   "execution_count": 7,
   "id": "42d4c9f8-1bdf-4cce-9cb0-b6420a397604",
   "metadata": {},
   "outputs": [],
   "source": [
    "# simulate 3 subjects' timeseries\n",
    "sim_3 = tc.simulate_data(S=3, T=200, K=300, set_random_seed=100)"
   ]
  },
  {
   "cell_type": "code",
   "execution_count": 8,
   "id": "a0afbb8e-450a-4147-bf9d-0814c8c4f59a",
   "metadata": {},
   "outputs": [
    {
     "name": "stdout",
     "output_type": "stream",
     "text": [
      "shape : (3, 200, 300)\n",
      "type : <class 'list'>\n",
      "type for sim_3[0] : <class 'numpy.ndarray'>\n"
     ]
    }
   ],
   "source": [
    "# output for 3 subjects is a list of arrays\n",
    "print('shape : ' + str(np.shape(sim_3)))\n",
    "print('type : ' + str(type(sim_3)))\n",
    "print('type for sim_3[0] : ' + str(type(sim_3[0])))"
   ]
  },
  {
   "cell_type": "markdown",
   "id": "d5794042-4d60-4d86-a1f2-4351ac9c552a",
   "metadata": {},
   "source": [
    "Calculate Dynamic Correlations"
   ]
  },
  {
   "cell_type": "code",
   "execution_count": 9,
   "id": "f8005763-7742-4998-8a45-8220a64d8c9e",
   "metadata": {},
   "outputs": [
    {
     "ename": "AttributeError",
     "evalue": "module 'numpy' has no attribute 'math'",
     "output_type": "error",
     "traceback": [
      "\u001b[0;31m---------------------------------------------------------------------------\u001b[0m",
      "\u001b[0;31mAttributeError\u001b[0m                            Traceback (most recent call last)",
      "Cell \u001b[0;32mIn[9], line 6\u001b[0m\n\u001b[1;32m      3\u001b[0m gaussian \u001b[38;5;241m=\u001b[39m {\u001b[38;5;124m'\u001b[39m\u001b[38;5;124mname\u001b[39m\u001b[38;5;124m'\u001b[39m: \u001b[38;5;124m'\u001b[39m\u001b[38;5;124mGaussian\u001b[39m\u001b[38;5;124m'\u001b[39m, \u001b[38;5;124m'\u001b[39m\u001b[38;5;124mweights\u001b[39m\u001b[38;5;124m'\u001b[39m: tc\u001b[38;5;241m.\u001b[39mgaussian_weights, \u001b[38;5;124m'\u001b[39m\u001b[38;5;124mparams\u001b[39m\u001b[38;5;124m'\u001b[39m: {\u001b[38;5;124m'\u001b[39m\u001b[38;5;124mvar\u001b[39m\u001b[38;5;124m'\u001b[39m: width}}\n\u001b[1;32m      5\u001b[0m \u001b[38;5;66;03m# calcuate the dynamic correlations use a gaussian kernel and width of 5 for 1 simulate subject\u001b[39;00m\n\u001b[0;32m----> 6\u001b[0m vec_corrs \u001b[38;5;241m=\u001b[39m \u001b[43mtc\u001b[49m\u001b[38;5;241;43m.\u001b[39;49m\u001b[43mtimecorr\u001b[49m\u001b[43m(\u001b[49m\u001b[43msim_1\u001b[49m\u001b[43m,\u001b[49m\u001b[43m \u001b[49m\u001b[43mweights_function\u001b[49m\u001b[38;5;241;43m=\u001b[39;49m\u001b[43mgaussian\u001b[49m\u001b[43m[\u001b[49m\u001b[38;5;124;43m'\u001b[39;49m\u001b[38;5;124;43mweights\u001b[39;49m\u001b[38;5;124;43m'\u001b[39;49m\u001b[43m]\u001b[49m\u001b[43m,\u001b[49m\u001b[43m \u001b[49m\u001b[43mweights_params\u001b[49m\u001b[38;5;241;43m=\u001b[39;49m\u001b[43mgaussian\u001b[49m\u001b[43m[\u001b[49m\u001b[38;5;124;43m'\u001b[39;49m\u001b[38;5;124;43mparams\u001b[39;49m\u001b[38;5;124;43m'\u001b[39;49m\u001b[43m]\u001b[49m\u001b[43m)\u001b[49m\n",
      "File \u001b[0;32m/usr/local/lib/python3.12/site-packages/timecorr/timecorr.py:128\u001b[0m, in \u001b[0;36mtimecorr\u001b[0;34m(data, weights_function, weights_params, include_timepoints, exclude_timepoints, combine, cfun, rfun)\u001b[0m\n\u001b[1;32m    124\u001b[0m     return_list \u001b[38;5;241m=\u001b[39m \u001b[38;5;28;01mFalse\u001b[39;00m\n\u001b[1;32m    126\u001b[0m data \u001b[38;5;241m=\u001b[39m format_data(data)\n\u001b[0;32m--> 128\u001b[0m weights \u001b[38;5;241m=\u001b[39m \u001b[43mweights_function\u001b[49m\u001b[43m(\u001b[49m\u001b[43mT\u001b[49m\u001b[43m,\u001b[49m\u001b[43m \u001b[49m\u001b[43mweights_params\u001b[49m\u001b[43m)\u001b[49m\n\u001b[1;32m    130\u001b[0m include_timepoints \u001b[38;5;241m=\u001b[39m include_timepoints\u001b[38;5;241m.\u001b[39mlower()\n\u001b[1;32m    131\u001b[0m \u001b[38;5;28;01mif\u001b[39;00m include_timepoints \u001b[38;5;241m==\u001b[39m \u001b[38;5;124m'\u001b[39m\u001b[38;5;124mall\u001b[39m\u001b[38;5;124m'\u001b[39m:\n",
      "File \u001b[0;32m/usr/local/lib/python3.12/site-packages/timecorr/helpers.py:27\u001b[0m, in \u001b[0;36mgaussian_weights\u001b[0;34m(T, params)\u001b[0m\n\u001b[1;32m     24\u001b[0m \u001b[38;5;28;01mif\u001b[39;00m params \u001b[38;5;129;01mis\u001b[39;00m \u001b[38;5;28;01mNone\u001b[39;00m:\n\u001b[1;32m     25\u001b[0m     params \u001b[38;5;241m=\u001b[39m gaussian_params\n\u001b[0;32m---> 27\u001b[0m c1 \u001b[38;5;241m=\u001b[39m np\u001b[38;5;241m.\u001b[39mdivide(\u001b[38;5;241m1\u001b[39m, np\u001b[38;5;241m.\u001b[39msqrt(\u001b[38;5;241m2\u001b[39m \u001b[38;5;241m*\u001b[39m \u001b[43mnp\u001b[49m\u001b[38;5;241;43m.\u001b[39;49m\u001b[43mmath\u001b[49m\u001b[38;5;241m.\u001b[39mpi \u001b[38;5;241m*\u001b[39m params[\u001b[38;5;124m'\u001b[39m\u001b[38;5;124mvar\u001b[39m\u001b[38;5;124m'\u001b[39m]))\n\u001b[1;32m     28\u001b[0m c2 \u001b[38;5;241m=\u001b[39m np\u001b[38;5;241m.\u001b[39mdivide(\u001b[38;5;241m-\u001b[39m\u001b[38;5;241m1\u001b[39m, \u001b[38;5;241m2\u001b[39m \u001b[38;5;241m*\u001b[39m params[\u001b[38;5;124m'\u001b[39m\u001b[38;5;124mvar\u001b[39m\u001b[38;5;124m'\u001b[39m])\n\u001b[1;32m     29\u001b[0m sqdiffs \u001b[38;5;241m=\u001b[39m toeplitz(np\u001b[38;5;241m.\u001b[39marange(T) \u001b[38;5;241m*\u001b[39m\u001b[38;5;241m*\u001b[39m \u001b[38;5;241m2\u001b[39m)\n",
      "File \u001b[0;32m/usr/local/lib/python3.12/site-packages/numpy/__init__.py:410\u001b[0m, in \u001b[0;36m__getattr__\u001b[0;34m(attr)\u001b[0m\n\u001b[1;32m    407\u001b[0m     \u001b[38;5;28;01mimport\u001b[39;00m \u001b[38;5;21;01mnumpy\u001b[39;00m\u001b[38;5;21;01m.\u001b[39;00m\u001b[38;5;21;01mchar\u001b[39;00m \u001b[38;5;28;01mas\u001b[39;00m \u001b[38;5;21;01mchar\u001b[39;00m\n\u001b[1;32m    408\u001b[0m     \u001b[38;5;28;01mreturn\u001b[39;00m char\u001b[38;5;241m.\u001b[39mchararray\n\u001b[0;32m--> 410\u001b[0m \u001b[38;5;28;01mraise\u001b[39;00m \u001b[38;5;167;01mAttributeError\u001b[39;00m(\u001b[38;5;124m\"\u001b[39m\u001b[38;5;124mmodule \u001b[39m\u001b[38;5;132;01m{!r}\u001b[39;00m\u001b[38;5;124m has no attribute \u001b[39m\u001b[38;5;124m\"\u001b[39m\n\u001b[1;32m    411\u001b[0m                      \u001b[38;5;124m\"\u001b[39m\u001b[38;5;132;01m{!r}\u001b[39;00m\u001b[38;5;124m\"\u001b[39m\u001b[38;5;241m.\u001b[39mformat(\u001b[38;5;18m__name__\u001b[39m, attr))\n",
      "\u001b[0;31mAttributeError\u001b[0m: module 'numpy' has no attribute 'math'"
     ]
    }
   ],
   "source": [
    "# specify kernel:\n",
    "width = 5\n",
    "gaussian = {'name': 'Gaussian', 'weights': tc.gaussian_weights, 'params': {'var': width}}\n",
    "\n",
    "# calcuate the dynamic correlations use a gaussian kernel and width of 5 for 1 simulate subject\n",
    "vec_corrs = tc.timecorr(sim_1, weights_function=gaussian['weights'], weights_params=gaussian['params'])"
   ]
  },
  {
   "cell_type": "code",
   "execution_count": null,
   "id": "d5e67d55-6a55-449f-9678-66a417185182",
   "metadata": {},
   "outputs": [],
   "source": []
  }
 ],
 "metadata": {
  "kernelspec": {
   "display_name": "Python 3 (ipykernel)",
   "language": "python",
   "name": "python3"
  },
  "language_info": {
   "codemirror_mode": {
    "name": "ipython",
    "version": 3
   },
   "file_extension": ".py",
   "mimetype": "text/x-python",
   "name": "python",
   "nbconvert_exporter": "python",
   "pygments_lexer": "ipython3",
   "version": "3.12.7"
  }
 },
 "nbformat": 4,
 "nbformat_minor": 5
}
