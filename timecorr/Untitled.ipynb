{
 "cells": [
  {
   "cell_type": "code",
   "execution_count": 8,
   "metadata": {},
   "outputs": [],
   "source": [
    "# coding: utf-8\n",
    "\n",
    "from past.utils import old_div\n",
    "import numpy as np\n",
    "import scipy.spatial.distance as sd\n",
    "from scipy.linalg import toeplitz\n",
    "import hypertools as hyp\n",
    "import pandas as pd\n",
    "gaussian_params = {'var': 1000}\n",
    "\n",
    "\n",
    "def gaussian_weights(T, params=gaussian_params):\n",
    "    c1 = np.divide(1, np.sqrt(2 * np.math.pi * params['var']))\n",
    "    c2 = np.divide(-1, 2 * params['var'])\n",
    "    sqdiffs = toeplitz(np.arange(T)) ** 2\n",
    "    return c1 * np.exp(c2 * sqdiffs)\n",
    "\n",
    "\n"
   ]
  },
  {
   "cell_type": "code",
   "execution_count": 23,
   "metadata": {},
   "outputs": [],
   "source": [
    "data_list= np.random.randn(10,3)\n",
    "pandas_dataframe= pd.DataFrame(np.random.randint(low=0, high=10, size=(2, 2)))\n",
    "numpy_array= np.array([[5, 9], [10, 7], [5, 9]])\n",
    "numpy_array_list= np.array([[8,2],[4,6]]).tolist()"
   ]
  },
  {
   "cell_type": "code",
   "execution_count": 24,
   "metadata": {},
   "outputs": [],
   "source": [
    "data_dl = hyp.tools.format_data(data_list)\n",
    "data_pdf = hyp.tools.format_data(pandas_dataframe)\n",
    "data_npa = hyp.tools.format_data(numpy_array)"
   ]
  },
  {
   "cell_type": "code",
   "execution_count": 25,
   "metadata": {
    "collapsed": true
   },
   "outputs": [],
   "source": [
    "Test_dl=  data_dl[0].shape[0]\n",
    "Test_pdf=  data_pdf[0].shape[0]\n",
    "Test_npa=  data_npa[0].shape[0]"
   ]
  },
  {
   "cell_type": "code",
   "execution_count": 26,
   "metadata": {
    "collapsed": true
   },
   "outputs": [],
   "source": [
    "dl_tester = gaussian_weights(Test_dl, params=gaussian_params)\n",
    "pdf_tester = gaussian_weights(Test_pdf, params=gaussian_params)\n",
    "npa_tester = gaussian_weights(Test_npa, params=gaussian_params)"
   ]
  },
  {
   "cell_type": "code",
   "execution_count": 27,
   "metadata": {},
   "outputs": [
    {
     "data": {
      "text/plain": [
       "(10, 10)"
      ]
     },
     "execution_count": 27,
     "metadata": {},
     "output_type": "execute_result"
    }
   ],
   "source": [
    "gaussian_weights(Test_dl, params=gaussian_params).shape"
   ]
  },
  {
   "cell_type": "code",
   "execution_count": 28,
   "metadata": {},
   "outputs": [
    {
     "data": {
      "text/plain": [
       "(2, 2)"
      ]
     },
     "execution_count": 28,
     "metadata": {},
     "output_type": "execute_result"
    }
   ],
   "source": [
    "gaussian_weights(Test_pdf, params=gaussian_params).shape"
   ]
  },
  {
   "cell_type": "code",
   "execution_count": 29,
   "metadata": {},
   "outputs": [
    {
     "data": {
      "text/plain": [
       "(3, 3)"
      ]
     },
     "execution_count": 29,
     "metadata": {},
     "output_type": "execute_result"
    }
   ],
   "source": [
    "gaussian_weights(Test_npa, params=gaussian_params).shape"
   ]
  },
  {
   "cell_type": "code",
   "execution_count": 30,
   "metadata": {},
   "outputs": [
    {
     "data": {
      "text/plain": [
       "numpy.ndarray"
      ]
     },
     "execution_count": 30,
     "metadata": {},
     "output_type": "execute_result"
    }
   ],
   "source": [
    "type(gaussian_weights(Test_npa, params=gaussian_params))"
   ]
  },
  {
   "cell_type": "code",
   "execution_count": 31,
   "metadata": {},
   "outputs": [
    {
     "data": {
      "text/plain": [
       "numpy.ndarray"
      ]
     },
     "execution_count": 31,
     "metadata": {},
     "output_type": "execute_result"
    }
   ],
   "source": [
    "type(gaussian_weights(Test_pdf, params=gaussian_params))"
   ]
  },
  {
   "cell_type": "code",
   "execution_count": 32,
   "metadata": {},
   "outputs": [
    {
     "data": {
      "text/plain": [
       "numpy.ndarray"
      ]
     },
     "execution_count": 32,
     "metadata": {},
     "output_type": "execute_result"
    }
   ],
   "source": [
    "type(gaussian_weights(Test_dl, params=gaussian_params))"
   ]
  },
  {
   "cell_type": "code",
   "execution_count": 33,
   "metadata": {},
   "outputs": [
    {
     "data": {
      "text/plain": [
       "(10, 3)"
      ]
     },
     "execution_count": 33,
     "metadata": {},
     "output_type": "execute_result"
    }
   ],
   "source": [
    "data_list.shape"
   ]
  },
  {
   "cell_type": "code",
   "execution_count": 34,
   "metadata": {},
   "outputs": [
    {
     "data": {
      "text/plain": [
       "(2, 2)"
      ]
     },
     "execution_count": 34,
     "metadata": {},
     "output_type": "execute_result"
    }
   ],
   "source": [
    "pandas_dataframe.shape"
   ]
  },
  {
   "cell_type": "code",
   "execution_count": 35,
   "metadata": {},
   "outputs": [
    {
     "data": {
      "text/plain": [
       "(3, 2)"
      ]
     },
     "execution_count": 35,
     "metadata": {},
     "output_type": "execute_result"
    }
   ],
   "source": [
    "numpy_array.shape"
   ]
  },
  {
   "cell_type": "code",
   "execution_count": 36,
   "metadata": {},
   "outputs": [
    {
     "ename": "NameError",
     "evalue": "name 'T' is not defined",
     "output_type": "error",
     "traceback": [
      "\u001b[0;31m---------------------------------------------------------------------------\u001b[0m",
      "\u001b[0;31mNameError\u001b[0m                                 Traceback (most recent call last)",
      "\u001b[0;32m<ipython-input-36-2976d9f0c475>\u001b[0m in \u001b[0;36m<module>\u001b[0;34m()\u001b[0m\n\u001b[0;32m----> 1\u001b[0;31m \u001b[0mgaussian_weights\u001b[0m\u001b[0;34m(\u001b[0m\u001b[0mT\u001b[0m\u001b[0;34m,\u001b[0m\u001b[0mparams\u001b[0m\u001b[0;34m=\u001b[0m\u001b[0mgaussian_params\u001b[0m\u001b[0;34m)\u001b[0m\u001b[0;34m.\u001b[0m\u001b[0mshape\u001b[0m\u001b[0;34m\u001b[0m\u001b[0m\n\u001b[0m",
      "\u001b[0;31mNameError\u001b[0m: name 'T' is not defined"
     ]
    }
   ],
   "source": [
    "gaussian_weights(T,params=gaussian_params).shape"
   ]
  },
  {
   "cell_type": "code",
   "execution_count": 37,
   "metadata": {
    "collapsed": true
   },
   "outputs": [],
   "source": [
    "param_a= np.array([[2, 6], [8, 12]])\n",
    "param_b= np.array([[5, 9], [10, 7]])"
   ]
  },
  {
   "cell_type": "code",
   "execution_count": 38,
   "metadata": {},
   "outputs": [
    {
     "ename": "TypeError",
     "evalue": "only size-1 arrays can be converted to Python scalars",
     "output_type": "error",
     "traceback": [
      "\u001b[0;31m---------------------------------------------------------------------------\u001b[0m",
      "\u001b[0;31mTypeError\u001b[0m                                 Traceback (most recent call last)",
      "\u001b[0;32m<ipython-input-38-59971f644fc7>\u001b[0m in \u001b[0;36m<module>\u001b[0;34m()\u001b[0m\n\u001b[0;32m----> 1\u001b[0;31m \u001b[0mgaussian_weights\u001b[0m\u001b[0;34m(\u001b[0m\u001b[0mparam_a\u001b[0m\u001b[0;34m,\u001b[0m \u001b[0mparams\u001b[0m\u001b[0;34m=\u001b[0m\u001b[0mgaussian_params\u001b[0m\u001b[0;34m)\u001b[0m\u001b[0;34m\u001b[0m\u001b[0m\n\u001b[0m",
      "\u001b[0;32m<ipython-input-8-6a18119d5156>\u001b[0m in \u001b[0;36mgaussian_weights\u001b[0;34m(T, params)\u001b[0m\n\u001b[1;32m     13\u001b[0m     \u001b[0mc1\u001b[0m \u001b[0;34m=\u001b[0m \u001b[0mnp\u001b[0m\u001b[0;34m.\u001b[0m\u001b[0mdivide\u001b[0m\u001b[0;34m(\u001b[0m\u001b[0;36m1\u001b[0m\u001b[0;34m,\u001b[0m \u001b[0mnp\u001b[0m\u001b[0;34m.\u001b[0m\u001b[0msqrt\u001b[0m\u001b[0;34m(\u001b[0m\u001b[0;36m2\u001b[0m \u001b[0;34m*\u001b[0m \u001b[0mnp\u001b[0m\u001b[0;34m.\u001b[0m\u001b[0mmath\u001b[0m\u001b[0;34m.\u001b[0m\u001b[0mpi\u001b[0m \u001b[0;34m*\u001b[0m \u001b[0mparams\u001b[0m\u001b[0;34m[\u001b[0m\u001b[0;34m'var'\u001b[0m\u001b[0;34m]\u001b[0m\u001b[0;34m)\u001b[0m\u001b[0;34m)\u001b[0m\u001b[0;34m\u001b[0m\u001b[0m\n\u001b[1;32m     14\u001b[0m     \u001b[0mc2\u001b[0m \u001b[0;34m=\u001b[0m \u001b[0mnp\u001b[0m\u001b[0;34m.\u001b[0m\u001b[0mdivide\u001b[0m\u001b[0;34m(\u001b[0m\u001b[0;34m-\u001b[0m\u001b[0;36m1\u001b[0m\u001b[0;34m,\u001b[0m \u001b[0;36m2\u001b[0m \u001b[0;34m*\u001b[0m \u001b[0mparams\u001b[0m\u001b[0;34m[\u001b[0m\u001b[0;34m'var'\u001b[0m\u001b[0;34m]\u001b[0m\u001b[0;34m)\u001b[0m\u001b[0;34m\u001b[0m\u001b[0m\n\u001b[0;32m---> 15\u001b[0;31m     \u001b[0msqdiffs\u001b[0m \u001b[0;34m=\u001b[0m \u001b[0mtoeplitz\u001b[0m\u001b[0;34m(\u001b[0m\u001b[0mnp\u001b[0m\u001b[0;34m.\u001b[0m\u001b[0marange\u001b[0m\u001b[0;34m(\u001b[0m\u001b[0mT\u001b[0m\u001b[0;34m)\u001b[0m\u001b[0;34m)\u001b[0m \u001b[0;34m**\u001b[0m \u001b[0;36m2\u001b[0m\u001b[0;34m\u001b[0m\u001b[0m\n\u001b[0m\u001b[1;32m     16\u001b[0m     \u001b[0;32mreturn\u001b[0m \u001b[0mc1\u001b[0m \u001b[0;34m*\u001b[0m \u001b[0mnp\u001b[0m\u001b[0;34m.\u001b[0m\u001b[0mexp\u001b[0m\u001b[0;34m(\u001b[0m\u001b[0mc2\u001b[0m \u001b[0;34m*\u001b[0m \u001b[0msqdiffs\u001b[0m\u001b[0;34m)\u001b[0m\u001b[0;34m\u001b[0m\u001b[0m\n\u001b[1;32m     17\u001b[0m \u001b[0;34m\u001b[0m\u001b[0m\n",
      "\u001b[0;31mTypeError\u001b[0m: only size-1 arrays can be converted to Python scalars"
     ]
    }
   ],
   "source": [
    "gaussian_weights(param_a, params=gaussian_params)"
   ]
  },
  {
   "cell_type": "code",
   "execution_count": 41,
   "metadata": {},
   "outputs": [
    {
     "name": "stdout",
     "output_type": "stream",
     "text": [
      "0.012615662610100801\n"
     ]
    }
   ],
   "source": [
    "c1= np.divide(1, np.sqrt(2 * np.math.pi * 1000))\n",
    "print(c1)"
   ]
  },
  {
   "cell_type": "code",
   "execution_count": 43,
   "metadata": {},
   "outputs": [
    {
     "name": "stdout",
     "output_type": "stream",
     "text": [
      "-0.0005\n"
     ]
    }
   ],
   "source": [
    "c2 = np.divide(-1, 2 * 1000)\n",
    "print(c2)"
   ]
  },
  {
   "cell_type": "code",
   "execution_count": 58,
   "metadata": {},
   "outputs": [
    {
     "name": "stdout",
     "output_type": "stream",
     "text": [
      "[[ 0  1  4  9 16 25 36 49 64 81]\n",
      " [ 1  0  1  4  9 16 25 36 49 64]\n",
      " [ 4  1  0  1  4  9 16 25 36 49]\n",
      " [ 9  4  1  0  1  4  9 16 25 36]\n",
      " [16  9  4  1  0  1  4  9 16 25]\n",
      " [25 16  9  4  1  0  1  4  9 16]\n",
      " [36 25 16  9  4  1  0  1  4  9]\n",
      " [49 36 25 16  9  4  1  0  1  4]\n",
      " [64 49 36 25 16  9  4  1  0  1]\n",
      " [81 64 49 36 25 16  9  4  1  0]]\n"
     ]
    }
   ],
   "source": [
    "sqdiffs = toeplitz(np.arange(Test_dl)) ** 2\n",
    "print(sqdiffs)"
   ]
  },
  {
   "cell_type": "code",
   "execution_count": 59,
   "metadata": {},
   "outputs": [
    {
     "name": "stdout",
     "output_type": "stream",
     "text": [
      "[[0.01261566 0.01260936 0.01259046 0.01255902 0.01251514 0.01245895\n",
      "  0.01239061 0.01231033 0.01221835 0.01211494]\n",
      " [0.01260936 0.01261566 0.01260936 0.01259046 0.01255902 0.01251514\n",
      "  0.01245895 0.01239061 0.01231033 0.01221835]\n",
      " [0.01259046 0.01260936 0.01261566 0.01260936 0.01259046 0.01255902\n",
      "  0.01251514 0.01245895 0.01239061 0.01231033]\n",
      " [0.01255902 0.01259046 0.01260936 0.01261566 0.01260936 0.01259046\n",
      "  0.01255902 0.01251514 0.01245895 0.01239061]\n",
      " [0.01251514 0.01255902 0.01259046 0.01260936 0.01261566 0.01260936\n",
      "  0.01259046 0.01255902 0.01251514 0.01245895]\n",
      " [0.01245895 0.01251514 0.01255902 0.01259046 0.01260936 0.01261566\n",
      "  0.01260936 0.01259046 0.01255902 0.01251514]\n",
      " [0.01239061 0.01245895 0.01251514 0.01255902 0.01259046 0.01260936\n",
      "  0.01261566 0.01260936 0.01259046 0.01255902]\n",
      " [0.01231033 0.01239061 0.01245895 0.01251514 0.01255902 0.01259046\n",
      "  0.01260936 0.01261566 0.01260936 0.01259046]\n",
      " [0.01221835 0.01231033 0.01239061 0.01245895 0.01251514 0.01255902\n",
      "  0.01259046 0.01260936 0.01261566 0.01260936]\n",
      " [0.01211494 0.01221835 0.01231033 0.01239061 0.01245895 0.01251514\n",
      "  0.01255902 0.01259046 0.01260936 0.01261566]]\n"
     ]
    }
   ],
   "source": [
    "c3= 0.012615662610100801*np.exp(-0.0005*sqdiffs)\n",
    "print (c3)"
   ]
  },
  {
   "cell_type": "code",
   "execution_count": 60,
   "metadata": {},
   "outputs": [
    {
     "name": "stdout",
     "output_type": "stream",
     "text": [
      "10\n"
     ]
    }
   ],
   "source": [
    "print(Test_dl)"
   ]
  },
  {
   "cell_type": "code",
   "execution_count": 61,
   "metadata": {},
   "outputs": [
    {
     "name": "stdout",
     "output_type": "stream",
     "text": [
      "[array([[ 0.6679065 ,  1.01412835,  1.70973112],\n",
      "       [-1.82276485,  0.43259722,  0.43744466],\n",
      "       [-1.03065766,  1.50860989, -0.04874895],\n",
      "       [ 0.44194384,  1.01343637, -0.7104585 ],\n",
      "       [-0.58961348,  1.51557615,  2.07088696],\n",
      "       [-1.28900542,  0.04583496, -0.01049901],\n",
      "       [-0.39408823, -0.316129  , -0.45261595],\n",
      "       [-0.83960616,  0.16359807, -1.1544791 ],\n",
      "       [ 1.824592  , -0.26923179, -1.01808112],\n",
      "       [ 1.67349299,  0.02313231, -0.36324252]])]\n"
     ]
    }
   ],
   "source": [
    "print(data_dl)"
   ]
  },
  {
   "cell_type": "code",
   "execution_count": null,
   "metadata": {
    "collapsed": true
   },
   "outputs": [],
   "source": []
  }
 ],
 "metadata": {
  "kernelspec": {
   "display_name": "Python 3",
   "language": "python",
   "name": "python3"
  },
  "language_info": {
   "codemirror_mode": {
    "name": "ipython",
    "version": 3
   },
   "file_extension": ".py",
   "mimetype": "text/x-python",
   "name": "python",
   "nbconvert_exporter": "python",
   "pygments_lexer": "ipython3",
   "version": "3.6.3"
  }
 },
 "nbformat": 4,
 "nbformat_minor": 2
}
