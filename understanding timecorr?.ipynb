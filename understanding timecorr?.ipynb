{
 "cells": [
  {
   "cell_type": "code",
   "execution_count": 1,
   "metadata": {
    "collapsed": true
   },
   "outputs": [],
   "source": [
    "import timecorr\n",
    "from timecorr import timecorr as tc"
   ]
  },
  {
   "cell_type": "code",
   "execution_count": 2,
   "metadata": {
    "collapsed": true
   },
   "outputs": [],
   "source": [
    "import numpy as np\n",
    "import pandas as pd"
   ]
  },
  {
   "cell_type": "code",
   "execution_count": 16,
   "metadata": {},
   "outputs": [
    {
     "name": "stdout",
     "output_type": "stream",
     "text": [
      "[1 2]\n"
     ]
    }
   ],
   "source": [
    "test0= np.array([1, 2])\n",
    "print (test0)"
   ]
  },
  {
   "cell_type": "code",
   "execution_count": 18,
   "metadata": {},
   "outputs": [
    {
     "data": {
      "text/plain": [
       "1"
      ]
     },
     "execution_count": 18,
     "metadata": {},
     "output_type": "execute_result"
    }
   ],
   "source": [
    "test0.ndim #does not work with 1 dim np.arrays "
   ]
  },
  {
   "cell_type": "code",
   "execution_count": 131,
   "metadata": {},
   "outputs": [],
   "source": [
    "test1= np.random.randn(10,3)"
   ]
  },
  {
   "cell_type": "code",
   "execution_count": 132,
   "metadata": {},
   "outputs": [
    {
     "data": {
      "text/plain": [
       "2"
      ]
     },
     "execution_count": 132,
     "metadata": {},
     "output_type": "execute_result"
    }
   ],
   "source": [
    "test1.ndim"
   ]
  },
  {
   "cell_type": "code",
   "execution_count": 134,
   "metadata": {},
   "outputs": [
    {
     "data": {
      "text/plain": [
       "(10, 6)"
      ]
     },
     "execution_count": 134,
     "metadata": {},
     "output_type": "execute_result"
    }
   ],
   "source": [
    "tctest1= tc(test1)\n",
    "tctest1.shape"
   ]
  },
  {
   "cell_type": "code",
   "execution_count": 89,
   "metadata": {},
   "outputs": [],
   "source": [
    "test2=np.array([[1, 2, 1, 2, 1, 2],[4, 10, 12, 35, 36, 24], [1, 2, 1, 2, 1, 2], [1, 2], [1, 2],[1, 2, 1, 2, 1, 2], [1, 2], [1, 2]])"
   ]
  },
  {
   "cell_type": "code",
   "execution_count": 84,
   "metadata": {},
   "outputs": [
    {
     "data": {
      "text/plain": [
       "2"
      ]
     },
     "execution_count": 84,
     "metadata": {},
     "output_type": "execute_result"
    }
   ],
   "source": [
    "test2.ndim"
   ]
  },
  {
   "cell_type": "code",
   "execution_count": 90,
   "metadata": {},
   "outputs": [],
   "source": [
    "tctest2=tc(test2)"
   ]
  },
  {
   "cell_type": "code",
   "execution_count": 79,
   "metadata": {},
   "outputs": [
    {
     "name": "stdout",
     "output_type": "stream",
     "text": [
      "   col1  col2  col3\n",
      "0     1     3     3\n",
      "1     2     4     4\n",
      "2     3     9     9\n"
     ]
    }
   ],
   "source": [
    "d = {'col1': [1, 2, 3], 'col2': [3, 4, 9], 'col3': [3, 4, 9]}\n",
    "test3=pd.DataFrame(data=d)\n",
    "print(test3)"
   ]
  },
  {
   "cell_type": "code",
   "execution_count": 91,
   "metadata": {},
   "outputs": [],
   "source": [
    "tctest3=tc(test3)"
   ]
  },
  {
   "cell_type": "code",
   "execution_count": 115,
   "metadata": {},
   "outputs": [
    {
     "name": "stdout",
     "output_type": "stream",
     "text": [
      "           AMT.CSV AMN.csv\n",
      "datefirst                 \n",
      "2005-02-25  16.846   13.28\n",
      "2005-02-28    16.6   13.53\n",
      "2005-03-01  16.912   13.17\n",
      "2005-03-02  16.846   13.36\n"
     ]
    },
    {
     "name": "stderr",
     "output_type": "stream",
     "text": [
      "/Users/Emily/anaconda3/lib/python3.6/site-packages/ipykernel_launcher.py:1: FutureWarning: from_csv is deprecated. Please use read_csv(...) instead. Note that some of the default arguments are different, so please refer to the documentation for from_csv when changing your function calls\n",
      "  \"\"\"Entry point for launching an IPython kernel.\n"
     ]
    }
   ],
   "source": [
    "df = pd.DataFrame.from_csv(\"new.csv\")\n",
    "test4=df[1:5]\n",
    "print(test4)"
   ]
  },
  {
   "cell_type": "code",
   "execution_count": 116,
   "metadata": {},
   "outputs": [
    {
     "data": {
      "text/plain": [
       "array([[ 0.76124489,  0.76159436,  0.76166459,  0.76166459,  0.76110518,\n",
       "         0.76236593,  0.76124489, -0.52056217, -0.32141358, -0.32141358,\n",
       "        -0.32121378, -0.32166384,  0.76124489, -0.52077217, -0.52077217,\n",
       "         0.52049149,  0.52112388, -0.52056217,  0.76166459, -0.32136387,\n",
       "        -0.32181208, -0.32141358, -0.32136387, -0.32181208, -0.32141358,\n",
       "        -0.32161447, -0.32121378, -0.32166384],\n",
       "       [ 0.76138435,  0.76159437,  0.76152425,  0.76152425,  0.76152425,\n",
       "         0.7619445 ,  0.76138435, -0.52063197, -0.32141315, -0.32141315,\n",
       "        -0.32141315, -0.32156296,  0.76138435, -0.52070197, -0.52070197,\n",
       "         0.52070186,  0.52091266, -0.52063197,  0.76152425, -0.32146297,\n",
       "        -0.32161258, -0.32141315, -0.32146297, -0.32161258, -0.32141315,\n",
       "        -0.32161258, -0.32141315, -0.32156296],\n",
       "       [ 0.76152425,  0.76159437,  0.76138435,  0.76138435,  0.7619445 ,\n",
       "         0.76152425,  0.76152425, -0.52070197, -0.32141315, -0.32141315,\n",
       "        -0.32161258, -0.32146297,  0.76152425, -0.52063197, -0.52063197,\n",
       "         0.52091266,  0.52070186, -0.52070197,  0.76138435, -0.32156296,\n",
       "        -0.32141315, -0.32141315, -0.32156296, -0.32141315, -0.32141315,\n",
       "        -0.32161258, -0.32161258, -0.32146297],\n",
       "       [ 0.76166459,  0.76159436,  0.76124489,  0.76124489,  0.76236593,\n",
       "         0.76110518,  0.76166459, -0.52077217, -0.32141358, -0.32141358,\n",
       "        -0.32181208, -0.32136387,  0.76166459, -0.52056217, -0.52056217,\n",
       "         0.52112388,  0.52049149, -0.52077217,  0.76124489, -0.32166384,\n",
       "        -0.32121378, -0.32141358, -0.32166384, -0.32121378, -0.32141358,\n",
       "        -0.32161447, -0.32181208, -0.32136387]])"
      ]
     },
     "execution_count": 116,
     "metadata": {},
     "output_type": "execute_result"
    }
   ],
   "source": [
    "tc(test4)"
   ]
  },
  {
   "cell_type": "code",
   "execution_count": 127,
   "metadata": {},
   "outputs": [
    {
     "name": "stdout",
     "output_type": "stream",
     "text": [
      "    datefirst AMT.CSV AMN.csv\n",
      "1  2005-02-25  16.846   13.28\n",
      "2  2005-02-28    16.6   13.53\n",
      "3  2005-03-01  16.912   13.17\n",
      "4  2005-03-02  16.846   13.36\n"
     ]
    }
   ],
   "source": [
    "df = pd.read_csv(\"new.csv\")\n",
    "test8=df[1:5]\n",
    "print(test8)"
   ]
  },
  {
   "cell_type": "code",
   "execution_count": 128,
   "metadata": {},
   "outputs": [
    {
     "data": {
      "text/plain": [
       "array([[ 0.76110518,  0.76124489,  0.76166459,  0.76236593,  0.76124489,\n",
       "         0.76159436,  0.76166459,  0.76166459,  0.76110518,  0.76236593,\n",
       "         0.76124489, -0.32121378, -0.32136387, -0.32161447, -0.32121378,\n",
       "         0.52049149, -0.32136387, -0.32136387,  0.76110518, -0.32161447,\n",
       "        -0.32121378, -0.32141358, -0.32166384,  0.76124489, -0.52056217,\n",
       "        -0.32141358, -0.32141358, -0.32121378, -0.32166384,  0.76124489,\n",
       "        -0.32181208, -0.32141358, -0.52077217,  0.76166459,  0.76166459,\n",
       "        -0.32136387, -0.32181208, -0.32141358, -0.32166384,  0.52112388,\n",
       "        -0.32181208, -0.32181208, -0.32161447,  0.76236593, -0.32166384,\n",
       "        -0.52056217, -0.32141358, -0.32141358, -0.32121378, -0.32166384,\n",
       "         0.76124489, -0.52077217, -0.52077217,  0.52049149,  0.52112388,\n",
       "        -0.52056217,  0.76166459, -0.32136387, -0.32181208, -0.32141358,\n",
       "        -0.32136387, -0.32181208, -0.32141358, -0.32161447, -0.32121378,\n",
       "        -0.32166384],\n",
       "       [ 0.76152425,  0.76138435,  0.76152425,  0.7619445 ,  0.76138435,\n",
       "         0.76159437,  0.76152425,  0.76152425,  0.76152425,  0.7619445 ,\n",
       "         0.76138435, -0.32141315, -0.32146297, -0.32161258, -0.32141315,\n",
       "         0.52070186, -0.32146297, -0.32146297,  0.76152425, -0.32161258,\n",
       "        -0.32141315, -0.32141315, -0.32156296,  0.76138435, -0.52063197,\n",
       "        -0.32141315, -0.32141315, -0.32141315, -0.32156296,  0.76138435,\n",
       "        -0.32161258, -0.32141315, -0.52070197,  0.76152425,  0.76152425,\n",
       "        -0.32146297, -0.32161258, -0.32141315, -0.32156296,  0.52091266,\n",
       "        -0.32161258, -0.32161258, -0.32161258,  0.7619445 , -0.32156296,\n",
       "        -0.52063197, -0.32141315, -0.32141315, -0.32141315, -0.32156296,\n",
       "         0.76138435, -0.52070197, -0.52070197,  0.52070186,  0.52091266,\n",
       "        -0.52063197,  0.76152425, -0.32146297, -0.32161258, -0.32141315,\n",
       "        -0.32146297, -0.32161258, -0.32141315, -0.32161258, -0.32141315,\n",
       "        -0.32156296],\n",
       "       [ 0.7619445 ,  0.76152425,  0.76138435,  0.76152425,  0.76152425,\n",
       "         0.76159437,  0.76138435,  0.76138435,  0.7619445 ,  0.76152425,\n",
       "         0.76152425, -0.32161258, -0.32156296, -0.32161258, -0.32161258,\n",
       "         0.52091266, -0.32156296, -0.32156296,  0.7619445 , -0.32161258,\n",
       "        -0.32161258, -0.32141315, -0.32146297,  0.76152425, -0.52070197,\n",
       "        -0.32141315, -0.32141315, -0.32161258, -0.32146297,  0.76152425,\n",
       "        -0.32141315, -0.32141315, -0.52063197,  0.76138435,  0.76138435,\n",
       "        -0.32156296, -0.32141315, -0.32141315, -0.32146297,  0.52070186,\n",
       "        -0.32141315, -0.32141315, -0.32161258,  0.76152425, -0.32146297,\n",
       "        -0.52070197, -0.32141315, -0.32141315, -0.32161258, -0.32146297,\n",
       "         0.76152425, -0.52063197, -0.52063197,  0.52091266,  0.52070186,\n",
       "        -0.52070197,  0.76138435, -0.32156296, -0.32141315, -0.32141315,\n",
       "        -0.32156296, -0.32141315, -0.32141315, -0.32161258, -0.32161258,\n",
       "        -0.32146297],\n",
       "       [ 0.76236593,  0.76166459,  0.76124489,  0.76110518,  0.76166459,\n",
       "         0.76159436,  0.76124489,  0.76124489,  0.76236593,  0.76110518,\n",
       "         0.76166459, -0.32181208, -0.32166384, -0.32161447, -0.32181208,\n",
       "         0.52112388, -0.32166384, -0.32166384,  0.76236593, -0.32161447,\n",
       "        -0.32181208, -0.32141358, -0.32136387,  0.76166459, -0.52077217,\n",
       "        -0.32141358, -0.32141358, -0.32181208, -0.32136387,  0.76166459,\n",
       "        -0.32121378, -0.32141358, -0.52056217,  0.76124489,  0.76124489,\n",
       "        -0.32166384, -0.32121378, -0.32141358, -0.32136387,  0.52049149,\n",
       "        -0.32121378, -0.32121378, -0.32161447,  0.76110518, -0.32136387,\n",
       "        -0.52077217, -0.32141358, -0.32141358, -0.32181208, -0.32136387,\n",
       "         0.76166459, -0.52056217, -0.52056217,  0.52112388,  0.52049149,\n",
       "        -0.52077217,  0.76124489, -0.32166384, -0.32121378, -0.32141358,\n",
       "        -0.32166384, -0.32121378, -0.32141358, -0.32161447, -0.32181208,\n",
       "        -0.32136387]])"
      ]
     },
     "execution_count": 128,
     "metadata": {},
     "output_type": "execute_result"
    }
   ],
   "source": [
    "tc(test8)"
   ]
  },
  {
   "cell_type": "code",
   "execution_count": 92,
   "metadata": {},
   "outputs": [],
   "source": [
    "test5= np.array([[4, 10, 12], [1, 2, 3],[8, 0, 2]])"
   ]
  },
  {
   "cell_type": "code",
   "execution_count": 28,
   "metadata": {},
   "outputs": [
    {
     "name": "stdout",
     "output_type": "stream",
     "text": [
      "[[1 2 1]\n",
      " [2 1 2]]\n"
     ]
    }
   ],
   "source": [
    "test6= np.array([[1, 2, 1], [2, 1, 2]])"
   ]
  },
  {
   "cell_type": "code",
   "execution_count": 32,
   "metadata": {},
   "outputs": [
    {
     "data": {
      "text/plain": [
       "2"
      ]
     },
     "execution_count": 32,
     "metadata": {},
     "output_type": "execute_result"
    }
   ],
   "source": [
    "test6.ndim"
   ]
  },
  {
   "cell_type": "code",
   "execution_count": 33,
   "metadata": {
    "collapsed": true
   },
   "outputs": [],
   "source": [
    "test7=np.array([[1, 0, 0],[0,1, 0],[0,0,1]])"
   ]
  },
  {
   "cell_type": "code",
   "execution_count": 93,
   "metadata": {},
   "outputs": [
    {
     "data": {
      "text/plain": [
       "array([[ 0.76141948,  0.76152427,  0.76183968, -0.4620025 , -0.46215053,\n",
       "        -0.46219942],\n",
       "       [ 0.76162917,  0.7615242 ,  0.76162917, -0.46210081, -0.46214993,\n",
       "        -0.46210081],\n",
       "       [ 0.76183968,  0.76152427,  0.76141948, -0.46219942, -0.46215053,\n",
       "        -0.4620025 ]])"
      ]
     },
     "execution_count": 93,
     "metadata": {},
     "output_type": "execute_result"
    }
   ],
   "source": [
    "tc(test7, mode= 'within')"
   ]
  },
  {
   "cell_type": "code",
   "execution_count": 94,
   "metadata": {},
   "outputs": [
    {
     "data": {
      "text/plain": [
       "array([[ 0.76141948,  0.76152427,  0.76183968, -0.4620025 , -0.46215053,\n",
       "        -0.46219942],\n",
       "       [ 0.76162917,  0.7615242 ,  0.76162917, -0.46210081, -0.46214993,\n",
       "        -0.46210081],\n",
       "       [ 0.76183968,  0.76152427,  0.76141948, -0.46219942, -0.46215053,\n",
       "        -0.4620025 ]])"
      ]
     },
     "execution_count": 94,
     "metadata": {},
     "output_type": "execute_result"
    }
   ],
   "source": [
    "tc(test7, mode='across')"
   ]
  },
  {
   "cell_type": "code",
   "execution_count": 129,
   "metadata": {},
   "outputs": [
    {
     "name": "stdout",
     "output_type": "stream",
     "text": [
      "(3, 3)\n",
      "(4, 2)\n",
      "(3, 3)\n",
      "(4, 2)\n",
      "(3, 3)\n",
      "(2, 3)\n",
      "(3, 3)\n",
      "(4, 3)\n"
     ]
    }
   ],
   "source": [
    "print(test1.shape)\n",
    "print(test2.shape)\n",
    "print(test3.shape)\n",
    "print(test4.shape)\n",
    "print(test5.shape)\n",
    "print(test6.shape)\n",
    "print(test7.shape)\n",
    "print(test8.shape)"
   ]
  },
  {
   "cell_type": "code",
   "execution_count": 130,
   "metadata": {},
   "outputs": [
    {
     "name": "stdout",
     "output_type": "stream",
     "text": [
      "(3, 6)\n",
      "(4, 3)\n",
      "(3, 6)\n",
      "(4, 28)\n",
      "(3, 6)\n",
      "(2, 6)\n",
      "(3, 6)\n",
      "(4, 66)\n"
     ]
    }
   ],
   "source": [
    "print(tc(test1).shape)\n",
    "print(tc(test2).shape)\n",
    "print(tc(test3).shape)\n",
    "print(tc(test4).shape)\n",
    "print(tc(test5).shape)\n",
    "print(tc(test6).shape)\n",
    "print(tc(test7).shape)\n",
    "print(tc(test8).shape)"
   ]
  },
  {
   "cell_type": "code",
   "execution_count": 100,
   "metadata": {},
   "outputs": [
    {
     "name": "stderr",
     "output_type": "stream",
     "text": [
      "/Users/Emily/anaconda3/lib/python3.6/site-packages/pandas/core/frame.py:5489: FutureWarning: elementwise comparison failed; returning scalar instead, but in the future will perform elementwise comparison\n",
      "  if method == 'pearson':\n",
      "/Users/Emily/anaconda3/lib/python3.6/site-packages/pandas/core/frame.py:5491: FutureWarning: elementwise comparison failed; returning scalar instead, but in the future will perform elementwise comparison\n",
      "  elif method == 'spearman':\n",
      "/Users/Emily/anaconda3/lib/python3.6/site-packages/pandas/core/nanops.py:763: FutureWarning: elementwise comparison failed; returning scalar instead, but in the future will perform elementwise comparison\n",
      "  if method in ['kendall', 'spearman']:\n"
     ]
    },
    {
     "ename": "TypeError",
     "evalue": "unhashable type: 'numpy.ndarray'",
     "output_type": "error",
     "traceback": [
      "\u001b[0;31m---------------------------------------------------------------------------\u001b[0m",
      "\u001b[0;31mTypeError\u001b[0m                                 Traceback (most recent call last)",
      "\u001b[0;32m<ipython-input-100-8e317ee83476>\u001b[0m in \u001b[0;36m<module>\u001b[0;34m()\u001b[0m\n\u001b[1;32m      1\u001b[0m \u001b[0;32mimport\u001b[0m \u001b[0mmatplotlib\u001b[0m\u001b[0;34m\u001b[0m\u001b[0m\n\u001b[0;32m----> 2\u001b[0;31m \u001b[0mmatplotlib\u001b[0m\u001b[0;34m.\u001b[0m\u001b[0mpyplot\u001b[0m\u001b[0;34m.\u001b[0m\u001b[0mmatshow\u001b[0m\u001b[0;34m(\u001b[0m\u001b[0mdf\u001b[0m\u001b[0;34m.\u001b[0m\u001b[0mcorr\u001b[0m\u001b[0;34m(\u001b[0m\u001b[0mtc\u001b[0m\u001b[0;34m(\u001b[0m\u001b[0mtest3\u001b[0m\u001b[0;34m)\u001b[0m\u001b[0;34m)\u001b[0m\u001b[0;34m)\u001b[0m\u001b[0;34m\u001b[0m\u001b[0m\n\u001b[0m",
      "\u001b[0;32m~/anaconda3/lib/python3.6/site-packages/pandas/core/frame.py\u001b[0m in \u001b[0;36mcorr\u001b[0;34m(self, method, min_periods)\u001b[0m\n\u001b[1;32m   5496\u001b[0m                 \u001b[0mmin_periods\u001b[0m \u001b[0;34m=\u001b[0m \u001b[0;36m1\u001b[0m\u001b[0;34m\u001b[0m\u001b[0m\n\u001b[1;32m   5497\u001b[0m             \u001b[0mmat\u001b[0m \u001b[0;34m=\u001b[0m \u001b[0m_ensure_float64\u001b[0m\u001b[0;34m(\u001b[0m\u001b[0mmat\u001b[0m\u001b[0;34m)\u001b[0m\u001b[0;34m.\u001b[0m\u001b[0mT\u001b[0m\u001b[0;34m\u001b[0m\u001b[0m\n\u001b[0;32m-> 5498\u001b[0;31m             \u001b[0mcorrf\u001b[0m \u001b[0;34m=\u001b[0m \u001b[0mnanops\u001b[0m\u001b[0;34m.\u001b[0m\u001b[0mget_corr_func\u001b[0m\u001b[0;34m(\u001b[0m\u001b[0mmethod\u001b[0m\u001b[0;34m)\u001b[0m\u001b[0;34m\u001b[0m\u001b[0m\n\u001b[0m\u001b[1;32m   5499\u001b[0m             \u001b[0mK\u001b[0m \u001b[0;34m=\u001b[0m \u001b[0mlen\u001b[0m\u001b[0;34m(\u001b[0m\u001b[0mcols\u001b[0m\u001b[0;34m)\u001b[0m\u001b[0;34m\u001b[0m\u001b[0m\n\u001b[1;32m   5500\u001b[0m             \u001b[0mcorrel\u001b[0m \u001b[0;34m=\u001b[0m \u001b[0mnp\u001b[0m\u001b[0;34m.\u001b[0m\u001b[0mempty\u001b[0m\u001b[0;34m(\u001b[0m\u001b[0;34m(\u001b[0m\u001b[0mK\u001b[0m\u001b[0;34m,\u001b[0m \u001b[0mK\u001b[0m\u001b[0;34m)\u001b[0m\u001b[0;34m,\u001b[0m \u001b[0mdtype\u001b[0m\u001b[0;34m=\u001b[0m\u001b[0mfloat\u001b[0m\u001b[0;34m)\u001b[0m\u001b[0;34m\u001b[0m\u001b[0m\n",
      "\u001b[0;32m~/anaconda3/lib/python3.6/site-packages/pandas/core/nanops.py\u001b[0m in \u001b[0;36mget_corr_func\u001b[0;34m(method)\u001b[0m\n\u001b[1;32m    781\u001b[0m         \u001b[0;34m'spearman'\u001b[0m\u001b[0;34m:\u001b[0m \u001b[0m_spearman\u001b[0m\u001b[0;34m\u001b[0m\u001b[0m\n\u001b[1;32m    782\u001b[0m     }\n\u001b[0;32m--> 783\u001b[0;31m     \u001b[0;32mreturn\u001b[0m \u001b[0m_cor_methods\u001b[0m\u001b[0;34m[\u001b[0m\u001b[0mmethod\u001b[0m\u001b[0;34m]\u001b[0m\u001b[0;34m\u001b[0m\u001b[0m\n\u001b[0m\u001b[1;32m    784\u001b[0m \u001b[0;34m\u001b[0m\u001b[0m\n\u001b[1;32m    785\u001b[0m \u001b[0;34m\u001b[0m\u001b[0m\n",
      "\u001b[0;31mTypeError\u001b[0m: unhashable type: 'numpy.ndarray'"
     ]
    }
   ],
   "source": [
    "import matplotlib \n",
    "matplotlib.pyplot.matshow(df.corr(tc(test3)))"
   ]
  },
  {
   "cell_type": "code",
   "execution_count": 110,
   "metadata": {},
   "outputs": [
    {
     "name": "stderr",
     "output_type": "stream",
     "text": [
      "/Users/Emily/anaconda3/lib/python3.6/site-packages/pandas/core/frame.py:5489: FutureWarning: elementwise comparison failed; returning scalar instead, but in the future will perform elementwise comparison\n",
      "  if method == 'pearson':\n",
      "/Users/Emily/anaconda3/lib/python3.6/site-packages/pandas/core/frame.py:5491: FutureWarning: elementwise comparison failed; returning scalar instead, but in the future will perform elementwise comparison\n",
      "  elif method == 'spearman':\n",
      "/Users/Emily/anaconda3/lib/python3.6/site-packages/pandas/core/nanops.py:763: FutureWarning: elementwise comparison failed; returning scalar instead, but in the future will perform elementwise comparison\n",
      "  if method in ['kendall', 'spearman']:\n"
     ]
    },
    {
     "ename": "TypeError",
     "evalue": "unhashable type: 'numpy.ndarray'",
     "output_type": "error",
     "traceback": [
      "\u001b[0;31m---------------------------------------------------------------------------\u001b[0m",
      "\u001b[0;31mTypeError\u001b[0m                                 Traceback (most recent call last)",
      "\u001b[0;32m<ipython-input-110-4888a2641701>\u001b[0m in \u001b[0;36m<module>\u001b[0;34m()\u001b[0m\n\u001b[1;32m      1\u001b[0m \u001b[0;32mimport\u001b[0m \u001b[0mseaborn\u001b[0m \u001b[0;32mas\u001b[0m \u001b[0msns\u001b[0m\u001b[0;34m\u001b[0m\u001b[0m\n\u001b[0;32m----> 2\u001b[0;31m \u001b[0mcorr\u001b[0m \u001b[0;34m=\u001b[0m \u001b[0mdf\u001b[0m\u001b[0;34m.\u001b[0m\u001b[0mcorr\u001b[0m\u001b[0;34m(\u001b[0m\u001b[0mtc\u001b[0m\u001b[0;34m(\u001b[0m\u001b[0mtest3\u001b[0m\u001b[0;34m)\u001b[0m\u001b[0;34m)\u001b[0m\u001b[0;34m\u001b[0m\u001b[0m\n\u001b[0m\u001b[1;32m      3\u001b[0m sns.heatmap(corr, \n\u001b[1;32m      4\u001b[0m             \u001b[0mxticklabels\u001b[0m\u001b[0;34m=\u001b[0m\u001b[0mcorr\u001b[0m\u001b[0;34m.\u001b[0m\u001b[0mcolumns\u001b[0m\u001b[0;34m.\u001b[0m\u001b[0mvalues\u001b[0m\u001b[0;34m,\u001b[0m\u001b[0;34m\u001b[0m\u001b[0m\n\u001b[1;32m      5\u001b[0m             yticklabels=corr.columns.values)\n",
      "\u001b[0;32m~/anaconda3/lib/python3.6/site-packages/pandas/core/frame.py\u001b[0m in \u001b[0;36mcorr\u001b[0;34m(self, method, min_periods)\u001b[0m\n\u001b[1;32m   5496\u001b[0m                 \u001b[0mmin_periods\u001b[0m \u001b[0;34m=\u001b[0m \u001b[0;36m1\u001b[0m\u001b[0;34m\u001b[0m\u001b[0m\n\u001b[1;32m   5497\u001b[0m             \u001b[0mmat\u001b[0m \u001b[0;34m=\u001b[0m \u001b[0m_ensure_float64\u001b[0m\u001b[0;34m(\u001b[0m\u001b[0mmat\u001b[0m\u001b[0;34m)\u001b[0m\u001b[0;34m.\u001b[0m\u001b[0mT\u001b[0m\u001b[0;34m\u001b[0m\u001b[0m\n\u001b[0;32m-> 5498\u001b[0;31m             \u001b[0mcorrf\u001b[0m \u001b[0;34m=\u001b[0m \u001b[0mnanops\u001b[0m\u001b[0;34m.\u001b[0m\u001b[0mget_corr_func\u001b[0m\u001b[0;34m(\u001b[0m\u001b[0mmethod\u001b[0m\u001b[0;34m)\u001b[0m\u001b[0;34m\u001b[0m\u001b[0m\n\u001b[0m\u001b[1;32m   5499\u001b[0m             \u001b[0mK\u001b[0m \u001b[0;34m=\u001b[0m \u001b[0mlen\u001b[0m\u001b[0;34m(\u001b[0m\u001b[0mcols\u001b[0m\u001b[0;34m)\u001b[0m\u001b[0;34m\u001b[0m\u001b[0m\n\u001b[1;32m   5500\u001b[0m             \u001b[0mcorrel\u001b[0m \u001b[0;34m=\u001b[0m \u001b[0mnp\u001b[0m\u001b[0;34m.\u001b[0m\u001b[0mempty\u001b[0m\u001b[0;34m(\u001b[0m\u001b[0;34m(\u001b[0m\u001b[0mK\u001b[0m\u001b[0;34m,\u001b[0m \u001b[0mK\u001b[0m\u001b[0;34m)\u001b[0m\u001b[0;34m,\u001b[0m \u001b[0mdtype\u001b[0m\u001b[0;34m=\u001b[0m\u001b[0mfloat\u001b[0m\u001b[0;34m)\u001b[0m\u001b[0;34m\u001b[0m\u001b[0m\n",
      "\u001b[0;32m~/anaconda3/lib/python3.6/site-packages/pandas/core/nanops.py\u001b[0m in \u001b[0;36mget_corr_func\u001b[0;34m(method)\u001b[0m\n\u001b[1;32m    781\u001b[0m         \u001b[0;34m'spearman'\u001b[0m\u001b[0;34m:\u001b[0m \u001b[0m_spearman\u001b[0m\u001b[0;34m\u001b[0m\u001b[0m\n\u001b[1;32m    782\u001b[0m     }\n\u001b[0;32m--> 783\u001b[0;31m     \u001b[0;32mreturn\u001b[0m \u001b[0m_cor_methods\u001b[0m\u001b[0;34m[\u001b[0m\u001b[0mmethod\u001b[0m\u001b[0;34m]\u001b[0m\u001b[0;34m\u001b[0m\u001b[0m\n\u001b[0m\u001b[1;32m    784\u001b[0m \u001b[0;34m\u001b[0m\u001b[0m\n\u001b[1;32m    785\u001b[0m \u001b[0;34m\u001b[0m\u001b[0m\n",
      "\u001b[0;31mTypeError\u001b[0m: unhashable type: 'numpy.ndarray'"
     ]
    }
   ],
   "source": [
    "import seaborn as sns\n",
    "corr = df.corr(tc(test3))\n",
    "sns.heatmap(corr, \n",
    "            xticklabels=corr.columns.values,\n",
    "            yticklabels=corr.columns.values)"
   ]
  },
  {
   "cell_type": "code",
   "execution_count": null,
   "metadata": {
    "collapsed": true
   },
   "outputs": [],
   "source": []
  }
 ],
 "metadata": {
  "kernelspec": {
   "display_name": "Python 3",
   "language": "python",
   "name": "python3"
  },
  "language_info": {
   "codemirror_mode": {
    "name": "ipython",
    "version": 3
   },
   "file_extension": ".py",
   "mimetype": "text/x-python",
   "name": "python",
   "nbconvert_exporter": "python",
   "pygments_lexer": "ipython3",
   "version": "3.6.3"
  }
 },
 "nbformat": 4,
 "nbformat_minor": 2
}
