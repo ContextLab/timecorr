{
 "cells": [
  {
   "cell_type": "code",
   "execution_count": 1,
   "metadata": {
    "collapsed": false
   },
   "outputs": [
    {
     "name": "stdout",
     "output_type": "stream",
     "text": [
      "Requirement already satisfied: hypertools in /Users/ThousandSunny/anaconda/lib/python2.7/site-packages\n",
      "Requirement already satisfied: scipy>=0.17.1 in /Users/ThousandSunny/anaconda/lib/python2.7/site-packages (from hypertools)\n",
      "Requirement already satisfied: pandas>=0.18.0 in /Users/ThousandSunny/anaconda/lib/python2.7/site-packages (from hypertools)\n",
      "Requirement already satisfied: matplotlib>=1.5.1 in /Users/ThousandSunny/anaconda/lib/python2.7/site-packages (from hypertools)\n",
      "Requirement already satisfied: PPCA>=0.0.2 in /Users/ThousandSunny/anaconda/lib/python2.7/site-packages (from hypertools)\n",
      "Requirement already satisfied: numpy>=1.10.4 in /Users/ThousandSunny/anaconda/lib/python2.7/site-packages (from hypertools)\n",
      "Requirement already satisfied: future in /Users/ThousandSunny/anaconda/lib/python2.7/site-packages (from hypertools)\n",
      "Requirement already satisfied: scikit-learn>=0.18.1 in /Users/ThousandSunny/anaconda/lib/python2.7/site-packages (from hypertools)\n",
      "Requirement already satisfied: seaborn>=0.7.1 in /Users/ThousandSunny/anaconda/lib/python2.7/site-packages (from hypertools)\n",
      "Requirement already satisfied: python-dateutil in /Users/ThousandSunny/anaconda/lib/python2.7/site-packages (from pandas>=0.18.0->hypertools)\n",
      "Requirement already satisfied: pytz>=2011k in /Users/ThousandSunny/anaconda/lib/python2.7/site-packages (from pandas>=0.18.0->hypertools)\n",
      "Requirement already satisfied: six>=1.10 in /Users/ThousandSunny/anaconda/lib/python2.7/site-packages (from matplotlib>=1.5.1->hypertools)\n",
      "Requirement already satisfied: functools32 in /Users/ThousandSunny/anaconda/lib/python2.7/site-packages (from matplotlib>=1.5.1->hypertools)\n",
      "Requirement already satisfied: subprocess32 in /Users/ThousandSunny/anaconda/lib/python2.7/site-packages (from matplotlib>=1.5.1->hypertools)\n",
      "Requirement already satisfied: cycler>=0.10 in /Users/ThousandSunny/anaconda/lib/python2.7/site-packages (from matplotlib>=1.5.1->hypertools)\n",
      "Requirement already satisfied: pyparsing!=2.0.4,!=2.1.2,!=2.1.6,>=1.5.6 in /Users/ThousandSunny/anaconda/lib/python2.7/site-packages (from matplotlib>=1.5.1->hypertools)\n"
     ]
    }
   ],
   "source": [
    "!pip install hypertools"
   ]
  },
  {
   "cell_type": "code",
   "execution_count": 1,
   "metadata": {
    "collapsed": false
   },
   "outputs": [
    {
     "name": "stdout",
     "output_type": "stream",
     "text": [
      "across\n",
      "(1000, (15,))\n",
      "within\n",
      "(5, (1000, 15))\n"
     ]
    },
    {
     "ename": "ValueError",
     "evalue": "Found array with dim 3. Estimator expected <= 2.",
     "output_type": "error",
     "traceback": [
      "\u001b[0;31m---------------------------------------------------------------------------\u001b[0m",
      "\u001b[0;31mValueError\u001b[0m                                Traceback (most recent call last)",
      "\u001b[0;32m<ipython-input-1-154780e4984f>\u001b[0m in \u001b[0;36m<module>\u001b[0;34m()\u001b[0m\n\u001b[1;32m     57\u001b[0m     \u001b[0;32mfor\u001b[0m \u001b[0mn\u001b[0m \u001b[0;32min\u001b[0m \u001b[0mrange\u001b[0m\u001b[0;34m(\u001b[0m\u001b[0mnoise_num\u001b[0m\u001b[0;34m)\u001b[0m\u001b[0;34m:\u001b[0m\u001b[0;34m\u001b[0m\u001b[0m\n\u001b[1;32m     58\u001b[0m         \u001b[0mtimecorr_level1\u001b[0m \u001b[0;34m=\u001b[0m \u001b[0mlevelup\u001b[0m\u001b[0;34m(\u001b[0m\u001b[0mactivations\u001b[0m\u001b[0;34m[\u001b[0m\u001b[0mn\u001b[0m\u001b[0;34m]\u001b[0m\u001b[0;34m,\u001b[0m\u001b[0;34m\"across\"\u001b[0m\u001b[0;34m)\u001b[0m\u001b[0;34m\u001b[0m\u001b[0m\n\u001b[0;32m---> 59\u001b[0;31m         \u001b[0mtemp\u001b[0m \u001b[0;34m=\u001b[0m \u001b[0mlevelup\u001b[0m\u001b[0;34m(\u001b[0m\u001b[0mactivations\u001b[0m\u001b[0;34m[\u001b[0m\u001b[0mn\u001b[0m\u001b[0;34m]\u001b[0m\u001b[0;34m,\u001b[0m\u001b[0;34m\"within\"\u001b[0m\u001b[0;34m)\u001b[0m\u001b[0;34m\u001b[0m\u001b[0m\n\u001b[0m\u001b[1;32m     60\u001b[0m         \u001b[0;32mfor\u001b[0m \u001b[0mz\u001b[0m \u001b[0;32min\u001b[0m \u001b[0mrange\u001b[0m\u001b[0;34m(\u001b[0m\u001b[0mlen\u001b[0m\u001b[0;34m(\u001b[0m\u001b[0mtemp\u001b[0m\u001b[0;34m)\u001b[0m\u001b[0;34m)\u001b[0m\u001b[0;34m:\u001b[0m\u001b[0;34m\u001b[0m\u001b[0m\n\u001b[1;32m     61\u001b[0m             \u001b[0mtemp\u001b[0m\u001b[0;34m[\u001b[0m\u001b[0mz\u001b[0m\u001b[0;34m]\u001b[0m \u001b[0;34m=\u001b[0m \u001b[0mtemp\u001b[0m\u001b[0;34m[\u001b[0m\u001b[0mz\u001b[0m\u001b[0;34m]\u001b[0m\u001b[0;34m.\u001b[0m\u001b[0mT\u001b[0m\u001b[0;34m\u001b[0m\u001b[0m\n",
      "\u001b[0;32m/Users/ThousandSunny/Documents/Research/timecorr/timecorr/timecorr.py\u001b[0m in \u001b[0;36mlevelup\u001b[0;34m(x0, mode)\u001b[0m\n\u001b[1;32m     40\u001b[0m     \u001b[0mc\u001b[0m \u001b[0;34m=\u001b[0m \u001b[0mtimecorr\u001b[0m\u001b[0;34m(\u001b[0m\u001b[0mx0\u001b[0m\u001b[0;34m,\u001b[0m \u001b[0mmode\u001b[0m\u001b[0;34m=\u001b[0m\u001b[0mmode\u001b[0m\u001b[0;34m)\u001b[0m\u001b[0;34m\u001b[0m\u001b[0m\n\u001b[1;32m     41\u001b[0m     \u001b[0;32mprint\u001b[0m\u001b[0;34m(\u001b[0m\u001b[0mlen\u001b[0m\u001b[0;34m(\u001b[0m\u001b[0mc\u001b[0m\u001b[0;34m)\u001b[0m\u001b[0;34m,\u001b[0m\u001b[0mc\u001b[0m\u001b[0;34m[\u001b[0m\u001b[0;36m0\u001b[0m\u001b[0;34m]\u001b[0m\u001b[0;34m.\u001b[0m\u001b[0mshape\u001b[0m\u001b[0;34m)\u001b[0m\u001b[0;34m\u001b[0m\u001b[0m\n\u001b[0;32m---> 42\u001b[0;31m     \u001b[0;32mreturn\u001b[0m \u001b[0mhyp\u001b[0m\u001b[0;34m.\u001b[0m\u001b[0mtools\u001b[0m\u001b[0;34m.\u001b[0m\u001b[0mreduce\u001b[0m\u001b[0;34m(\u001b[0m\u001b[0mc\u001b[0m\u001b[0;34m,\u001b[0m \u001b[0mndims\u001b[0m\u001b[0;34m=\u001b[0m\u001b[0mV\u001b[0m\u001b[0;34m)\u001b[0m\u001b[0;34m\u001b[0m\u001b[0m\n\u001b[0m\u001b[1;32m     43\u001b[0m \u001b[0;34m\u001b[0m\u001b[0m\n\u001b[1;32m     44\u001b[0m \u001b[0;32mdef\u001b[0m \u001b[0msliding_window_levelup\u001b[0m\u001b[0;34m(\u001b[0m\u001b[0mx0\u001b[0m\u001b[0;34m,\u001b[0m \u001b[0mestimation_range\u001b[0m\u001b[0;34m=\u001b[0m\u001b[0;36m51\u001b[0m\u001b[0;34m,\u001b[0m \u001b[0mmode\u001b[0m \u001b[0;34m=\u001b[0m \u001b[0;34m\"within\"\u001b[0m\u001b[0;34m)\u001b[0m\u001b[0;34m:\u001b[0m\u001b[0;34m\u001b[0m\u001b[0m\n",
      "\u001b[0;32m/Users/ThousandSunny/anaconda/lib/python2.7/site-packages/hypertools/tools/reduce.pyc\u001b[0m in \u001b[0;36mreduce\u001b[0;34m(x, ndims, method, normalize, internal)\u001b[0m\n\u001b[1;32m     88\u001b[0m \u001b[0;34m\u001b[0m\u001b[0m\n\u001b[1;32m     89\u001b[0m     \u001b[0;32mif\u001b[0m \u001b[0mmethod\u001b[0m\u001b[0;34m==\u001b[0m\u001b[0;34m'PCA'\u001b[0m\u001b[0;34m:\u001b[0m\u001b[0;34m\u001b[0m\u001b[0m\n\u001b[0;32m---> 90\u001b[0;31m         \u001b[0mx_reduced\u001b[0m \u001b[0;34m=\u001b[0m \u001b[0mreducePCA\u001b[0m\u001b[0;34m(\u001b[0m\u001b[0mx\u001b[0m\u001b[0;34m,\u001b[0m\u001b[0mndims\u001b[0m\u001b[0;34m)\u001b[0m\u001b[0;34m\u001b[0m\u001b[0m\n\u001b[0m\u001b[1;32m     91\u001b[0m \u001b[0;34m\u001b[0m\u001b[0m\n\u001b[1;32m     92\u001b[0m     \u001b[0;32mif\u001b[0m \u001b[0minternal\u001b[0m \u001b[0;32mor\u001b[0m \u001b[0mlen\u001b[0m\u001b[0;34m(\u001b[0m\u001b[0mx_reduced\u001b[0m\u001b[0;34m)\u001b[0m\u001b[0;34m>\u001b[0m\u001b[0;36m1\u001b[0m\u001b[0;34m:\u001b[0m\u001b[0;34m\u001b[0m\u001b[0m\n",
      "\u001b[0;32m/Users/ThousandSunny/anaconda/lib/python2.7/site-packages/hypertools/tools/reduce.pyc\u001b[0m in \u001b[0;36mreducePCA\u001b[0;34m(x, ndim)\u001b[0m\n\u001b[1;32m     74\u001b[0m         \u001b[0;32melse\u001b[0m\u001b[0;34m:\u001b[0m\u001b[0;34m\u001b[0m\u001b[0m\n\u001b[1;32m     75\u001b[0m             \u001b[0mm\u001b[0m\u001b[0;34m=\u001b[0m\u001b[0mPCA\u001b[0m\u001b[0;34m(\u001b[0m\u001b[0mn_components\u001b[0m\u001b[0;34m=\u001b[0m\u001b[0mndim\u001b[0m\u001b[0;34m,\u001b[0m \u001b[0mwhiten\u001b[0m\u001b[0;34m=\u001b[0m\u001b[0mTrue\u001b[0m\u001b[0;34m)\u001b[0m\u001b[0;34m\u001b[0m\u001b[0m\n\u001b[0;32m---> 76\u001b[0;31m             \u001b[0mm\u001b[0m\u001b[0;34m.\u001b[0m\u001b[0mfit\u001b[0m\u001b[0;34m(\u001b[0m\u001b[0mnp\u001b[0m\u001b[0;34m.\u001b[0m\u001b[0mvstack\u001b[0m\u001b[0;34m(\u001b[0m\u001b[0mx\u001b[0m\u001b[0;34m)\u001b[0m\u001b[0;34m)\u001b[0m\u001b[0;34m\u001b[0m\u001b[0m\n\u001b[0m\u001b[1;32m     77\u001b[0m             \u001b[0;32mif\u001b[0m \u001b[0mlen\u001b[0m\u001b[0;34m(\u001b[0m\u001b[0mx\u001b[0m\u001b[0;34m)\u001b[0m\u001b[0;34m>\u001b[0m\u001b[0;36m1\u001b[0m\u001b[0;34m:\u001b[0m\u001b[0;34m\u001b[0m\u001b[0m\n\u001b[1;32m     78\u001b[0m                 \u001b[0;32mreturn\u001b[0m \u001b[0;34m[\u001b[0m\u001b[0mm\u001b[0m\u001b[0;34m.\u001b[0m\u001b[0mtransform\u001b[0m\u001b[0;34m(\u001b[0m\u001b[0mi\u001b[0m\u001b[0;34m)\u001b[0m \u001b[0;32mfor\u001b[0m \u001b[0mi\u001b[0m \u001b[0;32min\u001b[0m \u001b[0mx\u001b[0m\u001b[0;34m]\u001b[0m\u001b[0;34m\u001b[0m\u001b[0m\n",
      "\u001b[0;32m/Users/ThousandSunny/anaconda/lib/python2.7/site-packages/sklearn/decomposition/pca.pyc\u001b[0m in \u001b[0;36mfit\u001b[0;34m(self, X, y)\u001b[0m\n\u001b[1;32m    305\u001b[0m             \u001b[0mReturns\u001b[0m \u001b[0mthe\u001b[0m \u001b[0minstance\u001b[0m \u001b[0mitself\u001b[0m\u001b[0;34m.\u001b[0m\u001b[0;34m\u001b[0m\u001b[0m\n\u001b[1;32m    306\u001b[0m         \"\"\"\n\u001b[0;32m--> 307\u001b[0;31m         \u001b[0mself\u001b[0m\u001b[0;34m.\u001b[0m\u001b[0m_fit\u001b[0m\u001b[0;34m(\u001b[0m\u001b[0mX\u001b[0m\u001b[0;34m)\u001b[0m\u001b[0;34m\u001b[0m\u001b[0m\n\u001b[0m\u001b[1;32m    308\u001b[0m         \u001b[0;32mreturn\u001b[0m \u001b[0mself\u001b[0m\u001b[0;34m\u001b[0m\u001b[0m\n\u001b[1;32m    309\u001b[0m \u001b[0;34m\u001b[0m\u001b[0m\n",
      "\u001b[0;32m/Users/ThousandSunny/anaconda/lib/python2.7/site-packages/sklearn/decomposition/pca.pyc\u001b[0m in \u001b[0;36m_fit\u001b[0;34m(self, X)\u001b[0m\n\u001b[1;32m    344\u001b[0m \u001b[0;34m\u001b[0m\u001b[0m\n\u001b[1;32m    345\u001b[0m         X = check_array(X, dtype=[np.float64], ensure_2d=True,\n\u001b[0;32m--> 346\u001b[0;31m                         copy=self.copy)\n\u001b[0m\u001b[1;32m    347\u001b[0m \u001b[0;34m\u001b[0m\u001b[0m\n\u001b[1;32m    348\u001b[0m         \u001b[0;31m# Handle n_components==None\u001b[0m\u001b[0;34m\u001b[0m\u001b[0;34m\u001b[0m\u001b[0m\n",
      "\u001b[0;32m/Users/ThousandSunny/anaconda/lib/python2.7/site-packages/sklearn/utils/validation.pyc\u001b[0m in \u001b[0;36mcheck_array\u001b[0;34m(array, accept_sparse, dtype, order, copy, force_all_finite, ensure_2d, allow_nd, ensure_min_samples, ensure_min_features, warn_on_dtype, estimator)\u001b[0m\n\u001b[1;32m    403\u001b[0m         \u001b[0;32mif\u001b[0m \u001b[0;32mnot\u001b[0m \u001b[0mallow_nd\u001b[0m \u001b[0;32mand\u001b[0m \u001b[0marray\u001b[0m\u001b[0;34m.\u001b[0m\u001b[0mndim\u001b[0m \u001b[0;34m>=\u001b[0m \u001b[0;36m3\u001b[0m\u001b[0;34m:\u001b[0m\u001b[0;34m\u001b[0m\u001b[0m\n\u001b[1;32m    404\u001b[0m             raise ValueError(\"Found array with dim %d. %s expected <= 2.\"\n\u001b[0;32m--> 405\u001b[0;31m                              % (array.ndim, estimator_name))\n\u001b[0m\u001b[1;32m    406\u001b[0m         \u001b[0;32mif\u001b[0m \u001b[0mforce_all_finite\u001b[0m\u001b[0;34m:\u001b[0m\u001b[0;34m\u001b[0m\u001b[0m\n\u001b[1;32m    407\u001b[0m             \u001b[0m_assert_all_finite\u001b[0m\u001b[0;34m(\u001b[0m\u001b[0marray\u001b[0m\u001b[0;34m)\u001b[0m\u001b[0;34m\u001b[0m\u001b[0m\n",
      "\u001b[0;31mValueError\u001b[0m: Found array with dim 3. Estimator expected <= 2."
     ]
    }
   ],
   "source": [
    "import numpy as np\n",
    "from scipy.linalg import cholesky\n",
    "from scipy.spatial.distance import squareform\n",
    "from scipy.stats.stats import pearsonr\n",
    "import sys\n",
    "import os\n",
    "sys.path.append(os.path.abspath('../'))\n",
    "from timecorr.timecorr import levelup, sliding_window_levelup\n",
    "import matplotlib.pyplot as plt\n",
    "from math import log\n",
    "\n",
    "sliding_window_length = 51\n",
    "block_length = 1\n",
    "covariance_num = 1000\n",
    "noise_level = [0.01,0.1,1,10]\n",
    "repetitions=1\n",
    "noise_num = len(noise_level)\n",
    "time_range=time_len = block_length * covariance_num\n",
    "activation_num = 6\n",
    "subject_num = 5\n",
    "variance = 1000\n",
    "activations = [[np.random.normal(0,1,[activation_num, time_len]) for i in range(subject_num)] for j in range(noise_num)]\n",
    "correlations = np.zeros([covariance_num,activation_num,activation_num])\n",
    "correlation1,correlation2 = np.zeros([activation_num,activation_num]), np.zeros([activation_num,activation_num])\n",
    "\n",
    "\n",
    "def is_pos_def(x):\n",
    "    return np.all(np.linalg.eigvals(x) > 0)\n",
    "\n",
    "def cholesky_ramp_correlation_data():\n",
    "    global activations, correlations,correlation1,correlation2\n",
    "    correlations = np.zeros([covariance_num,activation_num,activation_num])\n",
    "    activations_temp = np.random.normal(0,1,[activation_num, time_len])\n",
    "    \n",
    "    while not is_pos_def(correlation1):\n",
    "        feature_map1 = np.random.normal(0,1,[activation_num,activation_num])\n",
    "        correlation1 = np.dot(feature_map1,feature_map1.T)\n",
    "        correlation1 = correlation1/np.max(abs(correlation1))\n",
    "    while not is_pos_def(correlation2):\n",
    "        feature_map2 = np.random.normal(0,1,[activation_num,activation_num])\n",
    "        correlation2 = np.dot(feature_map2,feature_map2.T)\n",
    "        correlation2 = correlation2/np.max(abs(correlation2))\n",
    "    for i in range(time_len/2):\n",
    "        cov_temp = (time_len-i)*0.5*(np.log(1+correlation1+1e-5) - np.log(1-correlation1+1e-5))/float(time_len)+i*0.5*(np.log(1+correlation2+1e-5) - np.log(1-correlation2+1e-5))/float(time_len)\n",
    "        correlations[i] =  (np.exp(2*cov_temp) - 1)/(np.exp(2*cov_temp) + 1)\n",
    "        activations_temp[:,i] = np.dot(cholesky(correlations[i]),activations_temp[:,i])\n",
    "    for i in range(time_len/2):\n",
    "        correlations[time_len/2+i] =  correlations[time_len/2-i-1]\n",
    "        activations_temp[:,time_len/2+i] = np.dot(cholesky(correlations[time_len/2+i]),activations_temp[:,time_len/2+i])\n",
    "    for i in range(noise_num):\n",
    "        activations[i]=[(activations_temp+np.random.normal(0,noise_level[i],[activation_num, time_len])).T for s in range(subject_num)]\n",
    "\n",
    "level1_correlations,level2_correlations = np.zeros([noise_num, time_len-sliding_window_length+1]),np.zeros([noise_num, time_len-2*sliding_window_length+2])\n",
    "level1_MSE, level2_MSE = np.zeros([noise_num, time_len-sliding_window_length+1]),np.zeros([noise_num, time_len-2*sliding_window_length+2])\n",
    "for i in range(repetitions):\n",
    "    cholesky_ramp_correlation_data()\n",
    "    for n in range(noise_num):\n",
    "        timecorr_level1 = levelup(activations[n],\"across\")\n",
    "        temp = levelup(activations[n],\"within\")\n",
    "        for z in range(len(temp)):\n",
    "            temp[z] = temp[z].T\n",
    "        timecorr_level2 = levelup(temp,\"across\")\n",
    "        \n",
    "        sliding_window_level1 = sliding_window_levelup(activations[n],\"across\")\n",
    "        temp = sliding_window_levelup(activations[n],\"within\")\n",
    "        for z in range(len(temp)):\n",
    "            temp[z] = temp[z].T\n",
    "        sliding_window_level2 = sliding_window_levelup(temp,\"across\")\n",
    "        \n",
    "        for t in range(time_len-sliding_window_length+1):\n",
    "            otc = pearsonr(timecorr_level1[t+sliding_window_length/2], sliding_window_level1[t])[0]\n",
    "            level1_correlations[n,t] += 0.5 * (log(1+otc) - log(1-otc))\n",
    "            level1_MSE[n,t] += np.sum(np.square(timecorr_level1[t+sliding_window_length/2]-sliding_window_level1[t]))\n",
    "        \n",
    "        for t in range(time_len-2*sliding_window_length+2):\n",
    "            otc = pearsonr(timecorr_level2[t+sliding_window_length], sliding_window_level2[t])[0]\n",
    "            level2_correlations[n,t] += 0.5 * (log(1+otc) - log(1-otc))\n",
    "            level2_MSE[n,t] += np.sum(np.square(timecorr_level2[t+sliding_window_length]-sliding_window_level2[t]))\n",
    "\n",
    "level1_correlations /= repetitions\n",
    "level1_correlations =  (np.exp(2*level1_correlations) - 1)/(np.exp(2*level1_correlations) + 1)\n",
    "\n",
    "level2_correlations /= repetitions\n",
    "level2_correlations =  (np.exp(2*level2_correlations) - 1)/(np.exp(2*level2_correlations) + 1)\n",
    "\n",
    "level1_MSE/= repetitions\n",
    "level2_MSE/= repetitions\n",
    "\n",
    "f, (ax1,ax2,ax3,ax4) = plt.subplots(4,1, sharey='row', figsize=(28,24))\n",
    "plt.subplots_adjust(top=0.95)\n",
    "plt.suptitle(\"10 discrete correlations, each occupying a block of 100 timepoints\",fontsize=20)\n",
    "a1.set_ylabel(\"timecorr vs sliding window level 1 correlation\")\n",
    "a2.set_ylabel(\"timecorr vs sliding window level 1 MSE\")\n",
    "a3.set_ylabel(\"timecorr vs sliding window level 2 correlation\")\n",
    "a4.set_ylabel(\"timecorr vs sliding window level 2 MSE\")\n",
    "\n",
    "for v in range(noise_num): \n",
    "    a1.plot(range(sliding_window_length/2,time_len-sliding_window_length/2),level1_correlations[v],c='C'+str(i),alpha=1,linestyle='-', label=\"noise level \"+str(noise_level[v]))\n",
    "    a2.plot(range(sliding_window_length/2,time_len-sliding_window_length/2),level1_MSE[v],c='C'+str(i),alpha=1,linestyle='-', label=\"noise level \"+str(noise_level[v]))\n",
    "    \n",
    "    a3.plot(range(sliding_window_length-1,time_len-sliding_window_length+1),level2_correlations[v],c='r',alpha=1,linestyle='-', label=\"noise level \"+str(noise_level[v]))\n",
    "    a4.plot(range(sliding_window_length-1,time_len-sliding_window_length+1),level2_MSE[v],c='C1',alpha=0.5,linestyle='--', label=\"noise level \"+str(noise_level[v]))\n",
    "    \n",
    "a1.set_xlabel(\"time\")\n",
    "a2.set_xlabel(\"time\")\n",
    "a3.set_xlabel(\"time\")\n",
    "a4.set_xlabel(\"time\")\n",
    "a1.legend(bbox_to_anchor=(2, 1), loc=0)\n",
    "a2.legend(bbox_to_anchor=(2, 1), loc=0)\n",
    "a3.legend(bbox_to_anchor=(2, 1), loc=0)\n",
    "a4.legend(bbox_to_anchor=(2, 1), loc=0)\n",
    "f.subplots_adjust(hspace=0.2)\n",
    "plt.show()"
   ]
  },
  {
   "cell_type": "code",
   "execution_count": null,
   "metadata": {
    "collapsed": true
   },
   "outputs": [],
   "source": []
  }
 ],
 "metadata": {
  "kernelspec": {
   "display_name": "Python 2",
   "language": "python",
   "name": "python2"
  },
  "language_info": {
   "codemirror_mode": {
    "name": "ipython",
    "version": 2
   },
   "file_extension": ".py",
   "mimetype": "text/x-python",
   "name": "python",
   "nbconvert_exporter": "python",
   "pygments_lexer": "ipython2",
   "version": "2.7.13"
  }
 },
 "nbformat": 4,
 "nbformat_minor": 2
}
